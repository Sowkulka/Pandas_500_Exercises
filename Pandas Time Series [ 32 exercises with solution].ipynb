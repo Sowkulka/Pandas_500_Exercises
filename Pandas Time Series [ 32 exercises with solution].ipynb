{
 "cells": [
  {
   "cell_type": "markdown",
   "metadata": {},
   "source": [
    "# Pandas Time Series [ 32 exercises with solution]"
   ]
  },
  {
   "cell_type": "code",
   "execution_count": 10,
   "metadata": {},
   "outputs": [],
   "source": [
    "import pandas as pd\n",
    "import numpy as np\n",
    "import datetime\n",
    "from datetime import datetime"
   ]
  },
  {
   "cell_type": "markdown",
   "metadata": {},
   "source": [
    "### 1. Write a Pandas program to create Go to the editor\n",
    "a) Datetime object for Jan 15 2012.\n",
    "b) Specific date and time of 9:20 pm.\n",
    "c) Local date and time.\n",
    "d) A date without time.\n",
    "e) Current date.\n",
    "f) Time from a datetime.\n",
    "g) Current local time."
   ]
  },
  {
   "cell_type": "code",
   "execution_count": 6,
   "metadata": {},
   "outputs": [
    {
     "name": "stdout",
     "output_type": "stream",
     "text": [
      "Datetime object for Jan 11 2012:\n",
      "2012-01-11 00:00:00\n",
      "\n",
      "Specific date and time of 9:20 pm\n",
      "2011-01-11 21:20:00\n",
      "\n",
      "Local date and time:\n",
      "2021-03-25 08:46:57.343476\n",
      "\n",
      "A date without time: \n",
      "2012-05-22\n",
      "\n",
      "Current date:\n",
      "2021-03-25\n",
      "\n",
      "Time from a datetime:\n",
      "18:12:00\n",
      "\n",
      "Current local time:\n",
      "08:46:57.344472\n"
     ]
    }
   ],
   "source": [
    "print(\"Datetime object for Jan 11 2012:\")\n",
    "print(datetime(2012, 1, 11))\n",
    "print(\"\\nSpecific date and time of 9:20 pm\") \n",
    "print(datetime(2011, 1, 11, 21, 20))\n",
    "print(\"\\nLocal date and time:\")\n",
    "print(datetime.now())\n",
    "print(\"\\nA date without time: \")\n",
    "print(datetime.date(datetime(2012, 5, 22)))\n",
    "print(\"\\nCurrent date:\")\n",
    "print(datetime.now().date())\n",
    "print(\"\\nTime from a datetime:\")\n",
    "print(datetime.time(datetime(2012, 12, 15, 18, 12)))\n",
    "print(\"\\nCurrent local time:\") \n",
    "print(datetime.now().time())"
   ]
  },
  {
   "cell_type": "markdown",
   "metadata": {},
   "source": [
    "2. Write a Pandas program to create Go to the editor\n",
    "a) a specific date using timestamp.\n",
    "b) date and time using timestamp.\n",
    "c) a time adds in the current local date using timestamp.\n",
    "d) current date and time using timestamp."
   ]
  },
  {
   "cell_type": "code",
   "execution_count": 7,
   "metadata": {},
   "outputs": [
    {
     "name": "stdout",
     "output_type": "stream",
     "text": [
      "\n",
      "A specific date using timestamp:\n",
      "2016-11-10 00:00:00\n",
      "\n",
      "Date and time using timestamp:\n",
      "2012-05-03 11:30:00\n",
      "\n",
      "A time adds in the current local date using timestamp:\n",
      "2021-03-25 11:30:00\n",
      "\n",
      "Current date and time using timestamp:\n",
      "2021-03-25 08:47:00.029270\n"
     ]
    }
   ],
   "source": [
    "print(\"\\nA specific date using timestamp:\")\n",
    "print(pd.Timestamp('2016-11-10'))\n",
    "print(\"\\nDate and time using timestamp:\")\n",
    "print(pd.Timestamp('2012-05-03 11:30'))\n",
    "print(\"\\nA time adds in the current local date using timestamp:\")\n",
    "print(pd.Timestamp('11:30'))\n",
    "print(\"\\nCurrent date and time using timestamp:\")\n",
    "print(pd.Timestamp(\"now\"))"
   ]
  },
  {
   "cell_type": "markdown",
   "metadata": {},
   "source": [
    "### 3. Write a Pandas program to create a date from a given year, month, day and another date from a given string formats."
   ]
  },
  {
   "cell_type": "code",
   "execution_count": 8,
   "metadata": {},
   "outputs": [
    {
     "name": "stdout",
     "output_type": "stream",
     "text": [
      "Date from a given year, month, day:\n",
      "2020-12-25 00:00:00\n",
      "\n",
      "Date from a given string formats:\n",
      "2021-01-01 00:00:00\n"
     ]
    }
   ],
   "source": [
    "date1 = datetime(year=2020, month=12, day=25)\n",
    "print(\"Date from a given year, month, day:\")\n",
    "print(date1)\n",
    "from dateutil import parser\n",
    "date2 = parser.parse(\"1st of January, 2021\")\n",
    "print(\"\\nDate from a given string formats:\")\n",
    "print(date2)"
   ]
  },
  {
   "cell_type": "markdown",
   "metadata": {},
   "source": [
    "### 4. Write a Pandas program to print the day after and before a specified date. Also print the days between two given dates. "
   ]
  },
  {
   "cell_type": "code",
   "execution_count": 9,
   "metadata": {},
   "outputs": [
    {
     "name": "stdout",
     "output_type": "stream",
     "text": [
      "Current date: 2012-10-30 00:00:00\n",
      "Tomorrow: 2012-10-31 00:00:00\n",
      "Yesterday: 2012-10-29 00:00:00\n",
      "\n",
      "Difference between two dates:  14 days, 0:00:00\n"
     ]
    }
   ],
   "source": [
    "today = datetime(2012, 10, 30)\n",
    "print(\"Current date:\", today)\n",
    "tomorrow = today + pd.Timedelta(days=1)\n",
    "print(\"Tomorrow:\", tomorrow)\n",
    "yesterday = today - pd.Timedelta(days=1)\n",
    "print(\"Yesterday:\", yesterday)\n",
    "date1 = datetime(2016, 8, 2)\n",
    "date2 = datetime(2016, 7, 19)\n",
    "print(\"\\nDifference between two dates: \",(date1 - date2))"
   ]
  },
  {
   "cell_type": "markdown",
   "metadata": {},
   "source": [
    "### 5. Write a Pandas program to create a time-series with two index labels and random values. Also print the type of the index."
   ]
  },
  {
   "cell_type": "code",
   "execution_count": 11,
   "metadata": {},
   "outputs": [
    {
     "name": "stdout",
     "output_type": "stream",
     "text": [
      "Time-series with two index labels:\n",
      "2011-09-01   -0.252420\n",
      "2011-09-02    1.404049\n",
      "dtype: float64\n",
      "\n",
      "Type of the index:\n",
      "<class 'pandas.core.indexes.datetimes.DatetimeIndex'>\n"
     ]
    }
   ],
   "source": [
    "dates = [datetime(2011, 9, 1), datetime(2011, 9, 2)]\n",
    "print(\"Time-series with two index labels:\")\n",
    "time_series = pd.Series(np.random.randn(2), dates)\n",
    "print(time_series)\n",
    "print(\"\\nType of the index:\")\n",
    "print(type(time_series.index))"
   ]
  },
  {
   "cell_type": "markdown",
   "metadata": {},
   "source": [
    "### 6. Write a Pandas program to create a time-series from a given list of dates as strings. "
   ]
  },
  {
   "cell_type": "code",
   "execution_count": 12,
   "metadata": {},
   "outputs": [
    {
     "name": "stdout",
     "output_type": "stream",
     "text": [
      "2014-08-01   -1.216964\n",
      "2014-08-02    1.253259\n",
      "2014-08-03   -0.329256\n",
      "2014-08-04   -1.302359\n",
      "dtype: float64\n"
     ]
    }
   ],
   "source": [
    "dates = ['2014-08-01','2014-08-02','2014-08-03','2014-08-04']\n",
    "time_series = pd.Series(np.random.randn(4), dates)\n",
    "print(time_series)"
   ]
  },
  {
   "cell_type": "markdown",
   "metadata": {},
   "source": [
    "### 7. Write a Pandas program to create a time series object that has time indexed data. Also select the dates of same year and select the dates between certain dates."
   ]
  },
  {
   "cell_type": "code",
   "execution_count": 13,
   "metadata": {},
   "outputs": [
    {
     "name": "stdout",
     "output_type": "stream",
     "text": [
      "Time series object with indexed data:\n",
      "2011-09-02    0\n",
      "2012-08-04    1\n",
      "2015-09-03    2\n",
      "2010-08-04    3\n",
      "2015-03-03    4\n",
      "2011-08-04    5\n",
      "2015-04-03    6\n",
      "2012-08-04    7\n",
      "dtype: int64\n",
      "\n",
      "Dates of same year:\n",
      "2015-09-03    2\n",
      "2015-03-03    4\n",
      "2015-04-03    6\n",
      "dtype: int64\n",
      "\n",
      "Dates between 2012-01-01 and 2012-12-31\n",
      "2012-08-04    1\n",
      "2012-08-04    7\n",
      "dtype: int64\n"
     ]
    }
   ],
   "source": [
    "index = pd.DatetimeIndex(['2011-09-02', '2012-08-04',\n",
    "                          '2015-09-03', '2010-08-04',\n",
    "                          '2015-03-03', '2011-08-04',\n",
    "                          '2015-04-03', '2012-08-04'])\n",
    "\n",
    "s_dates = pd.Series([0, 1, 2, 3, 4, 5, 6, 7], index=index)\n",
    "\n",
    "print(\"Time series object with indexed data:\")\n",
    "print(s_dates)\n",
    "print(\"\\nDates of same year:\")\n",
    "print(s_dates['2015'])\n",
    "print(\"\\nDates between 2012-01-01 and 2012-12-31\")\n",
    "print(s_dates['2012-01-01':'2012-12-31']) "
   ]
  },
  {
   "cell_type": "markdown",
   "metadata": {},
   "source": [
    "###  8. Write a Pandas program to create a date range using a startpoint date and a number of periods. "
   ]
  },
  {
   "cell_type": "code",
   "execution_count": 14,
   "metadata": {},
   "outputs": [
    {
     "name": "stdout",
     "output_type": "stream",
     "text": [
      "Date range of perods 45:\n",
      "DatetimeIndex(['2020-01-01', '2020-01-02', '2020-01-03', '2020-01-04',\n",
      "               '2020-01-05', '2020-01-06', '2020-01-07', '2020-01-08',\n",
      "               '2020-01-09', '2020-01-10', '2020-01-11', '2020-01-12',\n",
      "               '2020-01-13', '2020-01-14', '2020-01-15', '2020-01-16',\n",
      "               '2020-01-17', '2020-01-18', '2020-01-19', '2020-01-20',\n",
      "               '2020-01-21', '2020-01-22', '2020-01-23', '2020-01-24',\n",
      "               '2020-01-25', '2020-01-26', '2020-01-27', '2020-01-28',\n",
      "               '2020-01-29', '2020-01-30', '2020-01-31', '2020-02-01',\n",
      "               '2020-02-02', '2020-02-03', '2020-02-04', '2020-02-05',\n",
      "               '2020-02-06', '2020-02-07', '2020-02-08', '2020-02-09',\n",
      "               '2020-02-10', '2020-02-11', '2020-02-12', '2020-02-13',\n",
      "               '2020-02-14'],\n",
      "              dtype='datetime64[ns]', freq='D')\n"
     ]
    }
   ],
   "source": [
    "date_range = pd.date_range('2020-01-01', periods=45)\n",
    "print(\"Date range of perods 45:\")\n",
    "print(date_range)"
   ]
  },
  {
   "cell_type": "markdown",
   "metadata": {},
   "source": [
    "###  9. Write a Pandas program to create a whole month of dates in daily frequencies. Also find the maximum, minimum timestamp and indexs. "
   ]
  },
  {
   "cell_type": "code",
   "execution_count": 15,
   "metadata": {},
   "outputs": [
    {
     "name": "stdout",
     "output_type": "stream",
     "text": [
      "Month of December 2020:\n",
      "0    2020-12-01\n",
      "1    2020-12-02\n",
      "2    2020-12-03\n",
      "3    2020-12-04\n",
      "4    2020-12-05\n",
      "5    2020-12-06\n",
      "6    2020-12-07\n",
      "7    2020-12-08\n",
      "8    2020-12-09\n",
      "9    2020-12-10\n",
      "10   2020-12-11\n",
      "11   2020-12-12\n",
      "12   2020-12-13\n",
      "13   2020-12-14\n",
      "14   2020-12-15\n",
      "15   2020-12-16\n",
      "16   2020-12-17\n",
      "17   2020-12-18\n",
      "18   2020-12-19\n",
      "19   2020-12-20\n",
      "20   2020-12-21\n",
      "21   2020-12-22\n",
      "22   2020-12-23\n",
      "23   2020-12-24\n",
      "24   2020-12-25\n",
      "25   2020-12-26\n",
      "26   2020-12-27\n",
      "27   2020-12-28\n",
      "28   2020-12-29\n",
      "29   2020-12-30\n",
      "30   2020-12-31\n",
      "dtype: datetime64[ns]\n",
      "\n",
      "Maximum date:  2020-12-31 00:00:00\n",
      "Minimum date:  2020-12-01 00:00:00\n",
      "Maximum index:  30\n",
      "Minimum index:  0\n"
     ]
    }
   ],
   "source": [
    "dates = pd.Series(pd.date_range('2020-12-01',periods=31, freq='D'))\n",
    "print(\"Month of December 2020:\")\n",
    "print(dates)\n",
    "dates = pd.Series(pd.date_range('2020-12-01',periods=31, freq='D'))\n",
    "print(\"\\nMaximum date: \", dates.max())\n",
    "print(\"Minimum date: \", dates.min())\n",
    "print(\"Maximum index: \", dates.idxmax())\n",
    "print(\"Minimum index: \", dates.idxmin())"
   ]
  },
  {
   "cell_type": "markdown",
   "metadata": {},
   "source": [
    "###  10. Write a Pandas program to create a time series using three months frequency. "
   ]
  },
  {
   "cell_type": "code",
   "execution_count": 16,
   "metadata": {},
   "outputs": [
    {
     "name": "stdout",
     "output_type": "stream",
     "text": [
      "Time series using three months frequency:\n",
      "DatetimeIndex(['2021-01-31', '2021-04-30', '2021-07-31', '2021-10-31',\n",
      "               '2022-01-31', '2022-04-30', '2022-07-31', '2022-10-31',\n",
      "               '2023-01-31', '2023-04-30', '2023-07-31', '2023-10-31',\n",
      "               '2024-01-31', '2024-04-30', '2024-07-31', '2024-10-31',\n",
      "               '2025-01-31', '2025-04-30', '2025-07-31', '2025-10-31',\n",
      "               '2026-01-31', '2026-04-30', '2026-07-31', '2026-10-31',\n",
      "               '2027-01-31', '2027-04-30', '2027-07-31', '2027-10-31',\n",
      "               '2028-01-31', '2028-04-30', '2028-07-31', '2028-10-31',\n",
      "               '2029-01-31', '2029-04-30', '2029-07-31', '2029-10-31'],\n",
      "              dtype='datetime64[ns]', freq='3M')\n"
     ]
    }
   ],
   "source": [
    "time_series = pd.date_range('1/1/2021', periods = 36, freq='3M')\n",
    "print(\"Time series using three months frequency:\")\n",
    "print(time_series) "
   ]
  },
  {
   "cell_type": "markdown",
   "metadata": {},
   "source": [
    "###  11. Write a Pandas program to create a sequence of durations increasing by an hour. "
   ]
  },
  {
   "cell_type": "code",
   "execution_count": 18,
   "metadata": {},
   "outputs": [
    {
     "name": "stdout",
     "output_type": "stream",
     "text": [
      "Hourly range of perods 49:\n",
      "TimedeltaIndex(['0 days 00:00:00', '0 days 01:00:00', '0 days 02:00:00',\n",
      "                '0 days 03:00:00', '0 days 04:00:00', '0 days 05:00:00',\n",
      "                '0 days 06:00:00', '0 days 07:00:00', '0 days 08:00:00',\n",
      "                '0 days 09:00:00', '0 days 10:00:00', '0 days 11:00:00',\n",
      "                '0 days 12:00:00', '0 days 13:00:00', '0 days 14:00:00',\n",
      "                '0 days 15:00:00', '0 days 16:00:00', '0 days 17:00:00',\n",
      "                '0 days 18:00:00', '0 days 19:00:00', '0 days 20:00:00',\n",
      "                '0 days 21:00:00', '0 days 22:00:00', '0 days 23:00:00',\n",
      "                '1 days 00:00:00', '1 days 01:00:00', '1 days 02:00:00',\n",
      "                '1 days 03:00:00', '1 days 04:00:00', '1 days 05:00:00',\n",
      "                '1 days 06:00:00', '1 days 07:00:00', '1 days 08:00:00',\n",
      "                '1 days 09:00:00', '1 days 10:00:00', '1 days 11:00:00',\n",
      "                '1 days 12:00:00', '1 days 13:00:00', '1 days 14:00:00',\n",
      "                '1 days 15:00:00', '1 days 16:00:00', '1 days 17:00:00',\n",
      "                '1 days 18:00:00', '1 days 19:00:00', '1 days 20:00:00',\n",
      "                '1 days 21:00:00', '1 days 22:00:00', '1 days 23:00:00',\n",
      "                '2 days 00:00:00'],\n",
      "               dtype='timedelta64[ns]', freq='H')\n"
     ]
    }
   ],
   "source": [
    "date_range = pd.timedelta_range(0, periods=49, freq='H')\n",
    "print(\"Hourly range of perods 49:\")\n",
    "print(date_range)"
   ]
  },
  {
   "cell_type": "markdown",
   "metadata": {},
   "source": [
    "### 12. Write a Pandas program to convert year and day of year into a single datetime column of a dataframe."
   ]
  },
  {
   "cell_type": "code",
   "execution_count": 19,
   "metadata": {},
   "outputs": [
    {
     "name": "stdout",
     "output_type": "stream",
     "text": [
      "Original DataFrame:\n",
      "   year  day_of_the_year\n",
      "0  2002              250\n",
      "1  2003              365\n",
      "2  2015                1\n",
      "3  2018              140\n",
      "\n",
      "New DataFrame:\n",
      "   year  day_of_the_year  combined       date\n",
      "0  2002              250   2002250 2002-09-07\n",
      "1  2003              365   2003365 2003-12-31\n",
      "2  2015                1   2015001 2015-01-01\n",
      "3  2018              140   2018140 2018-05-20\n"
     ]
    }
   ],
   "source": [
    "data = {\\\n",
    "\"year\": [2002, 2003, 2015, 2018],\n",
    "\"day_of_the_year\": [250, 365, 1, 140]\n",
    "}\n",
    "df = pd.DataFrame(data)\n",
    "print(\"Original DataFrame:\")\n",
    "print(df)\n",
    "df[\"combined\"] = df[\"year\"]*1000 + df[\"day_of_the_year\"]\n",
    "df[\"date\"] = pd.to_datetime(df[\"combined\"], format = \"%Y%j\")\n",
    "print(\"\\nNew DataFrame:\")\n",
    "print(df)"
   ]
  },
  {
   "cell_type": "markdown",
   "metadata": {},
   "source": [
    "###  13. Write a Pandas program to create a series of Timestamps from a DataFrame of integer or string columns. Also create a series of Timestamps using specified columns."
   ]
  },
  {
   "cell_type": "code",
   "execution_count": 20,
   "metadata": {},
   "outputs": [
    {
     "name": "stdout",
     "output_type": "stream",
     "text": [
      "Original dataframe:\n",
      "   year  month  day  hour\n",
      "0  2018      2    4     2\n",
      "1  2019      3    5     3\n",
      "2  2020      4    6     4\n",
      "\n",
      "Series of Timestamps from the said dataframe:\n",
      "0   2018-02-04 02:00:00\n",
      "1   2019-03-05 03:00:00\n",
      "2   2020-04-06 04:00:00\n",
      "dtype: datetime64[ns]\n",
      "\n",
      "Series of Timestamps using specified columns:\n",
      "0   2018-02-04\n",
      "1   2019-03-05\n",
      "2   2020-04-06\n",
      "dtype: datetime64[ns]\n"
     ]
    }
   ],
   "source": [
    "df = pd.DataFrame({'year': [2018, 2019, 2020],\n",
    "                   'month': [2, 3, 4],\n",
    "                   'day': [4, 5, 6],\n",
    "                   'hour': [2, 3, 4]})\n",
    "print(\"Original dataframe:\")\n",
    "print(df)\n",
    "result = pd.to_datetime(df)\n",
    "print(\"\\nSeries of Timestamps from the said dataframe:\")\n",
    "print(result)\n",
    "print(\"\\nSeries of Timestamps using specified columns:\")\n",
    "print(pd.to_datetime(df[['year', 'month', 'day']]))"
   ]
  },
  {
   "cell_type": "markdown",
   "metadata": {},
   "source": [
    "###  14. Write a Pandas program to check if a day is a business day (weekday) or not. "
   ]
  },
  {
   "cell_type": "code",
   "execution_count": 21,
   "metadata": {},
   "outputs": [
    {
     "name": "stdout",
     "output_type": "stream",
     "text": [
      "Check busines day or not?\n",
      "2020-12-01:  True\n",
      "2020-12-06:  False\n",
      "2020-12-07:  True\n",
      "2020-12-08:  True\n"
     ]
    }
   ],
   "source": [
    "def is_business_day(date):\n",
    "    return bool(len(pd.bdate_range(date, date)))\n",
    "print(\"Check busines day or not?\")\n",
    "print('2020-12-01: ',is_business_day('2020-12-01'))\n",
    "print('2020-12-06: ',is_business_day('2020-12-06'))\n",
    "print('2020-12-07: ',is_business_day('2020-12-07'))\n",
    "print('2020-12-08: ',is_business_day('2020-12-08'))"
   ]
  },
  {
   "cell_type": "markdown",
   "metadata": {},
   "source": [
    "###  15. Write a Pandas program to get a time series with the last working days of each month of a specific year. "
   ]
  },
  {
   "cell_type": "code",
   "execution_count": 22,
   "metadata": {},
   "outputs": [
    {
     "name": "stdout",
     "output_type": "stream",
     "text": [
      "last working days of each month of a specific year:\n",
      "         Date\n",
      "0  2021-01-29\n",
      "1  2021-02-26\n",
      "2  2021-03-31\n",
      "3  2021-04-30\n",
      "4  2021-05-31\n",
      "5  2021-06-30\n",
      "6  2021-07-30\n",
      "7  2021-08-31\n",
      "8  2021-09-30\n",
      "9  2021-10-29\n",
      "10 2021-11-30\n",
      "11 2021-12-31\n"
     ]
    }
   ],
   "source": [
    "s = pd.date_range('2021-01-01', periods=12, freq='BM')\n",
    "df = pd.DataFrame(s, columns=['Date'])\n",
    "print('last working days of each month of a specific year:')\n",
    "print(df)"
   ]
  },
  {
   "cell_type": "markdown",
   "metadata": {},
   "source": [
    "###  16. Write a Pandas program to create a time series combining hour and minute"
   ]
  },
  {
   "cell_type": "code",
   "execution_count": 24,
   "metadata": {},
   "outputs": [
    {
     "name": "stdout",
     "output_type": "stream",
     "text": [
      "For a frequency of 1 hours 20 minutes, here we have combined the hour (H) and minute (T):\n",
      "\n",
      "TimedeltaIndex(['0 days 00:00:00', '0 days 01:20:00', '0 days 02:40:00',\n",
      "                '0 days 04:00:00', '0 days 05:20:00', '0 days 06:40:00',\n",
      "                '0 days 08:00:00', '0 days 09:20:00', '0 days 10:40:00',\n",
      "                '0 days 12:00:00', '0 days 13:20:00', '0 days 14:40:00',\n",
      "                '0 days 16:00:00', '0 days 17:20:00', '0 days 18:40:00',\n",
      "                '0 days 20:00:00', '0 days 21:20:00', '0 days 22:40:00',\n",
      "                '1 days 00:00:00', '1 days 01:20:00', '1 days 02:40:00',\n",
      "                '1 days 04:00:00', '1 days 05:20:00', '1 days 06:40:00',\n",
      "                '1 days 08:00:00', '1 days 09:20:00', '1 days 10:40:00',\n",
      "                '1 days 12:00:00', '1 days 13:20:00', '1 days 14:40:00'],\n",
      "               dtype='timedelta64[ns]', freq='80T')\n"
     ]
    }
   ],
   "source": [
    "result = pd.timedelta_range(0, periods=30, freq=\"1H20T\")\n",
    "print(\"For a frequency of 1 hours 20 minutes, here we have combined the hour (H) and minute (T):\\n\")\n",
    "print(result)"
   ]
  },
  {
   "cell_type": "markdown",
   "metadata": {},
   "source": [
    "###  17. Write a Pandas program to convert unix/epoch time to a regular time stamp in UTC. Also convert the said timestamp in to a given time zone. "
   ]
  },
  {
   "cell_type": "code",
   "execution_count": 25,
   "metadata": {},
   "outputs": [
    {
     "name": "stdout",
     "output_type": "stream",
     "text": [
      "Regular time stamp in UTC:\n",
      "2021-05-16 02:32:35\n",
      "\n",
      "Convert the said timestamp in to US/Pacific:\n",
      "2021-05-15 19:32:35-07:00\n",
      "\n",
      "Convert the said timestamp in to Europe/Berlin:\n",
      "2021-05-16 04:32:35+02:00\n"
     ]
    }
   ],
   "source": [
    "epoch_t = 1621132355\n",
    "time_stamp = pd.to_datetime(epoch_t, unit='s')\n",
    "# UTC (Coordinated Universal Time) is one of the well-known names of UTC+0 time zone which is 0h.\n",
    "# By default, time series objects of pandas do not have an assigned time zone.\n",
    "print(\"Regular time stamp in UTC:\")\n",
    "print(time_stamp)\n",
    "print(\"\\nConvert the said timestamp in to US/Pacific:\")\n",
    "print(time_stamp.tz_localize('UTC').tz_convert('US/Pacific'))\n",
    "print(\"\\nConvert the said timestamp in to Europe/Berlin:\")\n",
    "print(time_stamp.tz_localize('UTC').tz_convert('Europe/Berlin'))"
   ]
  },
  {
   "cell_type": "markdown",
   "metadata": {},
   "source": [
    "###  18. Write a Pandas program to create a time series object with a time zone. "
   ]
  },
  {
   "cell_type": "code",
   "execution_count": 26,
   "metadata": {},
   "outputs": [
    {
     "name": "stdout",
     "output_type": "stream",
     "text": [
      "Timezone: Europe/Berlin:\n",
      "Using pytz:\n",
      "Europe/Berlin\n",
      "Using dateutil:\n",
      "tzfile('Europe/Berlin')\n",
      "\n",
      "US/Pacific:\n",
      "Using pytz:\n",
      "US/Pacific\n",
      "Using dateutil:\n",
      "tzfile('US/Pacific')\n"
     ]
    }
   ],
   "source": [
    "print(\"Timezone: Europe/Berlin:\")\n",
    "print(\"Using pytz:\")\n",
    "date_pytz = pd.Timestamp('2019-01-01', tz = 'Europe/Berlin')\n",
    "print(date_pytz.tz)  \n",
    "print(\"Using dateutil:\")\n",
    "date_util = pd.Timestamp('2019-01-01', tz = 'dateutil/Europe/Berlin')\n",
    "print(date_util.tz)\n",
    "print(\"\\nUS/Pacific:\")\n",
    "print(\"Using pytz:\")\n",
    "date_pytz = pd.Timestamp('2019-01-01', tz = 'US/Pacific')\n",
    "print(date_pytz.tz)  \n",
    "print(\"Using dateutil:\")\n",
    "date_util = pd.Timestamp('2019-01-01', tz = 'dateutil/US/Pacific')\n",
    "print(date_util.tz)"
   ]
  },
  {
   "cell_type": "markdown",
   "metadata": {},
   "source": [
    "###  19. Write a Pandas program to remove the time zone information from a Time series data. "
   ]
  },
  {
   "cell_type": "code",
   "execution_count": 27,
   "metadata": {},
   "outputs": [
    {
     "name": "stdout",
     "output_type": "stream",
     "text": [
      "Time series data with time zone:\n",
      "2019-01-01 00:00:00+01:00\n",
      "2019-01-01 00:00:00-08:00\n",
      "2019-01-01 00:00:00-05:00\n",
      "\n",
      "Time series data without time zone:\n",
      "2019-01-01 00:00:00\n",
      "2019-01-01 00:00:00\n",
      "2019-01-01 00:00:00\n"
     ]
    }
   ],
   "source": [
    "date1 = pd.Timestamp('2019-01-01', tz='Europe/Berlin')\n",
    "date2 = pd.Timestamp('2019-01-01', tz='US/Pacific')\n",
    "date3 = pd.Timestamp('2019-01-01', tz='US/Eastern')\n",
    "print(\"Time series data with time zone:\")\n",
    "print(date1)\n",
    "print(date2)\n",
    "print(date3)\n",
    "print(\"\\nTime series data without time zone:\")\n",
    "print(date1.tz_localize(None))\n",
    "print(date2.tz_localize(None))\n",
    "print(date3.tz_localize(None))"
   ]
  },
  {
   "cell_type": "markdown",
   "metadata": {},
   "source": [
    "###  20. Write a Pandas program to subtract two timestamps of same time zone or different time zone. "
   ]
  },
  {
   "cell_type": "code",
   "execution_count": 28,
   "metadata": {},
   "outputs": [
    {
     "name": "stdout",
     "output_type": "stream",
     "text": [
      "Subtract two timestamps of same time zone:\n",
      "Difference:  30 days 18:00:00\n",
      "\n",
      "Subtract two timestamps of different time zone:\n",
      "Difference:  0 days 05:00:00\n"
     ]
    }
   ],
   "source": [
    "print(\"Subtract two timestamps of same time zone:\")\n",
    "date1 = pd.Timestamp('2019-03-01 12:00', tz='US/Eastern')\n",
    "date2 = pd.Timestamp('2019-04-01 07:00', tz='US/Eastern')\n",
    "print(\"Difference: \", (date2-date1))\n",
    "print(\"\\nSubtract two timestamps of different time zone:\")\n",
    "date1 = pd.Timestamp('2019-03-01 12:00', tz='US/Eastern')\n",
    "date2 = pd.Timestamp('2019-03-01 07:00', tz='US/Pacific')\n",
    "# Remove the time zone and do the subtraction\n",
    "print(\"Difference: \", (date1.tz_localize(None) - date2.tz_localize(None)))"
   ]
  },
  {
   "cell_type": "markdown",
   "metadata": {},
   "source": [
    "###  21. Write a Pandas program to calculate all Thursdays between two given days. "
   ]
  },
  {
   "cell_type": "code",
   "execution_count": 29,
   "metadata": {},
   "outputs": [
    {
     "name": "stdout",
     "output_type": "stream",
     "text": [
      "All Thursdays between 2020-01-01 and 2020-12-31:\n",
      "\n",
      "['2020-01-02T00:00:00.000000000' '2020-01-09T00:00:00.000000000'\n",
      " '2020-01-16T00:00:00.000000000' '2020-01-23T00:00:00.000000000'\n",
      " '2020-01-30T00:00:00.000000000' '2020-02-06T00:00:00.000000000'\n",
      " '2020-02-13T00:00:00.000000000' '2020-02-20T00:00:00.000000000'\n",
      " '2020-02-27T00:00:00.000000000' '2020-03-05T00:00:00.000000000'\n",
      " '2020-03-12T00:00:00.000000000' '2020-03-19T00:00:00.000000000'\n",
      " '2020-03-26T00:00:00.000000000' '2020-04-02T00:00:00.000000000'\n",
      " '2020-04-09T00:00:00.000000000' '2020-04-16T00:00:00.000000000'\n",
      " '2020-04-23T00:00:00.000000000' '2020-04-30T00:00:00.000000000'\n",
      " '2020-05-07T00:00:00.000000000' '2020-05-14T00:00:00.000000000'\n",
      " '2020-05-21T00:00:00.000000000' '2020-05-28T00:00:00.000000000'\n",
      " '2020-06-04T00:00:00.000000000' '2020-06-11T00:00:00.000000000'\n",
      " '2020-06-18T00:00:00.000000000' '2020-06-25T00:00:00.000000000'\n",
      " '2020-07-02T00:00:00.000000000' '2020-07-09T00:00:00.000000000'\n",
      " '2020-07-16T00:00:00.000000000' '2020-07-23T00:00:00.000000000'\n",
      " '2020-07-30T00:00:00.000000000' '2020-08-06T00:00:00.000000000'\n",
      " '2020-08-13T00:00:00.000000000' '2020-08-20T00:00:00.000000000'\n",
      " '2020-08-27T00:00:00.000000000' '2020-09-03T00:00:00.000000000'\n",
      " '2020-09-10T00:00:00.000000000' '2020-09-17T00:00:00.000000000'\n",
      " '2020-09-24T00:00:00.000000000' '2020-10-01T00:00:00.000000000'\n",
      " '2020-10-08T00:00:00.000000000' '2020-10-15T00:00:00.000000000'\n",
      " '2020-10-22T00:00:00.000000000' '2020-10-29T00:00:00.000000000'\n",
      " '2020-11-05T00:00:00.000000000' '2020-11-12T00:00:00.000000000'\n",
      " '2020-11-19T00:00:00.000000000' '2020-11-26T00:00:00.000000000'\n",
      " '2020-12-03T00:00:00.000000000' '2020-12-10T00:00:00.000000000'\n",
      " '2020-12-17T00:00:00.000000000' '2020-12-24T00:00:00.000000000'\n",
      " '2020-12-31T00:00:00.000000000']\n"
     ]
    }
   ],
   "source": [
    "thursdays  = pd.date_range('2020-01-01', \n",
    "                           '2020-12-31', freq=\"W-THU\")\n",
    "print(\"All Thursdays between 2020-01-01 and 2020-12-31:\\n\")\n",
    "print(thursdays.values)"
   ]
  },
  {
   "cell_type": "markdown",
   "metadata": {},
   "source": [
    "###  22. Write a Pandas program to find the all the business quarterly begin and end dates of a specified year. "
   ]
  },
  {
   "cell_type": "code",
   "execution_count": null,
   "metadata": {},
   "outputs": [],
   "source": [
    "q_start_dates = pd.date_range('2020-01-01', '2020-12-31', freq='BQS-JUN')\n",
    "q_end_dates = pd.date_range('2020-01-01', '2020-12-31', freq='BQ-JUN')\n",
    "print(\"All the business quarterly begin dates of 2020:\")\n",
    "print(q_start_dates.values)\n",
    "print(\"\\nAll the business quarterly end dates of 2020:\")\n",
    "print(q_end_dates.values)"
   ]
  },
  {
   "cell_type": "markdown",
   "metadata": {},
   "source": [
    "###  23. Write a Pandas program to generate sequences of fixed-frequency dates and time spans intervals. "
   ]
  },
  {
   "cell_type": "code",
   "execution_count": null,
   "metadata": {},
   "outputs": [],
   "source": [
    "print(\"Sequences of fixed-frequency dates and time spans (1 H):\\n\")\n",
    "r1 = pd.date_range('2030-01-01', periods=10, freq='H')\n",
    "print(r1)\n",
    "print(\"\\nSequences of fixed-frequency dates and time spans (3 H):\\n\")\n",
    "r2 = pd.date_range('2030-01-01', periods=10, freq='3H')\n",
    "print(r2)"
   ]
  },
  {
   "cell_type": "markdown",
   "metadata": {},
   "source": [
    "###  24. Write a Pandas program to generate time series combining day and intraday offsets intervals. "
   ]
  },
  {
   "cell_type": "code",
   "execution_count": null,
   "metadata": {},
   "outputs": [],
   "source": [
    "dateset1 = pd.date_range('2029-01-01 00:00:00', periods=20, freq='3h10min')\n",
    "print(\"Time series with frequency 3h10min:\")\n",
    "print(dateset1)\n",
    "dateset2 = pd.date_range('2029-01-01 00:00:00', periods=20, freq='1D10min20U')\n",
    "print(\"\\nTime series with frequency 1 day 10 minutes and 20 microseconds:\")\n",
    "print(dateset2)"
   ]
  },
  {
   "cell_type": "markdown",
   "metadata": {},
   "source": [
    "###  25. Write a Pandas program to extract the day name from a specified date. Add 2 days and 1 business day with the specified date. "
   ]
  },
  {
   "cell_type": "code",
   "execution_count": null,
   "metadata": {},
   "outputs": [],
   "source": [
    "dateset1 = pd.date_range('2029-01-01 00:00:00', periods=20, freq='3h10min')\n",
    "print(\"Time series with frequency 3h10min:\")\n",
    "print(dateset1)\n",
    "dateset2 = pd.date_range('2029-01-01 00:00:00', periods=20, freq='1D10min20U')\n",
    "print(\"\\nTime series with frequency 1 day 10 minutes and 20 microseconds:\")\n",
    "print(dateset2)"
   ]
  },
  {
   "cell_type": "markdown",
   "metadata": {},
   "source": [
    "###  26. Write a Pandas program to convert integer or float epoch times to Timestamp and DatetimeIndex. "
   ]
  },
  {
   "cell_type": "code",
   "execution_count": null,
   "metadata": {},
   "outputs": [],
   "source": [
    "dateset1 = pd.date_range('2029-01-01 00:00:00', periods=20, freq='3h10min')\n",
    "print(\"Time series with frequency 3h10min:\")\n",
    "print(dateset1)\n",
    "dateset2 = pd.date_range('2029-01-01 00:00:00', periods=20, freq='1D10min20U')\n",
    "print(\"\\nTime series with frequency 1 day 10 minutes and 20 microseconds:\")\n",
    "print(dateset2)"
   ]
  },
  {
   "cell_type": "markdown",
   "metadata": {},
   "source": [
    "###  27. Write a Pandas program to calculate one, two, three business day(s) from a specified date. Also find the next business month end from a specific date."
   ]
  },
  {
   "cell_type": "code",
   "execution_count": 31,
   "metadata": {},
   "outputs": [
    {
     "name": "stdout",
     "output_type": "stream",
     "text": [
      "Specified date:\n",
      "2020-01-04 00:00:00\n",
      "\n",
      "One business day from the said date:\n",
      "2020-01-06 00:00:00\n",
      "\n",
      "Two business days from the said date:\n",
      "2020-01-07 00:00:00\n",
      "\n",
      "Three business days from the said date:\n",
      "2020-01-08 00:00:00\n",
      "\n",
      "Next business month end from the said date:\n",
      "2020-01-31 00:00:00\n"
     ]
    }
   ],
   "source": [
    "from pandas.tseries.offsets import *\n",
    "dt = datetime(2020, 1, 4)\n",
    "print(\"Specified date:\")\n",
    "print(dt)\n",
    "print(\"\\nOne business day from the said date:\")\n",
    "obday = dt + BusinessDay()\n",
    "print(obday)\n",
    "print(\"\\nTwo business days from the said date:\")\n",
    "tbday = dt + 2 * BusinessDay()\n",
    "print(tbday)\n",
    "print(\"\\nThree business days from the said date:\")\n",
    "thbday = dt + 3 * BusinessDay()\n",
    "print(thbday)\n",
    "print(\"\\nNext business month end from the said date:\")\n",
    "nbday = dt + BMonthEnd()\n",
    "print(nbday)"
   ]
  },
  {
   "cell_type": "markdown",
   "metadata": {},
   "source": [
    "###  28. Write a Pandas program to create a period index represent all monthly boundaries of a given year. Also print start and end time for each period object in the said index. "
   ]
  },
  {
   "cell_type": "code",
   "execution_count": 32,
   "metadata": {},
   "outputs": [
    {
     "name": "stdout",
     "output_type": "stream",
     "text": [
      "All monthly boundaries of a given year:\n",
      "PeriodIndex(['2020-01', '2020-02', '2020-03', '2020-04', '2020-05', '2020-06',\n",
      "             '2020-07', '2020-08', '2020-09', '2020-10', '2020-11', '2020-12'],\n",
      "            dtype='period[M]', freq='M')\n",
      "\n",
      "Start and end time for each period object in the said index:\n",
      "2020-01-01 00:00:00 2020-01-31 23:59:59.999999999\n",
      "2020-02-01 00:00:00 2020-02-29 23:59:59.999999999\n",
      "2020-03-01 00:00:00 2020-03-31 23:59:59.999999999\n",
      "2020-04-01 00:00:00 2020-04-30 23:59:59.999999999\n",
      "2020-05-01 00:00:00 2020-05-31 23:59:59.999999999\n",
      "2020-06-01 00:00:00 2020-06-30 23:59:59.999999999\n",
      "2020-07-01 00:00:00 2020-07-31 23:59:59.999999999\n",
      "2020-08-01 00:00:00 2020-08-31 23:59:59.999999999\n",
      "2020-09-01 00:00:00 2020-09-30 23:59:59.999999999\n",
      "2020-10-01 00:00:00 2020-10-31 23:59:59.999999999\n",
      "2020-11-01 00:00:00 2020-11-30 23:59:59.999999999\n",
      "2020-12-01 00:00:00 2020-12-31 23:59:59.999999999\n"
     ]
    }
   ],
   "source": [
    "sdt = datetime(2020, 1, 1)\n",
    "edt = datetime(2020, 12, 31)\n",
    "dateset = pd.period_range(sdt, edt, freq='M')\n",
    "print(\"All monthly boundaries of a given year:\")\n",
    "print(dateset) \n",
    "print(\"\\nStart and end time for each period object in the said index:\")\n",
    "for d in dateset: \n",
    "    print (\"{0} {1}\".format(d.start_time, d.end_time)) "
   ]
  },
  {
   "cell_type": "markdown",
   "metadata": {},
   "source": [
    "###  29. Write a Pandas program create a series with a PeriodIndex which represents all the calendar month periods in 2029 and 2031. Also print the values for all periods in 2030. \n",
    "Note: PeriodIndex is an immutable ndarray holding ordinal values indicating regular periods in time such as particular years, quarters, months, etc."
   ]
  },
  {
   "cell_type": "code",
   "execution_count": null,
   "metadata": {},
   "outputs": [],
   "source": [
    "pi = pd.Series(np.random.randn(36), \n",
    "               pd.period_range('1/1/2029', \n",
    "                               '12/31/2031', freq='M'))\n",
    "print(\"PeriodIndex which represents all the calendar month periods in 2029 and 2030:\")\n",
    "print(pi)\n",
    "print(\"\\nValues for all periods in 2030:\")\n",
    "print(pi['2030'])"
   ]
  },
  {
   "cell_type": "markdown",
   "metadata": {},
   "source": [
    "###  30. Write a Pandas program to generate holidays between two dates using the US federal holiday calendar. "
   ]
  },
  {
   "cell_type": "code",
   "execution_count": 36,
   "metadata": {},
   "outputs": [
    {
     "name": "stdout",
     "output_type": "stream",
     "text": [
      "Holidays between 2021-01-01 and 2030-12-31 using the US federal holiday calendar.\n",
      "2021-01-01 00:00:00\n",
      "2021-01-18 00:00:00\n",
      "2021-02-15 00:00:00\n",
      "2021-05-31 00:00:00\n",
      "2021-07-05 00:00:00\n",
      "2021-09-06 00:00:00\n",
      "2021-10-11 00:00:00\n",
      "2021-11-11 00:00:00\n",
      "2021-11-25 00:00:00\n",
      "2021-12-24 00:00:00\n",
      "2021-12-31 00:00:00\n",
      "2022-01-17 00:00:00\n",
      "2022-02-21 00:00:00\n",
      "2022-05-30 00:00:00\n",
      "2022-07-04 00:00:00\n",
      "2022-09-05 00:00:00\n",
      "2022-10-10 00:00:00\n",
      "2022-11-11 00:00:00\n",
      "2022-11-24 00:00:00\n",
      "2022-12-26 00:00:00\n",
      "2023-01-02 00:00:00\n",
      "2023-01-16 00:00:00\n",
      "2023-02-20 00:00:00\n",
      "2023-05-29 00:00:00\n",
      "2023-07-04 00:00:00\n",
      "2023-09-04 00:00:00\n",
      "2023-10-09 00:00:00\n",
      "2023-11-10 00:00:00\n",
      "2023-11-23 00:00:00\n",
      "2023-12-25 00:00:00\n",
      "2024-01-01 00:00:00\n",
      "2024-01-15 00:00:00\n",
      "2024-02-19 00:00:00\n",
      "2024-05-27 00:00:00\n",
      "2024-07-04 00:00:00\n",
      "2024-09-02 00:00:00\n",
      "2024-10-14 00:00:00\n",
      "2024-11-11 00:00:00\n",
      "2024-11-28 00:00:00\n",
      "2024-12-25 00:00:00\n",
      "2025-01-01 00:00:00\n",
      "2025-01-20 00:00:00\n",
      "2025-02-17 00:00:00\n",
      "2025-05-26 00:00:00\n",
      "2025-07-04 00:00:00\n",
      "2025-09-01 00:00:00\n",
      "2025-10-13 00:00:00\n",
      "2025-11-11 00:00:00\n",
      "2025-11-27 00:00:00\n",
      "2025-12-25 00:00:00\n",
      "2026-01-01 00:00:00\n",
      "2026-01-19 00:00:00\n",
      "2026-02-16 00:00:00\n",
      "2026-05-25 00:00:00\n",
      "2026-07-03 00:00:00\n",
      "2026-09-07 00:00:00\n",
      "2026-10-12 00:00:00\n",
      "2026-11-11 00:00:00\n",
      "2026-11-26 00:00:00\n",
      "2026-12-25 00:00:00\n",
      "2027-01-01 00:00:00\n",
      "2027-01-18 00:00:00\n",
      "2027-02-15 00:00:00\n",
      "2027-05-31 00:00:00\n",
      "2027-07-05 00:00:00\n",
      "2027-09-06 00:00:00\n",
      "2027-10-11 00:00:00\n",
      "2027-11-11 00:00:00\n",
      "2027-11-25 00:00:00\n",
      "2027-12-24 00:00:00\n",
      "2027-12-31 00:00:00\n",
      "2028-01-17 00:00:00\n",
      "2028-02-21 00:00:00\n",
      "2028-05-29 00:00:00\n",
      "2028-07-04 00:00:00\n",
      "2028-09-04 00:00:00\n",
      "2028-10-09 00:00:00\n",
      "2028-11-10 00:00:00\n",
      "2028-11-23 00:00:00\n",
      "2028-12-25 00:00:00\n",
      "2029-01-01 00:00:00\n",
      "2029-01-15 00:00:00\n",
      "2029-02-19 00:00:00\n",
      "2029-05-28 00:00:00\n",
      "2029-07-04 00:00:00\n",
      "2029-09-03 00:00:00\n",
      "2029-10-08 00:00:00\n",
      "2029-11-12 00:00:00\n",
      "2029-11-22 00:00:00\n",
      "2029-12-25 00:00:00\n",
      "2030-01-01 00:00:00\n",
      "2030-01-21 00:00:00\n",
      "2030-02-18 00:00:00\n",
      "2030-05-27 00:00:00\n",
      "2030-07-04 00:00:00\n",
      "2030-09-02 00:00:00\n",
      "2030-10-14 00:00:00\n",
      "2030-11-11 00:00:00\n",
      "2030-11-28 00:00:00\n",
      "2030-12-25 00:00:00\n"
     ]
    }
   ],
   "source": [
    "from pandas.tseries.holiday import *\n",
    "sdt = datetime(2021, 1, 1)\n",
    "edt = datetime(2030, 12, 31)\n",
    "print(\"Holidays between 2021-01-01 and 2030-12-31 using the US federal holiday calendar.\")\n",
    "cal = USFederalHolidayCalendar()\n",
    "for dt in cal.holidays(start=sdt, end=edt): \n",
    "    print (dt)"
   ]
  },
  {
   "cell_type": "markdown",
   "metadata": {},
   "source": [
    "###  31. Write a Pandas program to create a monthly time period and display the list of names in the current local scope. "
   ]
  },
  {
   "cell_type": "code",
   "execution_count": 34,
   "metadata": {},
   "outputs": [
    {
     "name": "stdout",
     "output_type": "stream",
     "text": [
      "Monthly time perid:  2021-11\n",
      "\n",
      "List of names in the current local scope:\n",
      "['__add__', '__class__', '__delattr__', '__dict__', '__dir__', '__doc__', '__eq__', '__format__', '__ge__', '__getattribute__', '__gt__', '__hash__', '__init__', '__init_subclass__', '__le__', '__lt__', '__module__', '__ne__', '__new__', '__radd__', '__reduce__', '__reduce_ex__', '__repr__', '__rsub__', '__setattr__', '__setstate__', '__sizeof__', '__str__', '__sub__', '__subclasshook__', '__weakref__', '_add_delta', '_from_ordinal', '_maybe_convert_freq', '_typ', 'asfreq', 'day', 'dayofweek', 'dayofyear', 'days_in_month', 'daysinmonth', 'end_time', 'freq', 'freqstr', 'hour', 'is_leap_year', 'minute', 'month', 'now', 'ordinal', 'quarter', 'qyear', 'second', 'start_time', 'strftime', 'to_timestamp', 'week', 'weekday', 'weekofyear', 'year']\n"
     ]
    }
   ],
   "source": [
    "mtp = pd.Period('2021-11','M')\n",
    "print(\"Monthly time perid: \",mtp)\n",
    "print(\"\\nList of names in the current local scope:\")\n",
    "print(dir(mtp)) "
   ]
  },
  {
   "cell_type": "markdown",
   "metadata": {},
   "source": [
    "###  32. Write a Pandas program to create a yearly time period from a specified year and display the properties of this period. "
   ]
  },
  {
   "cell_type": "code",
   "execution_count": 33,
   "metadata": {},
   "outputs": [
    {
     "name": "stdout",
     "output_type": "stream",
     "text": [
      "Yearly time perid: 2020\n",
      "\n",
      "All the properties of the said period:\n",
      "['__add__', '__class__', '__delattr__', '__dict__', '__dir__', '__doc__', '__eq__', '__format__', '__ge__', '__getattribute__', '__gt__', '__hash__', '__init__', '__init_subclass__', '__le__', '__lt__', '__module__', '__ne__', '__new__', '__radd__', '__reduce__', '__reduce_ex__', '__repr__', '__rsub__', '__setattr__', '__setstate__', '__sizeof__', '__str__', '__sub__', '__subclasshook__', '__weakref__', '_add_delta', '_from_ordinal', '_maybe_convert_freq', '_typ', 'asfreq', 'day', 'dayofweek', 'dayofyear', 'days_in_month', 'daysinmonth', 'end_time', 'freq', 'freqstr', 'hour', 'is_leap_year', 'minute', 'month', 'now', 'ordinal', 'quarter', 'qyear', 'second', 'start_time', 'strftime', 'to_timestamp', 'week', 'weekday', 'weekofyear', 'year']\n"
     ]
    }
   ],
   "source": [
    "ytp = pd.Period('2020','A-DEC')\n",
    "print(\"Yearly time perid:\",ytp)\n",
    "print(\"\\nAll the properties of the said period:\")\n",
    "print(dir(ytp))"
   ]
  },
  {
   "cell_type": "code",
   "execution_count": null,
   "metadata": {},
   "outputs": [],
   "source": []
  }
 ],
 "metadata": {
  "kernelspec": {
   "display_name": "Python 3",
   "language": "python",
   "name": "python3"
  },
  "language_info": {
   "codemirror_mode": {
    "name": "ipython",
    "version": 3
   },
   "file_extension": ".py",
   "mimetype": "text/x-python",
   "name": "python",
   "nbconvert_exporter": "python",
   "pygments_lexer": "ipython3",
   "version": "3.8.3"
  }
 },
 "nbformat": 4,
 "nbformat_minor": 4
}
