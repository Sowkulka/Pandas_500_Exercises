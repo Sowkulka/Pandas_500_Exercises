{
 "cells": [
  {
   "cell_type": "code",
   "execution_count": 1,
   "metadata": {},
   "outputs": [],
   "source": [
    "import pandas as pd\n",
    "import numpy as nd"
   ]
  },
  {
   "cell_type": "markdown",
   "metadata": {},
   "source": [
    "### 1. Write a Pandas program to display the dimensions or shape of the World alcohol consumption dataset. Also extract the column names from the dataset. "
   ]
  },
  {
   "cell_type": "code",
   "execution_count": 3,
   "metadata": {},
   "outputs": [
    {
     "name": "stdout",
     "output_type": "stream",
     "text": [
      "World alcohol consumption sample data:\n",
      "   Year       WHO region                Country Beverage Types  Display Value\n",
      "0  1986  Western Pacific               Viet Nam           Wine           0.00\n",
      "1  1986         Americas                Uruguay          Other           0.50\n",
      "2  1985           Africa           Cte d'Ivoire           Wine           1.62\n",
      "3  1986         Americas               Colombia           Beer           4.27\n",
      "4  1987         Americas  Saint Kitts and Nevis           Beer           1.98\n",
      "\n",
      "Shape of the dataframe:  (100, 5)\n",
      "\n",
      "Number of rows:  100\n",
      "\n",
      "Number of column:  5\n",
      "\n",
      "Extract Column Names:\n",
      "['Year', 'WHO region', 'Country', 'Beverage Types', 'Display Value']\n"
     ]
    }
   ],
   "source": [
    "w_a_con = pd.read_csv('world_alcohol.csv')\n",
    "print(\"World alcohol consumption sample data:\")\n",
    "print(w_a_con.head())\n",
    "print('\\nShape of the dataframe: ',w_a_con.shape)\n",
    "print('\\nNumber of rows: ',w_a_con.shape[0])\n",
    "print('\\nNumber of column: ',w_a_con.shape[1])\n",
    "print(\"\\nExtract Column Names:\")\n",
    "print(w_a_con.columns.tolist())"
   ]
  },
  {
   "cell_type": "markdown",
   "metadata": {},
   "source": [
    "### 2. Write a Pandas program to select first 2 rows, 2 columns and specific two columns from World alcohol consumption dataset."
   ]
  },
  {
   "cell_type": "code",
   "execution_count": 4,
   "metadata": {},
   "outputs": [
    {
     "name": "stdout",
     "output_type": "stream",
     "text": [
      "\n",
      "Select first 2 rows:\n",
      "   Year       WHO region   Country Beverage Types  Display Value\n",
      "0  1986  Western Pacific  Viet Nam           Wine            0.0\n",
      "1  1986         Americas   Uruguay          Other            0.5\n",
      "\n",
      "Select first 2 columns:\n",
      "   Year       WHO region\n",
      "0  1986  Western Pacific\n",
      "1  1986         Americas\n",
      "2  1985           Africa\n",
      "3  1986         Americas\n",
      "4  1987         Americas\n",
      "\n",
      "Select 2 specific columns:\n",
      "    Display Value  Year\n",
      "0            0.00  1986\n",
      "1            0.50  1986\n",
      "2            1.62  1985\n",
      "3            4.27  1986\n",
      "4            1.98  1987\n",
      "..            ...   ...\n",
      "95           0.00  1984\n",
      "96           7.38  1985\n",
      "97           0.00  1984\n",
      "98           0.00  1984\n",
      "99           0.00  1985\n",
      "\n",
      "[100 rows x 2 columns]\n"
     ]
    }
   ],
   "source": [
    "print(\"\\nSelect first 2 rows:\")\n",
    "print(w_a_con.iloc[:2])\n",
    "print(\"\\nSelect first 2 columns:\")\n",
    "print(w_a_con.iloc[:,:2].head())\n",
    "print(\"\\nSelect 2 specific columns:\")\n",
    "print(w_a_con[['Display Value', 'Year']])"
   ]
  },
  {
   "cell_type": "markdown",
   "metadata": {},
   "source": [
    "### 3. Write a Pandas program to select random number of rows, fraction of random rows from World alcohol consumption dataset."
   ]
  },
  {
   "cell_type": "code",
   "execution_count": 6,
   "metadata": {},
   "outputs": [
    {
     "name": "stdout",
     "output_type": "stream",
     "text": [
      "\n",
      "Select random number of rows:\n",
      "    Year WHO region         Country Beverage Types  Display Value\n",
      "41  1986     Europe  Czech Republic           Beer           6.82\n",
      "18  1984     Europe          Norway        Spirits           1.62\n",
      "57  1989     Europe         Croatia           Wine           5.10\n",
      "16  1984   Americas      Costa Rica           Wine           0.06\n",
      "71  1985     Africa            Mali          Other           0.57\n",
      "\n",
      "Select fraction of randome rows:\n",
      "    Year WHO region  Country Beverage Types  Display Value\n",
      "47  1986   Americas   Mexico          Other           0.04\n",
      "1   1986   Americas  Uruguay          Other           0.50\n"
     ]
    }
   ],
   "source": [
    "print(\"\\nSelect random number of rows:\")\n",
    "print(w_a_con.sample(5))\n",
    "print(\"\\nSelect fraction of randome rows:\")\n",
    "print(w_a_con.sample(frac=0.02))"
   ]
  },
  {
   "cell_type": "markdown",
   "metadata": {},
   "source": [
    "### 4.Write a Pandas program to find and drop the missing values from World alcohol consumption dataset.  "
   ]
  },
  {
   "cell_type": "code",
   "execution_count": 7,
   "metadata": {},
   "outputs": [
    {
     "name": "stdout",
     "output_type": "stream",
     "text": [
      "\n",
      "Missing values:\n",
      "     Year  WHO region  Country  Beverage Types  Display Value\n",
      "0   False       False    False           False          False\n",
      "1   False       False    False           False          False\n",
      "2   False       False    False           False          False\n",
      "3   False       False    False           False          False\n",
      "4   False       False    False           False          False\n",
      "..    ...         ...      ...             ...            ...\n",
      "95  False       False    False           False          False\n",
      "96  False       False    False           False          False\n",
      "97  False       False    False           False          False\n",
      "98  False       False    False           False          False\n",
      "99  False       False    False           False          False\n",
      "\n",
      "[100 rows x 5 columns]\n",
      "\n",
      "Dropping the missing values:\n",
      "    Year       WHO region                                Country  \\\n",
      "0   1986  Western Pacific                               Viet Nam   \n",
      "1   1986         Americas                                Uruguay   \n",
      "2   1985           Africa                           Cte d'Ivoire   \n",
      "3   1986         Americas                               Colombia   \n",
      "4   1987         Americas                  Saint Kitts and Nevis   \n",
      "..   ...              ...                                    ...   \n",
      "95  1984           Africa                                  Niger   \n",
      "96  1985           Europe                             Luxembourg   \n",
      "97  1984  South-East Asia                              Indonesia   \n",
      "98  1984           Africa                      Equatorial Guinea   \n",
      "99  1985  South-East Asia  Democratic People's Republic of Korea   \n",
      "\n",
      "   Beverage Types  Display Value  \n",
      "0            Wine           0.00  \n",
      "1           Other           0.50  \n",
      "2            Wine           1.62  \n",
      "3            Beer           4.27  \n",
      "4            Beer           1.98  \n",
      "..            ...            ...  \n",
      "95          Other           0.00  \n",
      "96           Wine           7.38  \n",
      "97           Wine           0.00  \n",
      "98           Wine           0.00  \n",
      "99           Wine           0.00  \n",
      "\n",
      "[95 rows x 5 columns]\n"
     ]
    }
   ],
   "source": [
    "print(\"\\nMissing values:\")\n",
    "print(w_a_con.isnull())\n",
    "print(\"\\nDropping the missing values:\")\n",
    "print(w_a_con.dropna())"
   ]
  },
  {
   "cell_type": "markdown",
   "metadata": {},
   "source": [
    "### 5. Write a Pandas program to remove the duplicates from 'WHO region' column of World alcohol consumption dataset."
   ]
  },
  {
   "cell_type": "code",
   "execution_count": 14,
   "metadata": {},
   "outputs": [
    {
     "name": "stdout",
     "output_type": "stream",
     "text": [
      "\n",
      "After removing the duplicates of WHO region column:\n",
      "    Year             WHO region       Country Beverage Types  Display Value\n",
      "0   1986        Western Pacific      Viet Nam           Wine           0.00\n",
      "1   1986               Americas       Uruguay          Other           0.50\n",
      "2   1985                 Africa  Cte d'Ivoire           Wine           1.62\n",
      "13  1984  Eastern Mediterranean   Afghanistan          Other           0.00\n",
      "18  1984                 Europe        Norway        Spirits           1.62\n",
      "20  1986        South-East Asia       Myanmar           Wine           0.00\n"
     ]
    }
   ],
   "source": [
    "print(\"\\nAfter removing the duplicates of WHO region column:\")\n",
    "print(w_a_con.drop_duplicates('WHO region'))"
   ]
  },
  {
   "cell_type": "markdown",
   "metadata": {},
   "source": [
    "### 6. Write a Pandas program to find out the alcohol consumption of a given year from the world alcohol consumption dataset. "
   ]
  },
  {
   "cell_type": "code",
   "execution_count": null,
   "metadata": {},
   "outputs": [],
   "source": [
    "print(\"\\nThe world alcohol consumption details in the year 1985:\")\n",
    "print(w_a_con[w_a_con['Year']==1985].head(10))\n",
    "print(\"\\nThe world alcohol consumption details in the year 1989:\")\n",
    "print(w_a_con[w_a_con['Year']==1989].head(10))"
   ]
  },
  {
   "cell_type": "markdown",
   "metadata": {},
   "source": [
    "### 7. Write a Pandas program to find out the alcohol consumption details in the year '1987' or '1989' from the world alcohol consumption dataset."
   ]
  },
  {
   "cell_type": "code",
   "execution_count": null,
   "metadata": {},
   "outputs": [],
   "source": [
    "print(\"\\nThe world alcohol consumption details where year is 1987 or 1989:\")\n",
    "print((w_a_con[(w_a_con['Year']==1987) | (w_a_con['Year']==1989)]).head(10))"
   ]
  },
  {
   "cell_type": "markdown",
   "metadata": {},
   "source": [
    "### 8. Write a Pandas program to find out the alcohol consumption details by the 'Americas' in the year '1985' from the world alcohol consumption dataset."
   ]
  },
  {
   "cell_type": "code",
   "execution_count": null,
   "metadata": {},
   "outputs": [],
   "source": [
    "print(\"\\nThe world alcohol consumption details by the Americas in the 1985:\")\n",
    "print(w_a_con[(w_a_con['Year']==1989) & (w_a_con['WHO region']=='Americas')].head(10))"
   ]
  },
  {
   "cell_type": "markdown",
   "metadata": {},
   "source": [
    "### 9. Write a Pandas program to find out the alcohol consumption details in the year '1986' where WHO region is 'Western Pacific' and country is 'VietNam' from the world alcohol consumption dataset."
   ]
  },
  {
   "cell_type": "code",
   "execution_count": null,
   "metadata": {},
   "outputs": [],
   "source": [
    "print(\"\\nThe world alcohol consumption details in the year 1986 where WHO region is Western Pacific and country is VietNam :\")\n",
    "print(w_a_con[(w_a_con['Year']==1986) & (w_a_con['WHO region']=='Western Pacific') & (w_a_con['Country']=='Viet Nam')])"
   ]
  },
  {
   "cell_type": "markdown",
   "metadata": {},
   "source": [
    "### 10. Write a Pandas program to find out the alcohol consumption details in the year '1986' or '1989' where WHO region is 'Americas' from the world alcohol consumption dataset."
   ]
  },
  {
   "cell_type": "code",
   "execution_count": null,
   "metadata": {},
   "outputs": [],
   "source": [
    "print(\"\\nThe world alcohol consumption details in the year '1986' or '1989' where  WHO region is 'Americas' :\")\n",
    "print(w_a_con[((w_a_con['Year']==1986) | (w_a_con['Year']==1989))  & (w_a_con['WHO region']=='Americas')].head(10))"
   ]
  },
  {
   "cell_type": "markdown",
   "metadata": {},
   "source": [
    "### 11. Write a Pandas program to find out the alcohol consumption details in the year '1986' or '1989' where WHO region is 'Americas' or 'Europe' from the world alcohol consumption dataset."
   ]
  },
  {
   "cell_type": "code",
   "execution_count": null,
   "metadata": {},
   "outputs": [],
   "source": [
    "print(\"\\nThe world alcohol consumption details in the year ‘1986’ or ‘1989’ where  WHO region is ‘Americas’  or 'Europe':\")\n",
    "print(w_a_con[((w_a_con['Year']==1985) | (w_a_con['Year']==1989)) & ((w_a_con['WHO region']=='Americas') | (w_a_con['WHO region']=='Europe'))].head(10))"
   ]
  },
  {
   "cell_type": "markdown",
   "metadata": {},
   "source": [
    "### 12. Write a Pandas program to find out the 'WHO region, 'Country', 'Beverage Types' in the year '1986' or '1989' where WHO region is 'Americas' or 'Europe' from the world alcohol consumption dataset."
   ]
  },
  {
   "cell_type": "code",
   "execution_count": null,
   "metadata": {},
   "outputs": [],
   "source": [
    "print(\"\\nThe world alcohol consumption details ('WHO region','Country','Beverage Types') \\nin the year ‘1986’ or ‘1989’ where  WHO region is ‘Americas’  or 'Europe':\")\n",
    "print(w_a_con[((w_a_con['Year']==1985) | (w_a_con['Year']==1989)) & ((w_a_con['WHO region']=='Americas') | (w_a_con['WHO region']=='Europe'))][['WHO region','Country','Beverage Types']].head(10))"
   ]
  },
  {
   "cell_type": "markdown",
   "metadata": {},
   "source": [
    "### 13. Write a Pandas program to find out the records where consumption of beverages per person average >=5 and Beverage Types is Beer from world alcohol consumption dataset."
   ]
  },
  {
   "cell_type": "code",
   "execution_count": null,
   "metadata": {},
   "outputs": [],
   "source": [
    "print(\"\\nThe world alcohol consumption details: average consumption of \\nbeverages per person >=5 and Beverage Types is Beer:\")\n",
    "print(w_a_con[(w_a_con['Display Value'] >= 5) & (w_a_con['Beverage Types'] == 'Beer')].head(10))"
   ]
  },
  {
   "cell_type": "markdown",
   "metadata": {},
   "source": [
    "### 14. Write a Pandas program to find out the records where consumption of beverages per person average >=4 and Beverage Types is Beer, Wine, Spirits from world alcohol consumption dataset."
   ]
  },
  {
   "cell_type": "code",
   "execution_count": 13,
   "metadata": {},
   "outputs": [
    {
     "name": "stdout",
     "output_type": "stream",
     "text": [
      "\n",
      "The world alcohol consumption details: average consumption of \n",
      "beverages per person >=4 and Beverage Types is Beer:\n",
      "    Year WHO region         Country Beverage Types  Display Value\n",
      "3   1986   Americas        Colombia           Beer           4.27\n",
      "21  1989   Americas      Costa Rica        Spirits           4.51\n",
      "41  1986     Europe  Czech Republic           Beer           6.82\n",
      "57  1989     Europe         Croatia           Wine           5.10\n",
      "91  1989     Europe        Bulgaria           Beer           4.43\n",
      "96  1985     Europe      Luxembourg           Wine           7.38\n"
     ]
    }
   ],
   "source": [
    "print(\"\\nThe world alcohol consumption details: average consumption of \\nbeverages per person >=4 and Beverage Types is Beer:\")\n",
    "print(w_a_con[(w_a_con['Display Value'] >= 4) & ((w_a_con['Beverage Types'] == 'Beer') | (w_a_con['Beverage Types'] == 'Wine')| (w_a_con['Beverage Types'] == 'Spirits'))].head(10))"
   ]
  },
  {
   "cell_type": "markdown",
   "metadata": {},
   "source": [
    "### 15. Write a Pandas program to filter the specified columns and records by range from world alcohol consumption dataset."
   ]
  },
  {
   "cell_type": "code",
   "execution_count": null,
   "metadata": {},
   "outputs": [],
   "source": [
    "print(\"\\nFiltering records by label or index:\")\n",
    "print(w_a_con.loc[0:4, [\"WHO region\", \"Beverage Types\"]])"
   ]
  },
  {
   "cell_type": "markdown",
   "metadata": {},
   "source": [
    "### 16. Write a Pandas program to filter those records where WHO region contains \"Ea\" substring from world alcohol consumption dataset."
   ]
  },
  {
   "cell_type": "code",
   "execution_count": null,
   "metadata": {},
   "outputs": [],
   "source": [
    "new_w_a_con = w_a_con.dropna() # dropping \n",
    "print(\"\\nMatch if  a given column has a particular sub string:\")\n",
    "print(new_w_a_con[new_w_a_con[\"WHO region\"].str.contains(\"Ea\")])"
   ]
  },
  {
   "cell_type": "markdown",
   "metadata": {},
   "source": [
    "### 17. Write a Pandas program to filter those records where WHO region matches with multiple values (Africa, Eastern Mediterranean, Europe) from world alcohol consumption dataset."
   ]
  },
  {
   "cell_type": "code",
   "execution_count": null,
   "metadata": {},
   "outputs": [],
   "source": [
    "print(\"\\nFilter by matching multiple values in a given dataframe:\")\n",
    "flt_wine = new_w_a_con[\"WHO region\"].isin([\"Africa\", \"Eastern Mediterranean\", \"Europe\"])\n",
    "print(new_w_a_con[flt_wine])"
   ]
  },
  {
   "cell_type": "markdown",
   "metadata": {},
   "source": [
    "### 18. Write a Pandas program to filter those records which not appears in a given list from world alcohol consumption dataset."
   ]
  },
  {
   "cell_type": "code",
   "execution_count": null,
   "metadata": {},
   "outputs": [],
   "source": [
    "print(\"\\nSelect all rows which not appears in a given list:\")\n",
    "who_region = [\"Africa\", \"Eastern Mediterranean\", \"Europe\"]\n",
    "flt_wine = ~new_w_a_con[\"WHO region\"].isin(who_region)\n",
    "print(new_w_a_con[flt_wine])"
   ]
  },
  {
   "cell_type": "markdown",
   "metadata": {},
   "source": [
    "### 19. Write a Pandas program to filter all records where the average consumption of beverages per person from .5 to 2.50 in world alcohol consumption dataset."
   ]
  },
  {
   "cell_type": "code",
   "execution_count": null,
   "metadata": {},
   "outputs": [],
   "source": [
    "print(\"\\nFilter all records where the average consumption of beverages per person from .5 to 2.50.:\")\n",
    "print(w_a_con[(w_a_con['Display Value'] < 2.5) & (w_a_con['Display Value']>.5)].head())"
   ]
  },
  {
   "cell_type": "markdown",
   "metadata": {},
   "source": [
    "### 20. Write a Pandas program to find average consumption of wine per person greater than 2 in world alcohol consumption dataset"
   ]
  },
  {
   "cell_type": "code",
   "execution_count": null,
   "metadata": {},
   "outputs": [],
   "source": [
    "print(\"\\nAverage consumption of wine per person greater than 2:\")\n",
    "print(w_a_con[(w_a_con['Beverage Types'] == 'Wine') & (w_a_con['Display Value'] > .2)].count())"
   ]
  },
  {
   "cell_type": "markdown",
   "metadata": {},
   "source": [
    "### 21. Write a Pandas program to filter rows based on row numbers ended with 0, like 0, 10, 20, 30 from world alcohol consumption dataset. "
   ]
  },
  {
   "cell_type": "code",
   "execution_count": 12,
   "metadata": {},
   "outputs": [
    {
     "name": "stdout",
     "output_type": "stream",
     "text": [
      "\n",
      "Filter rows based on row numbers ended with 0, like 0, 10, 20, 30:\n",
      "    Year             WHO region                     Country Beverage Types  \\\n",
      "0   1986        Western Pacific                    Viet Nam           Wine   \n",
      "10  1987                 Africa                    Botswana           Wine   \n",
      "20  1986        South-East Asia                     Myanmar           Wine   \n",
      "30  1986                 Africa                Sierra Leone          Other   \n",
      "40  1987                 Europe                     Austria        Spirits   \n",
      "50  1985                 Europe                 Switzerland          Other   \n",
      "60  1987  Eastern Mediterranean  Iran (Islamic Republic of)          Other   \n",
      "70  1986                 Africa                  Madagascar        Spirits   \n",
      "80  1985                 Africa                      Malawi          Other   \n",
      "90  1989                 Africa                      Malawi           Wine   \n",
      "\n",
      "    Display Value  \n",
      "0            0.00  \n",
      "10           0.20  \n",
      "20           0.00  \n",
      "30           4.48  \n",
      "40           1.90  \n",
      "50           0.30  \n",
      "60           0.00  \n",
      "70           1.02  \n",
      "80           0.84  \n",
      "90           0.01  \n"
     ]
    }
   ],
   "source": [
    "print(\"\\nFilter rows based on row numbers ended with 0, like 0, 10, 20, 30:\")\n",
    "print(w_a_con.filter(regex='0$', axis=0))"
   ]
  },
  {
   "cell_type": "markdown",
   "metadata": {},
   "source": [
    "### 22. Write a Pandas program to select consecutive columns and also select rows with Index label 0 to 9 with some columns from world alcohol consumption dataset."
   ]
  },
  {
   "cell_type": "code",
   "execution_count": null,
   "metadata": {},
   "outputs": [],
   "source": [
    "print(\"\\nSelect consecutive columns:\")\n",
    "print(w_a_con.loc[:,\"Country\":\"Display Value\"].head())\n",
    "print(\"\\nAlternate command:\")\n",
    "print(w_a_con.iloc[:,2:5].head())\n",
    "print(\"\\nSelect rows with Index label 0 to 9 with specific columns:\")\n",
    "print(w_a_con.loc[0:9,[\"Year\",\"Country\",\"Display Value\"]])"
   ]
  },
  {
   "cell_type": "markdown",
   "metadata": {},
   "source": [
    "### 23. Write a Pandas program to rename all and only some of the column names from world alcohol consumption dataset."
   ]
  },
  {
   "cell_type": "code",
   "execution_count": null,
   "metadata": {},
   "outputs": [],
   "source": [
    "print(\"\\nRename all the column names:\")\n",
    "w_a_con.columns = ['year','who_region','country','beverage_types','display_values']\n",
    "print(w_a_con.head())\n",
    "print(\"\\nRenaming only some of the column names:\")\n",
    "new_w_a_con.rename(columns = {\"WHO region\":\"WHO_region\",\"Display Value\":\"Display_Value\" },inplace = True)\n",
    "print(new_w_a_con.head()) "
   ]
  },
  {
   "cell_type": "markdown",
   "metadata": {},
   "source": [
    "### 24. Write a Pandas program to find which years have all non-zero values and which years have any non-zero values from world alcohol consumption dataset."
   ]
  },
  {
   "cell_type": "code",
   "execution_count": 11,
   "metadata": {},
   "outputs": [
    {
     "name": "stdout",
     "output_type": "stream",
     "text": [
      "\n",
      "Find which years have all non-zero values:\n",
      "    Year       WHO region                                Country  \\\n",
      "0   1986  Western Pacific                               Viet Nam   \n",
      "1   1986         Americas                                Uruguay   \n",
      "2   1985           Africa                           Cte d'Ivoire   \n",
      "3   1986         Americas                               Colombia   \n",
      "4   1987         Americas                  Saint Kitts and Nevis   \n",
      "..   ...              ...                                    ...   \n",
      "95  1984           Africa                                  Niger   \n",
      "96  1985           Europe                             Luxembourg   \n",
      "97  1984  South-East Asia                              Indonesia   \n",
      "98  1984           Africa                      Equatorial Guinea   \n",
      "99  1985  South-East Asia  Democratic People's Republic of Korea   \n",
      "\n",
      "   Beverage Types  \n",
      "0            Wine  \n",
      "1           Other  \n",
      "2            Wine  \n",
      "3            Beer  \n",
      "4            Beer  \n",
      "..            ...  \n",
      "95          Other  \n",
      "96           Wine  \n",
      "97           Wine  \n",
      "98           Wine  \n",
      "99           Wine  \n",
      "\n",
      "[100 rows x 4 columns]\n",
      "\n",
      "Find which years have any non-zero values:\n",
      "    Year       WHO region                                Country  \\\n",
      "0   1986  Western Pacific                               Viet Nam   \n",
      "1   1986         Americas                                Uruguay   \n",
      "2   1985           Africa                           Cte d'Ivoire   \n",
      "3   1986         Americas                               Colombia   \n",
      "4   1987         Americas                  Saint Kitts and Nevis   \n",
      "..   ...              ...                                    ...   \n",
      "95  1984           Africa                                  Niger   \n",
      "96  1985           Europe                             Luxembourg   \n",
      "97  1984  South-East Asia                              Indonesia   \n",
      "98  1984           Africa                      Equatorial Guinea   \n",
      "99  1985  South-East Asia  Democratic People's Republic of Korea   \n",
      "\n",
      "   Beverage Types  Display Value  \n",
      "0            Wine           0.00  \n",
      "1           Other           0.50  \n",
      "2            Wine           1.62  \n",
      "3            Beer           4.27  \n",
      "4            Beer           1.98  \n",
      "..            ...            ...  \n",
      "95          Other           0.00  \n",
      "96           Wine           7.38  \n",
      "97           Wine           0.00  \n",
      "98           Wine           0.00  \n",
      "99           Wine           0.00  \n",
      "\n",
      "[100 rows x 5 columns]\n"
     ]
    }
   ],
   "source": [
    "print(\"\\nFind which years have all non-zero values:\")\n",
    "print(w_a_con.loc[:,w_a_con.all()])\n",
    "print(\"\\nFind which years have any non-zero values:\")\n",
    "print(w_a_con.loc[:,w_a_con.any()])"
   ]
  },
  {
   "cell_type": "markdown",
   "metadata": {},
   "source": [
    "### 25. Write a Pandas program to filter all columns where all entries present, check which rows and columns has a NaN and finally drop rows with any NaNs from world alcohol consumption dataset."
   ]
  },
  {
   "cell_type": "code",
   "execution_count": 10,
   "metadata": {},
   "outputs": [
    {
     "name": "stdout",
     "output_type": "stream",
     "text": [
      "\n",
      "Find  all columns which all entries present:\n",
      "    Year       WHO region                                Country  \\\n",
      "0   1986  Western Pacific                               Viet Nam   \n",
      "1   1986         Americas                                Uruguay   \n",
      "2   1985           Africa                           Cte d'Ivoire   \n",
      "3   1986         Americas                               Colombia   \n",
      "4   1987         Americas                  Saint Kitts and Nevis   \n",
      "..   ...              ...                                    ...   \n",
      "95  1984           Africa                                  Niger   \n",
      "96  1985           Europe                             Luxembourg   \n",
      "97  1984  South-East Asia                              Indonesia   \n",
      "98  1984           Africa                      Equatorial Guinea   \n",
      "99  1985  South-East Asia  Democratic People's Republic of Korea   \n",
      "\n",
      "   Beverage Types  \n",
      "0            Wine  \n",
      "1           Other  \n",
      "2            Wine  \n",
      "3            Beer  \n",
      "4            Beer  \n",
      "..            ...  \n",
      "95          Other  \n",
      "96           Wine  \n",
      "97           Wine  \n",
      "98           Wine  \n",
      "99           Wine  \n",
      "\n",
      "[100 rows x 4 columns]\n",
      "\n",
      "Rows and columns has a NaN:\n",
      "    Display Value\n",
      "0            0.00\n",
      "1            0.50\n",
      "2            1.62\n",
      "3            4.27\n",
      "4            1.98\n",
      "..            ...\n",
      "95           0.00\n",
      "96           7.38\n",
      "97           0.00\n",
      "98           0.00\n",
      "99           0.00\n",
      "\n",
      "[100 rows x 1 columns]\n",
      "\n",
      "Drop rows with any NaNs:\n",
      "    Year       WHO region                                Country  \\\n",
      "0   1986  Western Pacific                               Viet Nam   \n",
      "1   1986         Americas                                Uruguay   \n",
      "2   1985           Africa                           Cte d'Ivoire   \n",
      "3   1986         Americas                               Colombia   \n",
      "4   1987         Americas                  Saint Kitts and Nevis   \n",
      "..   ...              ...                                    ...   \n",
      "95  1984           Africa                                  Niger   \n",
      "96  1985           Europe                             Luxembourg   \n",
      "97  1984  South-East Asia                              Indonesia   \n",
      "98  1984           Africa                      Equatorial Guinea   \n",
      "99  1985  South-East Asia  Democratic People's Republic of Korea   \n",
      "\n",
      "   Beverage Types  Display Value  \n",
      "0            Wine           0.00  \n",
      "1           Other           0.50  \n",
      "2            Wine           1.62  \n",
      "3            Beer           4.27  \n",
      "4            Beer           1.98  \n",
      "..            ...            ...  \n",
      "95          Other           0.00  \n",
      "96           Wine           7.38  \n",
      "97           Wine           0.00  \n",
      "98           Wine           0.00  \n",
      "99           Wine           0.00  \n",
      "\n",
      "[95 rows x 5 columns]\n"
     ]
    }
   ],
   "source": [
    "print(\"\\nFind  all columns which all entries present:\")\n",
    "print(w_a_con.loc[:, w_a_con.notnull().all()])\n",
    "print(\"\\nRows and columns has a NaN:\")\n",
    "print(w_a_con.loc[:,w_a_con.isnull().any()])\n",
    "print(\"\\nDrop rows with any NaNs:\")\n",
    "print(w_a_con.dropna(how='any'))  "
   ]
  },
  {
   "cell_type": "markdown",
   "metadata": {},
   "source": [
    "### 26. Write a Pandas program to filter all records starting from the 'Year' column, access every other column from world alcohol consumption dataset."
   ]
  },
  {
   "cell_type": "code",
   "execution_count": 9,
   "metadata": {},
   "outputs": [
    {
     "name": "stdout",
     "output_type": "stream",
     "text": [
      "\n",
      "From the 'Year' column, access every other column:\n",
      "   Year                Country  Display Value\n",
      "0  1986               Viet Nam           0.00\n",
      "1  1986                Uruguay           0.50\n",
      "2  1985           Cte d'Ivoire           1.62\n",
      "3  1986               Colombia           4.27\n",
      "4  1987  Saint Kitts and Nevis           1.98\n",
      "5  1987              Guatemala           0.00\n",
      "6  1987              Mauritius           0.13\n",
      "7  1985                 Angola           0.39\n",
      "8  1986    Antigua and Barbuda           1.55\n",
      "9  1984                Nigeria           6.10\n",
      "\n",
      "Alternate solution:\n",
      "   Year                Country  Display Value\n",
      "0  1986               Viet Nam           0.00\n",
      "1  1986                Uruguay           0.50\n",
      "2  1985           Cte d'Ivoire           1.62\n",
      "3  1986               Colombia           4.27\n",
      "4  1987  Saint Kitts and Nevis           1.98\n",
      "5  1987              Guatemala           0.00\n",
      "6  1987              Mauritius           0.13\n",
      "7  1985                 Angola           0.39\n",
      "8  1986    Antigua and Barbuda           1.55\n",
      "9  1984                Nigeria           6.10\n"
     ]
    }
   ],
   "source": [
    "print(\"\\nFrom the 'Year' column, access every other column:\")\n",
    "print(w_a_con.loc[:,'Year'::2].head(10))\n",
    "print(\"\\nAlternate solution:\")\n",
    "print(w_a_con.iloc[:,0::2].head(10))"
   ]
  },
  {
   "cell_type": "markdown",
   "metadata": {},
   "source": [
    "### 27. Write a Pandas program to filter all records starting from the 2nd row, access every 5th row from world alcohol consumption dataset."
   ]
  },
  {
   "cell_type": "code",
   "execution_count": 8,
   "metadata": {},
   "outputs": [
    {
     "name": "stdout",
     "output_type": "stream",
     "text": [
      "\n",
      "Starting from the 2nd row, access every 5th row:\n",
      "    Year             WHO region  \\\n",
      "1   1986               Americas   \n",
      "6   1987                 Africa   \n",
      "11  1989               Americas   \n",
      "16  1984               Americas   \n",
      "21  1989               Americas   \n",
      "26  1985                 Europe   \n",
      "31  1986        Western Pacific   \n",
      "36  1987  Eastern Mediterranean   \n",
      "41  1986                 Europe   \n",
      "46  1987               Americas   \n",
      "\n",
      "                                              Country Beverage Types  \\\n",
      "1                                             Uruguay          Other   \n",
      "6                                           Mauritius           Wine   \n",
      "11                                          Guatemala           Beer   \n",
      "16                                         Costa Rica           Wine   \n",
      "21                                         Costa Rica        Spirits   \n",
      "26  United Kingdom of Great Britain and Northern I...           Wine   \n",
      "31                   Micronesia (Federated States of)           Wine   \n",
      "36                                              Egypt           Beer   \n",
      "41                                     Czech Republic           Beer   \n",
      "46                                Trinidad and Tobago        Spirits   \n",
      "\n",
      "    Display Value  \n",
      "1            0.50  \n",
      "6            0.13  \n",
      "11           0.62  \n",
      "16           0.06  \n",
      "21           4.51  \n",
      "26           1.36  \n",
      "31           0.00  \n",
      "36           0.07  \n",
      "41           6.82  \n",
      "46           2.26  \n"
     ]
    }
   ],
   "source": [
    "print(\"\\nStarting from the 2nd row, access every 5th row:\")\n",
    "print(w_a_con.iloc[1::5].head(10))"
   ]
  },
  {
   "cell_type": "code",
   "execution_count": null,
   "metadata": {},
   "outputs": [],
   "source": []
  }
 ],
 "metadata": {
  "kernelspec": {
   "display_name": "Python 3",
   "language": "python",
   "name": "python3"
  },
  "language_info": {
   "codemirror_mode": {
    "name": "ipython",
    "version": 3
   },
   "file_extension": ".py",
   "mimetype": "text/x-python",
   "name": "python",
   "nbconvert_exporter": "python",
   "pygments_lexer": "ipython3",
   "version": "3.8.3"
  }
 },
 "nbformat": 4,
 "nbformat_minor": 4
}
