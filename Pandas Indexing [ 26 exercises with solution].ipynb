{
 "cells": [
  {
   "cell_type": "code",
   "execution_count": 2,
   "metadata": {},
   "outputs": [],
   "source": [
    "import pandas as pd\n",
    "import numpy as np\n",
    "import re as re"
   ]
  },
  {
   "cell_type": "markdown",
   "metadata": {},
   "source": [
    "### 1. Write a Pandas program to display the default index and set a column as an Index in a given dataframe"
   ]
  },
  {
   "cell_type": "code",
   "execution_count": 3,
   "metadata": {},
   "outputs": [
    {
     "name": "stdout",
     "output_type": "stream",
     "text": [
      "Default Index:\n",
      "  school_code class            name date_Of_Birth  weight  address t_id\n",
      "0        s001     V  Alberto Franco    15/05/2002      35  street1   t1\n",
      "1        s002     V    Gino Mcneill    17/05/2002      32  street2   t2\n",
      "2        s003    VI     Ryan Parkes    16/02/1999      33  street3   t3\n",
      "3        s001    VI    Eesha Hinton    25/09/1998      30  street1   t4\n",
      "4        s002     V    Gino Mcneill    11/05/2002      31  street2   t5\n",
      "5        s004    VI    David Parkes    15/09/1997      32  street4   t6\n",
      "\n",
      "school_code as new Index:\n",
      "            class            name date_Of_Birth  weight  address t_id\n",
      "school_code                                                          \n",
      "s001            V  Alberto Franco    15/05/2002      35  street1   t1\n",
      "s002            V    Gino Mcneill    17/05/2002      32  street2   t2\n",
      "s003           VI     Ryan Parkes    16/02/1999      33  street3   t3\n",
      "s001           VI    Eesha Hinton    25/09/1998      30  street1   t4\n",
      "s002            V    Gino Mcneill    11/05/2002      31  street2   t5\n",
      "s004           VI    David Parkes    15/09/1997      32  street4   t6\n",
      "\n",
      "t_id as new Index:\n",
      "     school_code class            name date_Of_Birth  weight  address\n",
      "t_id                                                                 \n",
      "t1          s001     V  Alberto Franco    15/05/2002      35  street1\n",
      "t2          s002     V    Gino Mcneill    17/05/2002      32  street2\n",
      "t3          s003    VI     Ryan Parkes    16/02/1999      33  street3\n",
      "t4          s001    VI    Eesha Hinton    25/09/1998      30  street1\n",
      "t5          s002     V    Gino Mcneill    11/05/2002      31  street2\n",
      "t6          s004    VI    David Parkes    15/09/1997      32  street4\n"
     ]
    }
   ],
   "source": [
    "df = pd.DataFrame({\n",
    "    'school_code': ['s001','s002','s003','s001','s002','s004'],\n",
    "    'class': ['V', 'V', 'VI', 'VI', 'V', 'VI'],\n",
    "    'name': ['Alberto Franco','Gino Mcneill','Ryan Parkes', 'Eesha Hinton', 'Gino Mcneill', 'David Parkes'],\n",
    "    'date_Of_Birth': ['15/05/2002','17/05/2002','16/02/1999','25/09/1998','11/05/2002','15/09/1997'],\n",
    "    'weight': [35, 32, 33, 30, 31, 32],\n",
    "    'address': ['street1', 'street2', 'street3', 'street1', 'street2', 'street4'],\n",
    "    't_id':['t1', 't2', 't3', 't4', 't5', 't6']})\n",
    "print(\"Default Index:\")\n",
    "print(df.head(10))\n",
    "print(\"\\nschool_code as new Index:\")\n",
    "df1 = df.set_index('school_code')\n",
    "print(df1)\n",
    "print(\"\\nt_id as new Index:\")\n",
    "df2 = df.set_index('t_id')\n",
    "print(df2)"
   ]
  },
  {
   "cell_type": "markdown",
   "metadata": {},
   "source": [
    "### 2. Write a Pandas program to create a multi Index frame using two columns and using an Index and a column."
   ]
  },
  {
   "cell_type": "code",
   "execution_count": 5,
   "metadata": {},
   "outputs": [
    {
     "name": "stdout",
     "output_type": "stream",
     "text": [
      "\n",
      "MultiIndex using columns 't_id' and ‘school_code’:\n",
      "                 class            name date_Of_Birth  weight  address\n",
      "t_id school_code                                                     \n",
      "t1   s001            V  Alberto Franco    15/05/2002      35  street1\n",
      "t2   s002            V    Gino Mcneill    17/05/2002      32  street2\n",
      "t3   s003           VI     Ryan Parkes    16/02/1999      33  street3\n",
      "t4   s001           VI    Eesha Hinton    25/09/1998      30  street1\n",
      "t5   s002            V    Gino Mcneill    11/05/2002      31  street2\n",
      "t6   s004           VI    David Parkes    15/09/1997      32  street4\n",
      "\n",
      "MultiIndex using an Index and a column:\n"
     ]
    },
    {
     "data": {
      "text/html": [
       "<div>\n",
       "<style scoped>\n",
       "    .dataframe tbody tr th:only-of-type {\n",
       "        vertical-align: middle;\n",
       "    }\n",
       "\n",
       "    .dataframe tbody tr th {\n",
       "        vertical-align: top;\n",
       "    }\n",
       "\n",
       "    .dataframe thead th {\n",
       "        text-align: right;\n",
       "    }\n",
       "</style>\n",
       "<table border=\"1\" class=\"dataframe\">\n",
       "  <thead>\n",
       "    <tr style=\"text-align: right;\">\n",
       "      <th></th>\n",
       "      <th></th>\n",
       "      <th>school_code</th>\n",
       "      <th>class</th>\n",
       "      <th>name</th>\n",
       "      <th>date_Of_Birth</th>\n",
       "      <th>weight</th>\n",
       "      <th>address</th>\n",
       "    </tr>\n",
       "    <tr>\n",
       "      <th></th>\n",
       "      <th>t_id</th>\n",
       "      <th></th>\n",
       "      <th></th>\n",
       "      <th></th>\n",
       "      <th></th>\n",
       "      <th></th>\n",
       "      <th></th>\n",
       "    </tr>\n",
       "  </thead>\n",
       "  <tbody>\n",
       "    <tr>\n",
       "      <th>0</th>\n",
       "      <th>t1</th>\n",
       "      <td>s001</td>\n",
       "      <td>V</td>\n",
       "      <td>Alberto Franco</td>\n",
       "      <td>15/05/2002</td>\n",
       "      <td>35</td>\n",
       "      <td>street1</td>\n",
       "    </tr>\n",
       "    <tr>\n",
       "      <th>1</th>\n",
       "      <th>t2</th>\n",
       "      <td>s002</td>\n",
       "      <td>V</td>\n",
       "      <td>Gino Mcneill</td>\n",
       "      <td>17/05/2002</td>\n",
       "      <td>32</td>\n",
       "      <td>street2</td>\n",
       "    </tr>\n",
       "    <tr>\n",
       "      <th>2</th>\n",
       "      <th>t3</th>\n",
       "      <td>s003</td>\n",
       "      <td>VI</td>\n",
       "      <td>Ryan Parkes</td>\n",
       "      <td>16/02/1999</td>\n",
       "      <td>33</td>\n",
       "      <td>street3</td>\n",
       "    </tr>\n",
       "    <tr>\n",
       "      <th>3</th>\n",
       "      <th>t4</th>\n",
       "      <td>s001</td>\n",
       "      <td>VI</td>\n",
       "      <td>Eesha Hinton</td>\n",
       "      <td>25/09/1998</td>\n",
       "      <td>30</td>\n",
       "      <td>street1</td>\n",
       "    </tr>\n",
       "    <tr>\n",
       "      <th>4</th>\n",
       "      <th>t5</th>\n",
       "      <td>s002</td>\n",
       "      <td>V</td>\n",
       "      <td>Gino Mcneill</td>\n",
       "      <td>11/05/2002</td>\n",
       "      <td>31</td>\n",
       "      <td>street2</td>\n",
       "    </tr>\n",
       "    <tr>\n",
       "      <th>5</th>\n",
       "      <th>t6</th>\n",
       "      <td>s004</td>\n",
       "      <td>VI</td>\n",
       "      <td>David Parkes</td>\n",
       "      <td>15/09/1997</td>\n",
       "      <td>32</td>\n",
       "      <td>street4</td>\n",
       "    </tr>\n",
       "  </tbody>\n",
       "</table>\n",
       "</div>"
      ],
      "text/plain": [
       "       school_code class            name date_Of_Birth  weight  address\n",
       "  t_id                                                                 \n",
       "0 t1          s001     V  Alberto Franco    15/05/2002      35  street1\n",
       "1 t2          s002     V    Gino Mcneill    17/05/2002      32  street2\n",
       "2 t3          s003    VI     Ryan Parkes    16/02/1999      33  street3\n",
       "3 t4          s001    VI    Eesha Hinton    25/09/1998      30  street1\n",
       "4 t5          s002     V    Gino Mcneill    11/05/2002      31  street2\n",
       "5 t6          s004    VI    David Parkes    15/09/1997      32  street4"
      ]
     },
     "execution_count": 5,
     "metadata": {},
     "output_type": "execute_result"
    }
   ],
   "source": [
    "print(\"\\nMultiIndex using columns 't_id' and ‘school_code’:\")\n",
    "df1 = df.set_index(['t_id', 'school_code'])\n",
    "print(df1)\n",
    "print(\"\\nMultiIndex using an Index and a column:\")\n",
    "df2 = df.set_index([pd.Index([0, 1, 2, 3, 4, 5]), 't_id'])\n",
    "df2"
   ]
  },
  {
   "cell_type": "markdown",
   "metadata": {},
   "source": [
    "### 3. Write a Pandas program to display the default index and set a column as an Index in a given dataframe and then reset the index."
   ]
  },
  {
   "cell_type": "code",
   "execution_count": 6,
   "metadata": {},
   "outputs": [
    {
     "name": "stdout",
     "output_type": "stream",
     "text": [
      "  school_code class            name date_Of_Birth  weight  address t_id\n",
      "0        s001     V  Alberto Franco    15/05/2002      35  street1   t1\n",
      "1        s002     V    Gino Mcneill    17/05/2002      32  street2   t2\n",
      "2        s003    VI     Ryan Parkes    16/02/1999      33  street3   t3\n",
      "3        s001    VI    Eesha Hinton    25/09/1998      30  street1   t4\n",
      "4        s002     V    Gino Mcneill    11/05/2002      31  street2   t5\n",
      "5        s004    VI    David Parkes    15/09/1997      32  street4   t6\n",
      "\n",
      "t_id as new Index:\n",
      "     school_code class            name date_Of_Birth  weight  address\n",
      "t_id                                                                 \n",
      "t1          s001     V  Alberto Franco    15/05/2002      35  street1\n",
      "t2          s002     V    Gino Mcneill    17/05/2002      32  street2\n",
      "t3          s003    VI     Ryan Parkes    16/02/1999      33  street3\n",
      "t4          s001    VI    Eesha Hinton    25/09/1998      30  street1\n",
      "t5          s002     V    Gino Mcneill    11/05/2002      31  street2\n",
      "t6          s004    VI    David Parkes    15/09/1997      32  street4\n",
      "\n",
      "Reset the index:\n",
      "  t_id school_code class            name date_Of_Birth  weight  address\n",
      "0   t1        s001     V  Alberto Franco    15/05/2002      35  street1\n",
      "1   t2        s002     V    Gino Mcneill    17/05/2002      32  street2\n",
      "2   t3        s003    VI     Ryan Parkes    16/02/1999      33  street3\n",
      "3   t4        s001    VI    Eesha Hinton    25/09/1998      30  street1\n",
      "4   t5        s002     V    Gino Mcneill    11/05/2002      31  street2\n",
      "5   t6        s004    VI    David Parkes    15/09/1997      32  street4\n"
     ]
    }
   ],
   "source": [
    "print(df.head(10))\n",
    "print(\"\\nt_id as new Index:\")\n",
    "df1 = df.set_index('t_id')\n",
    "print(df1)\n",
    "print(\"\\nReset the index:\")\n",
    "df2 = df1.reset_index(inplace=False)\n",
    "print(df2)"
   ]
  },
  {
   "cell_type": "markdown",
   "metadata": {},
   "source": [
    "### 4. Write a Pandas program to create an index labels by using 64-bit integers, using floating-point numbers in a given dataframe."
   ]
  },
  {
   "cell_type": "code",
   "execution_count": 7,
   "metadata": {},
   "outputs": [
    {
     "name": "stdout",
     "output_type": "stream",
     "text": [
      "Create an Int64Index:\n",
      "  school_code class            name date_Of_Birth  weight  address\n",
      "1        s001     V  Alberto Franco    15/05/2002      35  street1\n",
      "2        s002     V    Gino Mcneill    17/05/2002      32  street2\n",
      "3        s003    VI     Ryan Parkes    16/02/1999      33  street3\n",
      "4        s001    VI    Eesha Hinton    25/09/1998      30  street1\n",
      "5        s002     V    Gino Mcneill    11/05/2002      31  street2\n",
      "6        s004    VI    David Parkes    15/09/1997      32  street4\n",
      "\n",
      "View the Index:\n",
      "Int64Index([1, 2, 3, 4, 5, 6], dtype='int64')\n",
      "\n",
      "Floating-point labels using Float64Index:\n",
      "    school_code class            name date_Of_Birth   weight  address\n",
      "0.1        s001     V  Alberto Franco     15/05/2002      35  street1\n",
      "0.2        s002     V    Gino Mcneill     17/05/2002      32  street2\n",
      "0.3        s003    VI     Ryan Parkes     16/02/1999      33  street3\n",
      "0.4        s001    VI    Eesha Hinton     25/09/1998      30  street1\n",
      "0.5        s002     V    Gino Mcneill     11/05/2002      31  street2\n",
      "0.6        s004    VI    David Parkes     15/09/1997      32  street4\n",
      "\n",
      "View the Index:\n",
      "Float64Index([0.1, 0.2, 0.3, 0.4, 0.5, 0.6], dtype='float64')\n"
     ]
    }
   ],
   "source": [
    "print(\"Create an Int64Index:\")\n",
    "df_i64 = pd.DataFrame({\n",
    "    'school_code': ['s001','s002','s003','s001','s002','s004'],\n",
    "    'class': ['V', 'V', 'VI', 'VI', 'V', 'VI'],\n",
    "    'name': ['Alberto Franco','Gino Mcneill','Ryan Parkes', 'Eesha Hinton', 'Gino Mcneill', 'David Parkes'],\n",
    "    'date_Of_Birth': ['15/05/2002','17/05/2002','16/02/1999','25/09/1998','11/05/2002','15/09/1997'],\n",
    "    'weight': [35, 32, 33, 30, 31, 32],\n",
    "    'address': ['street1', 'street2', 'street3', 'street1', 'street2', 'street4']},\n",
    "    index=[1, 2, 3, 4, 5, 6])\n",
    "print(df_i64)\n",
    "print(\"\\nView the Index:\")\n",
    "print(df_i64.index)\n",
    "\n",
    "print(\"\\nFloating-point labels using Float64Index:\")\n",
    "df_f64 = pd.DataFrame({\n",
    "    'school_code': ['s001','s002','s003','s001','s002','s004'],\n",
    "    'class': ['V', 'V', 'VI', 'VI', 'V', 'VI'],\n",
    "    'name': ['Alberto Franco','Gino Mcneill','Ryan Parkes', 'Eesha Hinton', 'Gino Mcneill', 'David Parkes'],\n",
    "    'date_Of_Birth ': ['15/05/2002','17/05/2002','16/02/1999','25/09/1998','11/05/2002','15/09/1997'],\n",
    "    'weight': [35, 32, 33, 30, 31, 32],\n",
    "    'address': ['street1', 'street2', 'street3', 'street1', 'street2', 'street4']},\n",
    "    index=[.1, .2, .3, .4, .5, .6])\n",
    "print(df_f64)\n",
    "print(\"\\nView the Index:\")\n",
    "print(df_f64.index)"
   ]
  },
  {
   "cell_type": "markdown",
   "metadata": {},
   "source": [
    "### 5. Write a Pandas program to create a DataFrame using intervals as an index.\n",
    "\n",
    "- IntervalIndex represents an Index of Interval objects that are all closed on the same side.\n",
    "- pandas.IntervalIndex.from_breaks: Construct an IntervalIndex from an array of splits\n",
    "- pandas.IntervalIndex.from_tuples: Construct an IntervalIndex from a list/array of tuples\n",
    "- pandas.IntervalIndex.from_arrays: Construct from two arrays defining the left and right bounds."
   ]
  },
  {
   "cell_type": "code",
   "execution_count": 8,
   "metadata": {},
   "outputs": [
    {
     "name": "stdout",
     "output_type": "stream",
     "text": [
      "Create an Interval Index using IntervalIndex.from_breaks:\n",
      "            X\n",
      "(0.0, 0.5]  1\n",
      "(0.5, 1.0]  2\n",
      "(1.0, 1.5]  3\n",
      "(1.5, 2.0]  4\n",
      "(2.0, 2.5]  5\n",
      "(2.5, 3.0]  6\n",
      "(3.0, 3.5]  7\n",
      "IntervalIndex([(0.0, 0.5], (0.5, 1.0], (1.0, 1.5], (1.5, 2.0], (2.0, 2.5], (2.5, 3.0], (3.0, 3.5]],\n",
      "              closed='right',\n",
      "              dtype='interval[float64]')\n",
      "\n",
      "Create an Interval Index using IntervalIndex.from_tuples:\n",
      "            X\n",
      "(0.0, 0.5]  1\n",
      "(0.5, 1.0]  2\n",
      "(1.0, 1.5]  3\n",
      "(1.5, 2.0]  4\n",
      "(2.0, 2.5]  5\n",
      "(2.5, 3.0]  6\n",
      "(3.0, 3.5]  7\n",
      "IntervalIndex([(0.0, 0.5], (0.5, 1.0], (1.0, 1.5], (1.5, 2.0], (2.0, 2.5], (2.5, 3.0], (3.0, 3.5]],\n",
      "              closed='right',\n",
      "              dtype='interval[float64]')\n",
      "\n",
      "Create an Interval Index using IntervalIndex.from_arrays:\n",
      "            X\n",
      "(0.0, 0.5]  1\n",
      "(0.5, 1.0]  2\n",
      "(1.0, 1.5]  3\n",
      "(1.5, 2.0]  4\n",
      "(2.0, 2.5]  5\n",
      "(2.5, 3.0]  6\n",
      "(3.0, 3.5]  7\n",
      "IntervalIndex([(0.0, 0.5], (0.5, 1.0], (1.0, 1.5], (1.5, 2.0], (2.0, 2.5], (2.5, 3.0], (3.0, 3.5]],\n",
      "              closed='right',\n",
      "              dtype='interval[float64]')\n"
     ]
    }
   ],
   "source": [
    "print(\"Create an Interval Index using IntervalIndex.from_breaks:\")\n",
    "df_interval = pd.DataFrame({\"X\":[1, 2, 3, 4, 5, 6, 7]},\n",
    "                            index = pd.IntervalIndex.from_breaks(\n",
    "                            [0, 0.5, 1.0, 1.5, 2.0, 2.5, 3, 3.5]))    \n",
    "print(df_interval)\n",
    "print(df_interval.index)\n",
    "\n",
    "print(\"\\nCreate an Interval Index using IntervalIndex.from_tuples:\")\n",
    "df_interval = pd.DataFrame({\"X\":[1, 2, 3, 4, 5, 6, 7]},             \n",
    "                            index = pd.IntervalIndex.from_tuples(\n",
    "                            [(0, .5), (.5, 1), (1, 1.5), (1.5, 2), (2, 2.5), (2.5, 3), (3, 3.5)]))\n",
    "print(df_interval)\n",
    "print(df_interval.index)\n",
    "\n",
    "print(\"\\nCreate an Interval Index using IntervalIndex.from_arrays:\")\n",
    "df_interval = pd.DataFrame({\"X\":[1, 2, 3, 4, 5, 6, 7]},             \n",
    "                            index = pd.IntervalIndex.from_arrays(\n",
    "                            [0, .5, 1, 1.5, 2, 2.5, 3], [.5, 1, 1.5, 2, 2.5, 3, 3.5]))\n",
    "print(df_interval)\n",
    "print(df_interval.index) "
   ]
  },
  {
   "cell_type": "markdown",
   "metadata": {},
   "source": [
    "### 6. Write a Pandas program to create a dataframe indexing by date and time."
   ]
  },
  {
   "cell_type": "code",
   "execution_count": 9,
   "metadata": {},
   "outputs": [
    {
     "name": "stdout",
     "output_type": "stream",
     "text": [
      "Create a dataframe, indexing by date and time:\n",
      "                     Sale_amt\n",
      "2020-05-12 07:10:10       100\n",
      "2020-05-12 07:10:11       110\n",
      "2020-05-12 07:10:12       117\n",
      "2020-05-12 07:10:13       150\n",
      "2020-05-12 07:10:14       112\n",
      "2020-05-12 07:10:15        99\n",
      "2020-05-12 07:10:16       129\n",
      "2020-05-12 07:10:17       135\n",
      "2020-05-12 07:10:18       140\n",
      "2020-05-12 07:10:19       150\n"
     ]
    }
   ],
   "source": [
    "print(\"Create a dataframe, indexing by date and time:\")\n",
    "\n",
    "dt_range = pd.date_range(start ='2020-05-12 07:10:10', freq ='S', periods = 10) \n",
    "df_dt = pd.DataFrame({\"Sale_amt\":[100, 110, 117, 150, 112, 99, 129, 135, 140, 150]},\n",
    "                            index = dt_range)\n",
    "print(df_dt)"
   ]
  },
  {
   "cell_type": "markdown",
   "metadata": {},
   "source": [
    "### 7. Write a Pandas program to create a dataframe and set a title or name of the index column."
   ]
  },
  {
   "cell_type": "code",
   "execution_count": 10,
   "metadata": {},
   "outputs": [
    {
     "name": "stdout",
     "output_type": "stream",
     "text": [
      "Original DataFrame:\n",
      "   school_code class            name date_Of_Birth  weight  address\n",
      "t1        s001     V  Alberto Franco    15/05/2002      35  street1\n",
      "t2        s002     V    Gino Mcneill    17/05/2002      32  street2\n",
      "t3        s003    VI     Ryan Parkes    16/02/1999      33  street3\n",
      "t4        s001    VI    Eesha Hinton    25/09/1998      30  street1\n",
      "t5        s002     V    Gino Mcneill    11/05/2002      31  street2\n",
      "t6        s004    VI    David Parkes    15/09/1997      32  street4\n",
      "\n",
      "Said DataFrame with a title or name of the index column:\n",
      "           school_code class            name date_Of_Birth  weight  address\n",
      "Index_name                                                                 \n",
      "t1                s001     V  Alberto Franco    15/05/2002      35  street1\n",
      "t2                s002     V    Gino Mcneill    17/05/2002      32  street2\n",
      "t3                s003    VI     Ryan Parkes    16/02/1999      33  street3\n",
      "t4                s001    VI    Eesha Hinton    25/09/1998      30  street1\n",
      "t5                s002     V    Gino Mcneill    11/05/2002      31  street2\n",
      "t6                s004    VI    David Parkes    15/09/1997      32  street4\n"
     ]
    }
   ],
   "source": [
    "df = pd.DataFrame({\n",
    "    'school_code': ['s001','s002','s003','s001','s002','s004'],\n",
    "    'class': ['V', 'V', 'VI', 'VI', 'V', 'VI'],\n",
    "    'name': ['Alberto Franco','Gino Mcneill','Ryan Parkes', 'Eesha Hinton', 'Gino Mcneill', 'David Parkes'],\n",
    "    'date_Of_Birth': ['15/05/2002','17/05/2002','16/02/1999','25/09/1998','11/05/2002','15/09/1997'],\n",
    "    'weight': [35, 32, 33, 30, 31, 32],\n",
    "    'address': ['street1', 'street2', 'street3', 'street1', 'street2', 'street4']},\n",
    "                                index = ['t1', 't2', 't3', 't4', 't5', 't6'])\n",
    "print(\"Original DataFrame:\")\n",
    "print(df)\n",
    "df.index.name = 'Index_name'\n",
    "print(\"\\nSaid DataFrame with a title or name of the index column:\")\n",
    "print(df)"
   ]
  },
  {
   "cell_type": "markdown",
   "metadata": {},
   "source": [
    "### 8. Write a Pandas program to set value in a specific cell in a given dataframe using index."
   ]
  },
  {
   "cell_type": "code",
   "execution_count": 11,
   "metadata": {},
   "outputs": [
    {
     "name": "stdout",
     "output_type": "stream",
     "text": [
      "Original DataFrame:\n",
      "   school_code class            name date_of_birth  weight\n",
      "t1        s001     V  Alberto Franco    15/05/2002      35\n",
      "t2        s002     V    Gino Mcneill    17/05/2002      32\n",
      "t3        s003    VI     Ryan Parkes    16/02/1999      33\n",
      "t4        s001    VI    Eesha Hinton    25/09/1998      30\n",
      "t5        s002     V    Gino Mcneill    11/05/2002      31\n",
      "t6        s004    VI    David Parkes    15/09/1997      32\n",
      "\n",
      "Set school code 's004' to 's005':\n",
      "   school_code class            name date_of_birth  weight\n",
      "t1        s001     V  Alberto Franco    15/05/2002      35\n",
      "t2        s002     V    Gino Mcneill    17/05/2002      32\n",
      "t3        s003    VI     Ryan Parkes    16/02/1999      33\n",
      "t4        s001    VI    Eesha Hinton    25/09/1998      30\n",
      "t5        s002     V    Gino Mcneill    11/05/2002      31\n",
      "t6        s005    VI    David Parkes    15/09/1997      32\n",
      "\n",
      "Set date_of_birth of 'Alberto Franco' to '16/05/2002':\n",
      "   school_code class            name date_of_birth  weight\n",
      "t1        s001     V  Alberto Franco    16/05/2002      35\n",
      "t2        s002     V    Gino Mcneill    17/05/2002      32\n",
      "t3        s003    VI     Ryan Parkes    16/02/1999      33\n",
      "t4        s001    VI    Eesha Hinton    25/09/1998      30\n",
      "t5        s002     V    Gino Mcneill    11/05/2002      31\n",
      "t6        s005    VI    David Parkes    15/09/1997      32\n"
     ]
    }
   ],
   "source": [
    "df = pd.DataFrame({\n",
    "    'school_code': ['s001','s002','s003','s001','s002','s004'],\n",
    "    'class': ['V', 'V', 'VI', 'VI', 'V', 'VI'],\n",
    "    'name': ['Alberto Franco','Gino Mcneill','Ryan Parkes', 'Eesha Hinton', 'Gino Mcneill', 'David Parkes'],\n",
    "    'date_of_birth': ['15/05/2002','17/05/2002','16/02/1999','25/09/1998','11/05/2002','15/09/1997'],\n",
    "    'weight': [35, 32, 33, 30, 31, 32]},\n",
    "     index = ['t1', 't2', 't3', 't4', 't5', 't6'])\n",
    "print(\"Original DataFrame:\")\n",
    "print(df)\n",
    "print(\"\\nSet school code 's004' to 's005':\")\n",
    "df.at['t6', 'school_code'] = 's005'\n",
    "print(df)\n",
    "print(\"\\nSet date_of_birth of 'Alberto Franco' to '16/05/2002':\")\n",
    "df.at['t1', 'date_of_birth'] = '16/05/2002'\n",
    "print(df)"
   ]
  },
  {
   "cell_type": "markdown",
   "metadata": {},
   "source": [
    "### 9. Write a Pandas program to convert index of a given dataframe into a column."
   ]
  },
  {
   "cell_type": "code",
   "execution_count": 12,
   "metadata": {},
   "outputs": [
    {
     "name": "stdout",
     "output_type": "stream",
     "text": [
      "Original DataFrame:\n",
      "   school_code class            name date_of_birth  weight\n",
      "t1        s001     V  Alberto Franco    15/05/2002      35\n",
      "t2        s002     V    Gino Mcneill    17/05/2002      32\n",
      "t3        s003    VI     Ryan Parkes    16/02/1999      33\n",
      "t4        s001    VI    Eesha Hinton    25/09/1998      30\n",
      "t5        s002     V    Gino Mcneill    11/05/2002      31\n",
      "t6        s004    VI    David Parkes    15/09/1997      32\n",
      "\n",
      "Convert index of the said dataframe into a column:\n",
      "  index school_code class            name date_of_birth  weight\n",
      "0    t1        s001     V  Alberto Franco    15/05/2002      35\n",
      "1    t2        s002     V    Gino Mcneill    17/05/2002      32\n",
      "2    t3        s003    VI     Ryan Parkes    16/02/1999      33\n",
      "3    t4        s001    VI    Eesha Hinton    25/09/1998      30\n",
      "4    t5        s002     V    Gino Mcneill    11/05/2002      31\n",
      "5    t6        s004    VI    David Parkes    15/09/1997      32\n"
     ]
    }
   ],
   "source": [
    "df = pd.DataFrame({\n",
    "    'school_code': ['s001','s002','s003','s001','s002','s004'],\n",
    "    'class': ['V', 'V', 'VI', 'VI', 'V', 'VI'],\n",
    "    'name': ['Alberto Franco','Gino Mcneill','Ryan Parkes', 'Eesha Hinton', 'Gino Mcneill', 'David Parkes'],\n",
    "    'date_of_birth': ['15/05/2002','17/05/2002','16/02/1999','25/09/1998','11/05/2002','15/09/1997'],\n",
    "    'weight': [35, 32, 33, 30, 31, 32]},\n",
    "     index = ['t1', 't2', 't3', 't4', 't5', 't6'])\n",
    "print(\"Original DataFrame:\")\n",
    "print(df)\n",
    "print(\"\\nConvert index of the said dataframe into a column:\")\n",
    "df.reset_index(level=0, inplace=True)\n",
    "print(df)"
   ]
  },
  {
   "cell_type": "markdown",
   "metadata": {},
   "source": [
    "### 10. Write a Pandas program to convert 1st and 3rd levels in the index into columns from a multiple level of index frame of a given dataframe."
   ]
  },
  {
   "cell_type": "code",
   "execution_count": 13,
   "metadata": {},
   "outputs": [
    {
     "name": "stdout",
     "output_type": "stream",
     "text": [
      "Original DataFrame:\n",
      "  school_code class            name date_of_birth  weight t_id\n",
      "0        s001     V  Alberto Franco    15/05/2002      35   t1\n",
      "1        s002     V    Gino Mcneill    17/05/2002      32   t2\n",
      "2        s003    VI     Ryan Parkes    16/02/1999      33   t3\n",
      "3        s001    VI    Eesha Hinton    25/09/1998      30   t4\n",
      "4        s002     V    Gino Mcneill    11/05/2002      31   t5\n",
      "5        s004    VI    David Parkes    15/09/1997      32   t6\n",
      "\n",
      "MultiIndex using columns 't_id', ‘school_code’ and 'class':\n",
      "                                  name date_of_birth  weight\n",
      "t_id school_code class                                      \n",
      "t1   s001        V      Alberto Franco    15/05/2002      35\n",
      "t2   s002        V        Gino Mcneill    17/05/2002      32\n",
      "t3   s003        VI        Ryan Parkes    16/02/1999      33\n",
      "t4   s001        VI       Eesha Hinton    25/09/1998      30\n",
      "t5   s002        V        Gino Mcneill    11/05/2002      31\n",
      "t6   s004        VI       David Parkes    15/09/1997      32\n",
      "\n",
      "Convert 1st and 3rd levels in the index frame into columns:\n",
      "            t_id class            name date_of_birth  weight\n",
      "school_code                                                 \n",
      "s001          t1     V  Alberto Franco    15/05/2002      35\n",
      "s002          t2     V    Gino Mcneill    17/05/2002      32\n",
      "s003          t3    VI     Ryan Parkes    16/02/1999      33\n",
      "s001          t4    VI    Eesha Hinton    25/09/1998      30\n",
      "s002          t5     V    Gino Mcneill    11/05/2002      31\n",
      "s004          t6    VI    David Parkes    15/09/1997      32\n"
     ]
    }
   ],
   "source": [
    "df = pd.DataFrame({\n",
    "    'school_code': ['s001','s002','s003','s001','s002','s004'],\n",
    "    'class': ['V', 'V', 'VI', 'VI', 'V', 'VI'],\n",
    "    'name': ['Alberto Franco','Gino Mcneill','Ryan Parkes', 'Eesha Hinton', 'Gino Mcneill', 'David Parkes'],\n",
    "    'date_of_birth': ['15/05/2002','17/05/2002','16/02/1999','25/09/1998','11/05/2002','15/09/1997'],\n",
    "    'weight': [35, 32, 33, 30, 31, 32],\n",
    "    't_id': ['t1', 't2', 't3', 't4', 't5', 't6']})\n",
    "print(\"Original DataFrame:\")\n",
    "print(df)\n",
    "print(\"\\nMultiIndex using columns 't_id', ‘school_code’ and 'class':\")\n",
    "df1 = df.set_index(['t_id', 'school_code', 'class'])\n",
    "print(df1)\n",
    "print(\"\\nConvert 1st and 3rd levels in the index frame into columns:\")\n",
    "df2 = df1.reset_index(level=['t_id', 'class'])\n",
    "print(df2)"
   ]
  },
  {
   "cell_type": "markdown",
   "metadata": {},
   "source": [
    "### 11. Write a Pandas program to check if a specified value exists in single and multiple column index dataframe."
   ]
  },
  {
   "cell_type": "code",
   "execution_count": 14,
   "metadata": {},
   "outputs": [
    {
     "name": "stdout",
     "output_type": "stream",
     "text": [
      "Original DataFrame with single index:\n",
      "   school_code class            name date_of_birth  weight\n",
      "t1        s001     V  Alberto Franco    15/05/2002      35\n",
      "t2        s002     V    Gino Mcneill    17/05/2002      32\n",
      "t3        s003    VI     Ryan Parkes    16/02/1999      33\n",
      "t4        s001    VI    Eesha Hinton    25/09/1998      30\n",
      "t5        s002     V    Gino Mcneill    11/05/2002      31\n",
      "t6        s004    VI    David Parkes    15/09/1997      32\n",
      "\n",
      "Check a value is exist in single column index dataframe:\n",
      "True\n",
      "False\n",
      "\n",
      "Create MultiIndex using columns 't_id', ‘school_code’ and 'class':\n",
      "                                  name date_of_birth  weight\n",
      "t_id school_code class                                      \n",
      "t1   s001        V      Alberto Franco    15/05/2002      35\n",
      "t2   s002        V        Gino Mcneill    17/05/2002      32\n",
      "t3   s003        VI        Ryan Parkes    16/02/1999      33\n",
      "t4   s001        VI       Eesha Hinton    25/09/1998      30\n",
      "t5   s002        V        Gino Mcneill    11/05/2002      31\n",
      "t6   s004        VI       David Parkes    15/09/1997      32\n",
      "\n",
      "Check a value is exist in multiple columns index dataframe:\n",
      "True\n",
      "False\n",
      "False\n"
     ]
    }
   ],
   "source": [
    "df = pd.DataFrame({\n",
    "    'school_code': ['s001','s002','s003','s001','s002','s004'],\n",
    "    'class': ['V', 'V', 'VI', 'VI', 'V', 'VI'],\n",
    "    'name': ['Alberto Franco','Gino Mcneill','Ryan Parkes', 'Eesha Hinton', 'Gino Mcneill', 'David Parkes'],\n",
    "    'date_of_birth': ['15/05/2002','17/05/2002','16/02/1999','25/09/1998','11/05/2002','15/09/1997'],\n",
    "    'weight': [35, 32, 33, 30, 31, 32]},\n",
    "     index =  ['t1', 't2', 't3', 't4', 't5', 't6'])\n",
    "print(\"Original DataFrame with single index:\")\n",
    "print(df)\n",
    "print(\"\\nCheck a value is exist in single column index dataframe:\")\n",
    "print('t1' in df.index)\n",
    "print('t11' in df.index)\n",
    "print(\"\\nCreate MultiIndex using columns 't_id', ‘school_code’ and 'class':\")\n",
    "df = pd.DataFrame({\n",
    "    'school_code': ['s001','s002','s003','s001','s002','s004'],\n",
    "    'class': ['V', 'V', 'VI', 'VI', 'V', 'VI'],\n",
    "    'name': ['Alberto Franco','Gino Mcneill','Ryan Parkes', 'Eesha Hinton', 'Gino Mcneill', 'David Parkes'],\n",
    "    'date_of_birth': ['15/05/2002','17/05/2002','16/02/1999','25/09/1998','11/05/2002','15/09/1997'],\n",
    "    'weight': [35, 32, 33, 30, 31, 32],\n",
    "    't_id': ['t1', 't2', 't3', 't4', 't5', 't6']})\n",
    "df1 = df.set_index(['t_id', 'school_code', 'class'])\n",
    "print(df1)\n",
    "print(\"\\nCheck a value is exist in multiple columns index dataframe:\")\n",
    "print('t4' in df1.index.levels[0])\n",
    "print('t4' in df1.index.levels[1])\n",
    "print('t4' in df1.index.levels[2])"
   ]
  },
  {
   "cell_type": "markdown",
   "metadata": {},
   "source": [
    "### 12. Write a Pandas program to construct a series using the MultiIndex levels as the column and index."
   ]
  },
  {
   "cell_type": "code",
   "execution_count": 15,
   "metadata": {},
   "outputs": [
    {
     "name": "stdout",
     "output_type": "stream",
     "text": [
      "Create a MultiIndex:\n",
      "[('sale1', 'city1'), ('sale1', 'city2'), ('sale2', 'city1'), ('sale2', 'city2'), ('sale3', 'city1'), ('sale3', 'city2'), ('sale4', 'city1'), ('sale4', 'city2')]\n",
      "\n",
      "Construct a series using the said MultiIndex levels: \n",
      "sale   city \n",
      "sale1  city1    1.325733\n",
      "       city2   -1.453250\n",
      "sale2  city1    0.772817\n",
      "       city2    0.415648\n",
      "sale3  city1   -1.701199\n",
      "       city2   -1.864531\n",
      "sale4  city1    0.443570\n",
      "       city2    0.461333\n",
      "dtype: float64\n"
     ]
    }
   ],
   "source": [
    "sales_arrays = [['sale1', 'sale1', 'sale2', 'sale2', 'sale3', 'sale3', 'sale4', 'sale4'],\n",
    "          ['city1', 'city2', 'city1', 'city2', 'city1', 'city2', 'city1', 'city2']]\n",
    "sales_tuples = list(zip(*sales_arrays))\n",
    "print(\"Create a MultiIndex:\")\n",
    "sales_index = pd.MultiIndex.from_tuples(sales_tuples, names=['sale', 'city'])\n",
    "print(sales_tuples)\n",
    "print(\"\\nConstruct a series using the said MultiIndex levels: \")\n",
    "s = pd.Series(np.random.randn(8), index = sales_index)\n",
    "print(s)"
   ]
  },
  {
   "cell_type": "markdown",
   "metadata": {},
   "source": [
    "### 13. Write a Pandas program to construct a DataFrame using the MultiIndex levels as the column and index."
   ]
  },
  {
   "cell_type": "code",
   "execution_count": 16,
   "metadata": {},
   "outputs": [
    {
     "name": "stdout",
     "output_type": "stream",
     "text": [
      "Create a MultiIndex:\n",
      "[('sale1', 'city1'), ('sale1', 'city2'), ('sale2', 'city1'), ('sale2', 'city2'), ('sale3', 'city1'), ('sale3', 'city2'), ('sale4', 'city1'), ('sale4', 'city2')]\n",
      "\n",
      "Construct a Dataframe using the said MultiIndex levels: \n",
      "                    0         1         2         3         4\n",
      "sale  city                                                   \n",
      "sale1 city1  1.189188 -1.439349  1.674272 -1.416365  0.492179\n",
      "      city2  0.250666 -0.360241  1.005881  1.045943 -0.188589\n",
      "sale2 city1  2.455155 -0.509151 -1.823749 -0.108468  0.692310\n",
      "      city2 -1.509522 -0.152003 -1.112226  1.255006  1.279334\n",
      "sale3 city1  1.076276  1.381744 -1.874969 -0.826515  0.032979\n",
      "      city2  0.534632 -0.003149 -0.587384 -1.790446 -0.681672\n",
      "sale4 city1 -1.340083  0.620208 -1.096599  0.666693 -1.191205\n",
      "      city2 -0.211072  1.050174 -0.733490 -1.638152  1.122910\n"
     ]
    }
   ],
   "source": [
    "sales_arrays = [['sale1', 'sale1', 'sale2', 'sale2', 'sale3', 'sale3', 'sale4', 'sale4'],\n",
    "          ['city1', 'city2', 'city1', 'city2', 'city1', 'city2', 'city1', 'city2']]\n",
    "sales_tuples = list(zip(*sales_arrays))\n",
    "print(\"Create a MultiIndex:\")\n",
    "sales_index = pd.MultiIndex.from_tuples(sales_tuples, names=['sale', 'city'])\n",
    "print(sales_tuples)\n",
    "print(\"\\nConstruct a Dataframe using the said MultiIndex levels: \")\n",
    "df = pd.DataFrame(np.random.randn(8, 5), index=sales_index)\n",
    "print(df)"
   ]
  },
  {
   "cell_type": "markdown",
   "metadata": {},
   "source": [
    "### 14. Write a Pandas program to extract a single row, rows and a specific value from a MultiIndex levels DataFrame."
   ]
  },
  {
   "cell_type": "code",
   "execution_count": 17,
   "metadata": {},
   "outputs": [
    {
     "name": "stdout",
     "output_type": "stream",
     "text": [
      "[('sale1', 'city1'), ('sale1', 'city2'), ('sale2', 'city1'), ('sale2', 'city2'), ('sale3', 'city1'), ('sale3', 'city2'), ('sale4', 'city1'), ('sale4', 'city2')]\n",
      "\n",
      "Construct a Dataframe using the said MultiIndex levels: \n",
      "                    0         1         2         3         4\n",
      "sale  city                                                   \n",
      "sale1 city1  1.253222  0.838503 -1.038234  1.440660 -0.630413\n",
      "      city2  1.665344 -0.672262 -0.201445 -1.391869  0.931585\n",
      "sale2 city1 -1.691296  0.103189 -3.040202 -0.594216  0.445014\n",
      "      city2 -1.342986  1.005120 -0.372888  0.557514  0.222319\n",
      "sale3 city1 -0.585573 -1.327588 -2.164447  0.567833  0.553955\n",
      "      city2  1.877908 -2.053429  0.419066  0.912864  2.135440\n",
      "sale4 city1  0.670047 -1.366780  0.622295 -1.005667 -1.798768\n",
      "      city2 -0.753775  0.481424  0.363212  0.369481 -0.851119\n",
      "\n",
      "Extract a single row from the said dataframe:\n",
      "0   -1.342986\n",
      "1    1.005120\n",
      "2   -0.372888\n",
      "3    0.557514\n",
      "4    0.222319\n",
      "Name: (sale2, city2), dtype: float64\n",
      "\n",
      "Extract a single row from the said dataframe:\n",
      "0   -1.342986\n",
      "1    1.005120\n",
      "2   -0.372888\n",
      "3    0.557514\n",
      "4    0.222319\n",
      "Name: (sale2, city2), dtype: float64\n",
      "\n",
      "Extract number of rows from the said dataframe:\n",
      "              0         1         2         3         4\n",
      "city                                                   \n",
      "city1  1.253222  0.838503 -1.038234  1.440660 -0.630413\n",
      "city2  1.665344 -0.672262 -0.201445 -1.391869  0.931585\n",
      "\n",
      "Extract number of rows from the said dataframe:\n",
      "              0         1         2         3         4\n",
      "city                                                   \n",
      "city1 -0.585573 -1.327588 -2.164447  0.567833  0.553955\n",
      "city2  1.877908 -2.053429  0.419066  0.912864  2.135440\n",
      "\n",
      "Extract a single value from the said dataframe:\n",
      "-0.6722623797289179\n",
      "\n",
      "Extract a single value from the said dataframe:\n",
      "-1.7987676320125336\n"
     ]
    }
   ],
   "source": [
    "sales_arrays = [['sale1', 'sale1', 'sale2', 'sale2', 'sale3', 'sale3', 'sale4', 'sale4'],\n",
    "          ['city1', 'city2', 'city1', 'city2', 'city1', 'city2', 'city1', 'city2']]\n",
    "sales_tuples = list(zip(*sales_arrays))\n",
    "sales_index = pd.MultiIndex.from_tuples(sales_tuples, names=['sale', 'city'])\n",
    "print(sales_tuples)\n",
    "print(\"\\nConstruct a Dataframe using the said MultiIndex levels: \")\n",
    "df = pd.DataFrame(np.random.randn(8, 5), index=sales_index)\n",
    "print(df)\n",
    "\n",
    "print(\"\\nExtract a single row from the said dataframe:\")\n",
    "print(df.loc[('sale2', 'city2')])\n",
    "print(\"\\nExtract a single row from the said dataframe:\")\n",
    "print(df.loc[('sale2', 'city2')])\n",
    "\n",
    "print(\"\\nExtract number of rows from the said dataframe:\")\n",
    "print(df.loc['sale1'])\n",
    "print(\"\\nExtract number of rows from the said dataframe:\")\n",
    "print(df.loc['sale3'])\n",
    "\n",
    "print(\"\\nExtract a single value from the said dataframe:\")\n",
    "print(df.loc[('sale1', 'city2'), 1])\n",
    "print(\"\\nExtract a single value from the said dataframe:\")\n",
    "print(df.loc[('sale4', 'city1'), 4])"
   ]
  },
  {
   "cell_type": "markdown",
   "metadata": {},
   "source": [
    "### 15. Write a Pandas program to rename names of columns and specific labels of the Main Index of the MultiIndex dataframe."
   ]
  },
  {
   "cell_type": "code",
   "execution_count": 18,
   "metadata": {},
   "outputs": [
    {
     "name": "stdout",
     "output_type": "stream",
     "text": [
      "[('sale1', 'city1'), ('sale1', 'city2'), ('sale2', 'city1'), ('sale2', 'city2'), ('sale3', 'city1'), ('sale3', 'city2'), ('sale4', 'city1'), ('sale4', 'city2')]\n",
      "\n",
      "Construct a Dataframe using the said MultiIndex levels: \n",
      "                    0         1         2         3         4\n",
      "sale  city                                                   \n",
      "sale1 city1 -0.815711  0.196617  0.118393 -1.005315 -2.030531\n",
      "      city2 -1.186564  0.409359  0.442787  0.228086  0.856044\n",
      "sale2 city1 -2.700504  0.239858 -0.300615 -0.499622 -1.280402\n",
      "      city2  0.957539  0.577667 -1.404217 -0.511968  0.097922\n",
      "sale3 city1  0.128323  0.201568 -0.068244 -0.594244  1.287703\n",
      "      city2  0.349442  2.927380  0.576723 -0.571945 -1.038218\n",
      "sale4 city1 -1.356686  1.177640 -0.348592 -0.793408 -0.873820\n",
      "      city2 -1.579944 -0.762660  1.821531  0.517221  0.599199\n",
      "\n",
      "Rename the columns name of the said dataframe\n",
      "                 col1      col2      col3      col4      col5\n",
      "sale  city                                                   \n",
      "sale1 city1 -0.815711  0.196617  0.118393 -1.005315 -2.030531\n",
      "      city2 -1.186564  0.409359  0.442787  0.228086  0.856044\n",
      "sale2 city1 -2.700504  0.239858 -0.300615 -0.499622 -1.280402\n",
      "      city2  0.957539  0.577667 -1.404217 -0.511968  0.097922\n",
      "sale3 city1  0.128323  0.201568 -0.068244 -0.594244  1.287703\n",
      "      city2  0.349442  2.927380  0.576723 -0.571945 -1.038218\n",
      "sale4 city1 -1.356686  1.177640 -0.348592 -0.793408 -0.873820\n",
      "      city2 -1.579944 -0.762660  1.821531  0.517221  0.599199\n",
      "\n",
      "Rename specific labels of the main index of the DataFrame\n",
      "                 col1      col2      col3      col4      col5\n",
      "sale  city                                                   \n",
      "sale1 city1 -0.815711  0.196617  0.118393 -1.005315 -2.030531\n",
      "      C2    -1.186564  0.409359  0.442787  0.228086  0.856044\n",
      "S2    city1 -2.700504  0.239858 -0.300615 -0.499622 -1.280402\n",
      "      C2     0.957539  0.577667 -1.404217 -0.511968  0.097922\n",
      "sale3 city1  0.128323  0.201568 -0.068244 -0.594244  1.287703\n",
      "      C2     0.349442  2.927380  0.576723 -0.571945 -1.038218\n",
      "sale4 city1 -1.356686  1.177640 -0.348592 -0.793408 -0.873820\n",
      "      C2    -1.579944 -0.762660  1.821531  0.517221  0.599199\n"
     ]
    }
   ],
   "source": [
    "sales_arrays = [['sale1', 'sale1', 'sale2', 'sale2', 'sale3', 'sale3', 'sale4', 'sale4'],\n",
    "          ['city1', 'city2', 'city1', 'city2', 'city1', 'city2', 'city1', 'city2']]\n",
    "sales_tuples = list(zip(*sales_arrays))\n",
    "sales_index = pd.MultiIndex.from_tuples(sales_tuples, names=['sale', 'city'])\n",
    "print(sales_tuples)\n",
    "print(\"\\nConstruct a Dataframe using the said MultiIndex levels: \")\n",
    "df = pd.DataFrame(np.random.randn(8, 5), index=sales_index)\n",
    "print(df)\n",
    "print(\"\\nRename the columns name of the said dataframe\")\n",
    "df1 = df.rename(columns={0: \"col1\", 1: \"col2\", 2:\"col3\", 3:\"col4\", 4:\"col5\"})\n",
    "print(df1)\n",
    "print(\"\\nRename specific labels of the main index of the DataFrame\")\n",
    "df2 = df1.rename(index={\"sale2\": \"S2\", \"city2\": \"C2\"})\n",
    "print(df2)"
   ]
  },
  {
   "cell_type": "markdown",
   "metadata": {},
   "source": [
    "### 16. Write a Pandas program to sort a MultiIndex of a DataFrame. Also sort on various levels of index."
   ]
  },
  {
   "cell_type": "code",
   "execution_count": 19,
   "metadata": {},
   "outputs": [
    {
     "name": "stdout",
     "output_type": "stream",
     "text": [
      "[('sale1', 'city1'), ('sale1', 'city2'), ('sale3', 'city1'), ('sale3', 'city2'), ('sale2', 'city1'), ('sale2', 'city2'), ('sale4', 'city1'), ('sale4', 'city2')]\n",
      "\n",
      "Construct a Dataframe using the said MultiIndex levels: \n",
      "                    0         1         2         3         4\n",
      "sale  city                                                   \n",
      "sale1 city1 -2.096025  0.804463  0.587670 -1.501597 -2.762400\n",
      "      city2  0.438633 -0.299918 -1.064782  0.823871 -0.605631\n",
      "sale3 city1 -0.191466  0.635865  0.166142  1.249225  0.096122\n",
      "      city2  0.186159 -1.976254  0.261984 -1.454657  0.775782\n",
      "sale2 city1  0.734888 -0.540726  0.372060  0.464107 -2.768616\n",
      "      city2 -0.717150 -1.653518 -0.157692 -0.412793  0.582783\n",
      "sale4 city1  0.998045 -0.002841  2.148872 -0.235875 -1.995052\n",
      "      city2  0.693071  0.482371 -1.295963  0.313637 -0.417799\n",
      "\n",
      "Sort on MultiIndex DataFrame:\n",
      "\n",
      "Sort on Index level=0 of the DataFrame:\n",
      "                    0         1         2         3         4\n",
      "sale  city                                                   \n",
      "sale1 city1 -2.096025  0.804463  0.587670 -1.501597 -2.762400\n",
      "      city2  0.438633 -0.299918 -1.064782  0.823871 -0.605631\n",
      "sale2 city1  0.734888 -0.540726  0.372060  0.464107 -2.768616\n",
      "      city2 -0.717150 -1.653518 -0.157692 -0.412793  0.582783\n",
      "sale3 city1 -0.191466  0.635865  0.166142  1.249225  0.096122\n",
      "      city2  0.186159 -1.976254  0.261984 -1.454657  0.775782\n",
      "sale4 city1  0.998045 -0.002841  2.148872 -0.235875 -1.995052\n",
      "      city2  0.693071  0.482371 -1.295963  0.313637 -0.417799\n",
      "\n",
      "Sort on Index level=1 of the DataFrame:\n",
      "                    0         1         2         3         4\n",
      "sale  city                                                   \n",
      "sale1 city1 -2.096025  0.804463  0.587670 -1.501597 -2.762400\n",
      "sale2 city1  0.734888 -0.540726  0.372060  0.464107 -2.768616\n",
      "sale3 city1 -0.191466  0.635865  0.166142  1.249225  0.096122\n",
      "sale4 city1  0.998045 -0.002841  2.148872 -0.235875 -1.995052\n",
      "sale1 city2  0.438633 -0.299918 -1.064782  0.823871 -0.605631\n",
      "sale2 city2 -0.717150 -1.653518 -0.157692 -0.412793  0.582783\n",
      "sale3 city2  0.186159 -1.976254  0.261984 -1.454657  0.775782\n",
      "sale4 city2  0.693071  0.482371 -1.295963  0.313637 -0.417799\n",
      "\n",
      "Pass a level name to sort the DataFrame:\n",
      "                    0         1         2         3         4\n",
      "sale  city                                                   \n",
      "sale1 city1 -2.096025  0.804463  0.587670 -1.501597 -2.762400\n",
      "sale2 city1  0.734888 -0.540726  0.372060  0.464107 -2.768616\n",
      "sale3 city1 -0.191466  0.635865  0.166142  1.249225  0.096122\n",
      "sale4 city1  0.998045 -0.002841  2.148872 -0.235875 -1.995052\n",
      "sale1 city2  0.438633 -0.299918 -1.064782  0.823871 -0.605631\n",
      "sale2 city2 -0.717150 -1.653518 -0.157692 -0.412793  0.582783\n",
      "sale3 city2  0.186159 -1.976254  0.261984 -1.454657  0.775782\n",
      "sale4 city2  0.693071  0.482371 -1.295963  0.313637 -0.417799\n"
     ]
    }
   ],
   "source": [
    "sales_arrays = [['sale1', 'sale1', 'sale3', 'sale3', 'sale2', 'sale2', 'sale4', 'sale4'],\n",
    "          ['city1', 'city2', 'city1', 'city2', 'city1', 'city2', 'city1', 'city2']]\n",
    "sales_tuples = list(zip(*sales_arrays))\n",
    "sales_index = pd.MultiIndex.from_tuples(sales_tuples, names=['sale', 'city'])\n",
    "print(sales_tuples)\n",
    "print(\"\\nConstruct a Dataframe using the said MultiIndex levels: \")\n",
    "df = pd.DataFrame(np.random.randn(8, 5), index=sales_index)\n",
    "print(df)\n",
    "print(\"\\nSort on MultiIndex DataFrame:\")\n",
    "df1 = df.sort_index()\n",
    "print(\"\\nSort on Index level=0 of the DataFrame:\")\n",
    "df2 = df.sort_index(level=0)\n",
    "print(df2)\n",
    "print(\"\\nSort on Index level=1 of the DataFrame:\")\n",
    "df2 = df.sort_index(level=1)\n",
    "print(df2)\n",
    "print(\"\\nPass a level name to sort the DataFrame:\")\n",
    "df3 = df.sort_index(level=\"city\")\n",
    "print(df3)  "
   ]
  },
  {
   "cell_type": "markdown",
   "metadata": {},
   "source": [
    "### 17. Write a Pandas program to extract elements in the given positional indices along an axis of a dataframe."
   ]
  },
  {
   "cell_type": "code",
   "execution_count": 20,
   "metadata": {},
   "outputs": [
    {
     "name": "stdout",
     "output_type": "stream",
     "text": [
      "\n",
      "Construct a Dataframe using the said MultiIndex levels:\n",
      "                    0         1         2         3         4\n",
      "sale  city                                                   \n",
      "sale1 city1  1.300804  0.726985 -1.026531 -0.885696 -0.205052\n",
      "      city2  1.493715  0.801706  0.587115  0.944182  0.482661\n",
      "sale3 city1  1.342171 -1.178674  1.035768 -1.568833 -1.688849\n",
      "      city2 -2.059239 -0.059620 -0.133866 -0.614936 -0.203149\n",
      "sale2 city1  0.287500  1.009454 -1.714268 -0.598873  0.466745\n",
      "      city2 -0.624285  1.621831 -1.376632  0.225418  1.118315\n",
      "sale4 city1 -2.765298  0.039582 -2.035068  1.121742  0.233571\n",
      "      city2  0.673413 -1.174684  2.734716  1.434252  1.271389\n",
      "\n",
      "Select 1st, 2nd and 3rd row of the said DataFrame:\n",
      "                    0         1         2         3         4\n",
      "sale  city                                                   \n",
      "sale1 city2  1.493715  0.801706  0.587115  0.944182  0.482661\n",
      "sale3 city1  1.342171 -1.178674  1.035768 -1.568833 -1.688849\n",
      "sale2 city2 -0.624285  1.621831 -1.376632  0.225418  1.118315\n",
      "\n",
      "Take elements at indices 1 and 2 along the axis 1 (column selection):\n",
      "                    1         2\n",
      "sale  city                     \n",
      "sale1 city1  0.726985 -1.026531\n",
      "      city2  0.801706  0.587115\n",
      "sale3 city1 -1.178674  1.035768\n",
      "      city2 -0.059620 -0.133866\n",
      "sale2 city1  1.009454 -1.714268\n",
      "      city2  1.621831 -1.376632\n",
      "sale4 city1  0.039582 -2.035068\n",
      "      city2 -1.174684  2.734716\n",
      "\n",
      "Take elements at indices 4 and 3 using negative integers along the axis 1 (column selection):\n",
      "                    4         3\n",
      "sale  city                     \n",
      "sale1 city1 -0.205052 -0.885696\n",
      "      city2  0.482661  0.944182\n",
      "sale3 city1 -1.688849 -1.568833\n",
      "      city2 -0.203149 -0.614936\n",
      "sale2 city1  0.466745 -0.598873\n",
      "      city2  1.118315  0.225418\n",
      "sale4 city1  0.233571  1.121742\n",
      "      city2  1.271389  1.434252\n"
     ]
    }
   ],
   "source": [
    "sales_arrays = [['sale1', 'sale1', 'sale3', 'sale3', 'sale2', 'sale2', 'sale4', 'sale4'],\n",
    "          ['city1', 'city2', 'city1', 'city2', 'city1', 'city2', 'city1', 'city2']]\n",
    "sales_tuples = list(zip(*sales_arrays))\n",
    "sales_index = pd.MultiIndex.from_tuples(sales_tuples, names=['sale', 'city'])\n",
    "print(\"\\nConstruct a Dataframe using the said MultiIndex levels:\")\n",
    "df = pd.DataFrame(np.random.randn(8, 5), index=sales_index)\n",
    "print(df)\n",
    "print(\"\\nSelect 1st, 2nd and 3rd row of the said DataFrame:\")\n",
    "positions = [1, 2, 5]\n",
    "print(df.take([1, 2, 5]))\n",
    "\n",
    "print(\"\\nTake elements at indices 1 and 2 along the axis 1 (column selection):\")\n",
    "print(df.take([1, 2], axis=1))\n",
    "\n",
    "print(\"\\nTake elements at indices 4 and 3 using negative integers along the axis 1 (column selection):\")\n",
    "print(df.take([-1, -2], axis=1))"
   ]
  },
  {
   "cell_type": "markdown",
   "metadata": {},
   "source": [
    "### 18. Write a Pandas program to get the index of an element of a given Series."
   ]
  },
  {
   "cell_type": "code",
   "execution_count": 21,
   "metadata": {},
   "outputs": [
    {
     "name": "stdout",
     "output_type": "stream",
     "text": [
      "Original Series:\n",
      "0     1\n",
      "1     3\n",
      "2     5\n",
      "3     7\n",
      "4     9\n",
      "5    11\n",
      "7    13\n",
      "8    15\n",
      "dtype: int64\n",
      "\n",
      "Index of 11 in the said series:\n",
      "5\n"
     ]
    }
   ],
   "source": [
    "ds = pd.Series([1,3,5,7,9,11,13,15], index=[0,1,2,3,4,5,7,8])\n",
    "print(\"Original Series:\")\n",
    "print(ds)\n",
    "print(\"\\nIndex of 11 in the said series:\")\n",
    "x = ds[ds == 11].index[0]\n",
    "print(x)"
   ]
  },
  {
   "cell_type": "markdown",
   "metadata": {},
   "source": [
    "### 19. Write a Pandas program to select a specific row of given series/dataframe by integer index."
   ]
  },
  {
   "cell_type": "code",
   "execution_count": 22,
   "metadata": {},
   "outputs": [
    {
     "name": "stdout",
     "output_type": "stream",
     "text": [
      "Original Series:\n",
      "0     1\n",
      "1     3\n",
      "2     5\n",
      "3     7\n",
      "4     9\n",
      "5    11\n",
      "7    13\n",
      "8    15\n",
      "dtype: int64\n",
      "\n",
      "Print specified row from the said series using location based indexing:\n",
      "\n",
      "Third row:\n",
      "2    5\n",
      "dtype: int64\n",
      "\n",
      "Fifth row:\n",
      "4    9\n",
      "dtype: int64\n",
      "Original DataFrame with single index:\n",
      "  school_code class            name date_of_birth  weight\n",
      "0        s001     V  Alberto Franco    15/05/2002      35\n",
      "1        s002     V    Gino Mcneill    17/05/2002      32\n",
      "2        s003    VI     Ryan Parkes    16/02/1999      33\n",
      "3        s001    VI    Eesha Hinton    25/09/1998      30\n",
      "4        s002     V    Gino Mcneill    11/05/2002      31\n",
      "5        s004    VI    David Parkes    15/09/1997      32\n",
      "\n",
      "Print specified row from the said DataFrame using location based indexing:\n",
      "\n",
      "Third row:\n",
      "  school_code class         name date_of_birth  weight\n",
      "2        s003    VI  Ryan Parkes    16/02/1999      33\n",
      "\n",
      "Fifth row:\n",
      "  school_code class          name date_of_birth  weight\n",
      "4        s002     V  Gino Mcneill    11/05/2002      31\n"
     ]
    }
   ],
   "source": [
    "ds = pd.Series([1,3,5,7,9,11,13,15], index=[0,1,2,3,4,5,7,8])\n",
    "print(\"Original Series:\")\n",
    "print(ds)\n",
    "print(\"\\nPrint specified row from the said series using location based indexing:\")\n",
    "print(\"\\nThird row:\")\n",
    "print(ds.iloc[[2]])\n",
    "print(\"\\nFifth row:\")\n",
    "print(ds.iloc[[4]])\n",
    "df = pd.DataFrame({\n",
    "    'school_code': ['s001','s002','s003','s001','s002','s004'],\n",
    "    'class': ['V', 'V', 'VI', 'VI', 'V', 'VI'],\n",
    "    'name': ['Alberto Franco','Gino Mcneill','Ryan Parkes', 'Eesha Hinton', 'Gino Mcneill', 'David Parkes'],\n",
    "    'date_of_birth': ['15/05/2002','17/05/2002','16/02/1999','25/09/1998','11/05/2002','15/09/1997'],\n",
    "    'weight': [35, 32, 33, 30, 31, 32]})\n",
    "\n",
    "print(\"Original DataFrame with single index:\")\n",
    "print(df)\n",
    "print(\"\\nPrint specified row from the said DataFrame using location based indexing:\")\n",
    "print(\"\\nThird row:\")\n",
    "print(df.iloc[[2]])\n",
    "print(\"\\nFifth row:\")\n",
    "print(df.iloc[[4]])"
   ]
  },
  {
   "cell_type": "markdown",
   "metadata": {},
   "source": [
    "### 20. Write a Pandas program to find the indexes of rows of a specified value of a given column in a DataFrame."
   ]
  },
  {
   "cell_type": "code",
   "execution_count": 23,
   "metadata": {},
   "outputs": [
    {
     "name": "stdout",
     "output_type": "stream",
     "text": [
      "Original DataFrame with single index:\n",
      "  school_code class            name date_of_birth  weight\n",
      "1        s001     V  Alberto Franco    15/05/2002      35\n",
      "2        s002     V    Gino Mcneill    17/05/2002      32\n",
      "3        s003    VI     Ryan Parkes    16/02/1999      33\n",
      "4        s001    VI    Eesha Hinton    25/09/1998      30\n",
      "5        s002     V    Gino Mcneill    11/05/2002      31\n",
      "6        s004    VI    David Parkes    15/09/1997      32\n",
      "\n",
      "Index of rows where specified column matches certain value:\n",
      "[1, 4]\n"
     ]
    }
   ],
   "source": [
    "df = pd.DataFrame({\n",
    "    'school_code': ['s001','s002','s003','s001','s002','s004'],\n",
    "    'class': ['V', 'V', 'VI', 'VI', 'V', 'VI'],\n",
    "    'name': ['Alberto Franco','Gino Mcneill','Ryan Parkes', 'Eesha Hinton', 'Gino Mcneill', 'David Parkes'],\n",
    "    'date_of_birth': ['15/05/2002','17/05/2002','16/02/1999','25/09/1998','11/05/2002','15/09/1997'],\n",
    "    'weight': [35, 32, 33, 30, 31, 32]},\n",
    "     index =  [1, 2, 3, 4, 5, 6])\n",
    "print(\"Original DataFrame with single index:\")\n",
    "print(df)\n",
    "print(\"\\nIndex of rows where specified column matches certain value:\")\n",
    "print(df.index[df['school_code']=='s001'].tolist())"
   ]
  },
  {
   "cell_type": "markdown",
   "metadata": {},
   "source": [
    "### 21. Write a Pandas program to drop a index level from a multi-level column index of a dataframe."
   ]
  },
  {
   "cell_type": "code",
   "execution_count": 24,
   "metadata": {},
   "outputs": [
    {
     "name": "stdout",
     "output_type": "stream",
     "text": [
      "\n",
      "Construct a Dataframe using the said MultiIndex levels: \n",
      "   a      \n",
      "   x  y  z\n",
      "0  1  2  3\n",
      "1  3  4  5\n",
      "2  5  6  7\n",
      "\n",
      "Remove the top level index:\n",
      "   x  y  z\n",
      "0  1  2  3\n",
      "1  3  4  5\n",
      "2  5  6  7\n",
      "\n",
      "Original dataframe:\n",
      "   a      \n",
      "   x  y  z\n",
      "0  1  2  3\n",
      "1  3  4  5\n",
      "2  5  6  7\n",
      "\n",
      "Remove the index next to top level:\n",
      "   a  a  a\n",
      "0  1  2  3\n",
      "1  3  4  5\n",
      "2  5  6  7\n"
     ]
    }
   ],
   "source": [
    "cols = pd.MultiIndex.from_tuples([(\"a\", \"x\"), (\"a\", \"y\"), (\"a\", \"z\")])\n",
    "print(\"\\nConstruct a Dataframe using the said MultiIndex levels: \")\n",
    "df = pd.DataFrame([[1,2,3], [3,4,5], [5,6,7]], columns=cols)\n",
    "print(df)\n",
    "#Levels are 0-indexed beginning from the top.\n",
    "print(\"\\nRemove the top level index:\")\n",
    "df.columns = df.columns.droplevel(0)\n",
    "print(df)\n",
    "df = pd.DataFrame([[1,2,3], [3,4,5], [5,6,7]], columns=cols)\n",
    "print(\"\\nOriginal dataframe:\")\n",
    "print(df)\n",
    "print(\"\\nRemove the index next to top level:\")\n",
    "df.columns = df.columns.droplevel(1)\n",
    "print(df)"
   ]
  },
  {
   "cell_type": "markdown",
   "metadata": {},
   "source": [
    "### 22. Write a Pandas program to insert a column at a specific index in a given DataFrame."
   ]
  },
  {
   "cell_type": "code",
   "execution_count": 25,
   "metadata": {},
   "outputs": [
    {
     "name": "stdout",
     "output_type": "stream",
     "text": [
      "Original DataFrame with single index:\n",
      "  school_code class            name  weight\n",
      "1        s001     V  Alberto Franco      35\n",
      "2        s002     V    Gino Mcneill      32\n",
      "3        s003    VI     Ryan Parkes      33\n",
      "4        s001    VI    Eesha Hinton      30\n",
      "5        s002     V    Gino Mcneill      31\n",
      "6        s004    VI    David Parkes      32\n",
      "\n",
      "Insert 'date_of_birth' column in 3rd position of the said DataFrame:\n",
      "  school_code class            name date_of_birth  weight\n",
      "1        s001     V  Alberto Franco    15/05/2002      35\n",
      "2        s002     V    Gino Mcneill    17/05/2002      32\n",
      "3        s003    VI     Ryan Parkes    16/02/1999      33\n",
      "4        s001    VI    Eesha Hinton    25/09/1998      30\n",
      "5        s002     V    Gino Mcneill    11/05/2002      31\n",
      "6        s004    VI    David Parkes    15/09/1997      32\n"
     ]
    }
   ],
   "source": [
    "df = pd.DataFrame({\n",
    "    'school_code': ['s001','s002','s003','s001','s002','s004'],\n",
    "    'class': ['V', 'V', 'VI', 'VI', 'V', 'VI'],\n",
    "    'name': ['Alberto Franco','Gino Mcneill','Ryan Parkes', 'Eesha Hinton', 'Gino Mcneill', 'David Parkes'],\n",
    "    'weight': [35, 32, 33, 30, 31, 32]},\n",
    "     index =  [1, 2, 3, 4, 5, 6])\n",
    "print(\"Original DataFrame with single index:\")\n",
    "print(df)\n",
    "date_of_birth = ['15/05/2002','17/05/2002','16/02/1999','25/09/1998','11/05/2002','15/09/1997']  \n",
    "idx = 3\n",
    "print(\"\\nInsert 'date_of_birth' column in 3rd position of the said DataFrame:\")\n",
    "df.insert(loc=idx, column='date_of_birth', value=date_of_birth)\n",
    "print(df)"
   ]
  },
  {
   "cell_type": "markdown",
   "metadata": {},
   "source": [
    "### 23. Write a Pandas program to print a DataFrame without index."
   ]
  },
  {
   "cell_type": "code",
   "execution_count": 26,
   "metadata": {},
   "outputs": [
    {
     "name": "stdout",
     "output_type": "stream",
     "text": [
      "Original DataFrame with single index:\n",
      "  school_code class            name date_of_birth  weight\n",
      "1        s001     V  Alberto Franco    15/05/2002      35\n",
      "2        s002     V    Gino Mcneill    17/05/2002      32\n",
      "3        s003    VI     Ryan Parkes    16/02/1999      33\n",
      "4        s001    VI    Eesha Hinton    25/09/1998      30\n",
      "5        s002     V    Gino Mcneill    11/05/2002      31\n",
      "6        s004    VI    David Parkes    15/09/1997      32\n",
      "\n",
      "DataFrame without index:\n",
      "school_code class            name date_of_birth  weight\n",
      "       s001     V  Alberto Franco    15/05/2002      35\n",
      "       s002     V    Gino Mcneill    17/05/2002      32\n",
      "       s003    VI     Ryan Parkes    16/02/1999      33\n",
      "       s001    VI    Eesha Hinton    25/09/1998      30\n",
      "       s002     V    Gino Mcneill    11/05/2002      31\n",
      "       s004    VI    David Parkes    15/09/1997      32\n"
     ]
    }
   ],
   "source": [
    "df = pd.DataFrame({\n",
    "    'school_code': ['s001','s002','s003','s001','s002','s004'],\n",
    "    'class': ['V', 'V', 'VI', 'VI', 'V', 'VI'],\n",
    "    'name': ['Alberto Franco','Gino Mcneill','Ryan Parkes', 'Eesha Hinton', 'Gino Mcneill', 'David Parkes'],\n",
    "    'date_of_birth': ['15/05/2002','17/05/2002','16/02/1999','25/09/1998','11/05/2002','15/09/1997'],\n",
    "    'weight': [35, 32, 33, 30, 31, 32]},\n",
    "     index =  [1, 2, 3, 4, 5, 6])\n",
    "print(\"Original DataFrame with single index:\")\n",
    "print(df)\n",
    "print(\"\\nDataFrame without index:\")\n",
    "print(df.to_string(index=False))"
   ]
  },
  {
   "cell_type": "markdown",
   "metadata": {},
   "source": [
    "### 24. Write a Pandas program to find integer index of rows with missing data in a given dataframe."
   ]
  },
  {
   "cell_type": "code",
   "execution_count": 27,
   "metadata": {},
   "outputs": [
    {
     "name": "stdout",
     "output_type": "stream",
     "text": [
      "Original DataFrame with single index:\n",
      "  school_code class            name date_of_birth  weight\n",
      "1        s001     V  Alberto Franco    15/05/2002      35\n",
      "2        s002     V    Gino Mcneill    17/05/2002      32\n",
      "3        s003    VI     Ryan Parkes    16/02/1999      33\n",
      "4        s001    VI    Eesha Hinton    25/09/1998      30\n",
      "5        s002     V    Gino Mcneill    11/05/2002      31\n",
      "6        s004    VI    David Parkes    15/09/1997      32\n",
      "\n",
      "DataFrame without index:\n",
      "school_code class            name date_of_birth  weight\n",
      "       s001     V  Alberto Franco    15/05/2002      35\n",
      "       s002     V    Gino Mcneill    17/05/2002      32\n",
      "       s003    VI     Ryan Parkes    16/02/1999      33\n",
      "       s001    VI    Eesha Hinton    25/09/1998      30\n",
      "       s002     V    Gino Mcneill    11/05/2002      31\n",
      "       s004    VI    David Parkes    15/09/1997      32\n"
     ]
    }
   ],
   "source": [
    "df = pd.DataFrame({\n",
    "    'school_code': ['s001','s002','s003','s001','s002','s004'],\n",
    "    'class': ['V', 'V', 'VI', 'VI', 'V', 'VI'],\n",
    "    'name': ['Alberto Franco','Gino Mcneill','Ryan Parkes', 'Eesha Hinton', 'Gino Mcneill', 'David Parkes'],\n",
    "    'date_of_birth': ['15/05/2002','17/05/2002','16/02/1999','25/09/1998','11/05/2002','15/09/1997'],\n",
    "    'weight': [35, 32, 33, 30, 31, 32]},\n",
    "     index =  [1, 2, 3, 4, 5, 6])\n",
    "print(\"Original DataFrame with single index:\")\n",
    "print(df)\n",
    "print(\"\\nDataFrame without index:\")\n",
    "print(df.to_string(index=False))"
   ]
  },
  {
   "cell_type": "markdown",
   "metadata": {},
   "source": [
    "### 25. Write a Pandas program to start index with different value rather than 0 in a given DataFrame."
   ]
  },
  {
   "cell_type": "code",
   "execution_count": 28,
   "metadata": {},
   "outputs": [
    {
     "name": "stdout",
     "output_type": "stream",
     "text": [
      "Original DataFrame:\n",
      "   school_code class            name date_of_birth  weight\n",
      "t1        s001     V  Alberto Franco    15/05/2002    35.0\n",
      "t2        s002     V    Gino Mcneill    17/05/2002     NaN\n",
      "t3        s003    VI     Ryan Parkes    16/02/1999    33.0\n",
      "t4        s001    VI    Eesha Hinton    25/09/1998    30.0\n",
      "t5        s002     V    Gino Mcneill    11/05/2002    31.0\n",
      "t6        s004    VI    David Parkes    15/09/1997     NaN\n",
      "\n",
      "Integer index of rows with missing data in 'weight' column of the said dataframe:\n",
      "[1, 5]\n"
     ]
    }
   ],
   "source": [
    "df = pd.DataFrame({\n",
    "    'school_code': ['s001','s002','s003','s001','s002','s004'],\n",
    "    'class': ['V', 'V', 'VI', 'VI', 'V', 'VI'],\n",
    "    'name': ['Alberto Franco','Gino Mcneill','Ryan Parkes', 'Eesha Hinton', 'Gino Mcneill', 'David Parkes'],\n",
    "    'date_of_birth': ['15/05/2002','17/05/2002','16/02/1999','25/09/1998','11/05/2002','15/09/1997'],\n",
    "    'weight': [35, None, 33, 30, 31, None]},\n",
    "     index = ['t1', 't2', 't3', 't4', 't5', 't6'])\n",
    "print(\"Original DataFrame:\")\n",
    "print(df)\n",
    "index = df['weight'].index[df['weight'].apply(np.isnan)]\n",
    "df_index = df.index.values.tolist()\n",
    "print(\"\\nInteger index of rows with missing data in 'weight' column of the said dataframe:\")\n",
    "print([df_index.index(i) for i in index])"
   ]
  },
  {
   "cell_type": "markdown",
   "metadata": {},
   "source": [
    "### 26. Write a Pandas program to select rows by filtering on one or more column(s) in a multi-index dataframe."
   ]
  },
  {
   "cell_type": "code",
   "execution_count": 29,
   "metadata": {},
   "outputs": [
    {
     "name": "stdout",
     "output_type": "stream",
     "text": [
      "Original DataFrame:\n",
      "  school_code class            name date_of_birth  weight\n",
      "0        s001     V  Alberto Franco    15/05/2002      35\n",
      "1        s002     V    Gino Mcneill    17/05/2002      37\n",
      "2        s003    VI     Ryan Parkes    16/02/1999      33\n",
      "3        s001    VI    Eesha Hinton    25/09/1998      30\n",
      "4        s002     V    Gino Mcneill    11/05/2002      31\n",
      "5        s004    VI    David Parkes    15/09/1997      32\n",
      "\n",
      "Default Index Range:\n",
      "RangeIndex(start=0, stop=6, step=1)\n",
      "\n",
      "New Index Range:\n",
      "RangeIndex(start=10, stop=16, step=1)\n",
      "\n",
      "DataFrame with new index:\n",
      "   school_code class            name date_of_birth  weight\n",
      "10        s001     V  Alberto Franco    15/05/2002      35\n",
      "11        s002     V    Gino Mcneill    17/05/2002      37\n",
      "12        s003    VI     Ryan Parkes    16/02/1999      33\n",
      "13        s001    VI    Eesha Hinton    25/09/1998      30\n",
      "14        s002     V    Gino Mcneill    11/05/2002      31\n",
      "15        s004    VI    David Parkes    15/09/1997      32\n"
     ]
    }
   ],
   "source": [
    "df = pd.DataFrame({\n",
    "    'school_code': ['s001','s002','s003','s001','s002','s004'],\n",
    "    'class': ['V', 'V', 'VI', 'VI', 'V', 'VI'],\n",
    "    'name': ['Alberto Franco','Gino Mcneill','Ryan Parkes', 'Eesha Hinton', 'Gino Mcneill', 'David Parkes'],\n",
    "    'date_of_birth': ['15/05/2002','17/05/2002','16/02/1999','25/09/1998','11/05/2002','15/09/1997'],\n",
    "    'weight': [35, 37, 33, 30, 31, 32]})\n",
    "     \n",
    "print(\"Original DataFrame:\")\n",
    "print(df)\n",
    "print(\"\\nDefault Index Range:\")\n",
    "print(df.index)\n",
    "df.index += 10 \n",
    "print(\"\\nNew Index Range:\")\n",
    "print(df.index)\n",
    "print(\"\\nDataFrame with new index:\")\n",
    "print(df)"
   ]
  },
  {
   "cell_type": "code",
   "execution_count": null,
   "metadata": {},
   "outputs": [],
   "source": []
  }
 ],
 "metadata": {
  "kernelspec": {
   "display_name": "Python 3",
   "language": "python",
   "name": "python3"
  },
  "language_info": {
   "codemirror_mode": {
    "name": "ipython",
    "version": 3
   },
   "file_extension": ".py",
   "mimetype": "text/x-python",
   "name": "python",
   "nbconvert_exporter": "python",
   "pygments_lexer": "ipython3",
   "version": "3.8.3"
  }
 },
 "nbformat": 4,
 "nbformat_minor": 4
}
