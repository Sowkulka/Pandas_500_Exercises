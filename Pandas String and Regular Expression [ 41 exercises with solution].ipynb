{
 "cells": [
  {
   "cell_type": "code",
   "execution_count": 2,
   "metadata": {},
   "outputs": [],
   "source": [
    "import pandas as pd\n",
    "import numpy as np\n",
    "import re as re "
   ]
  },
  {
   "cell_type": "markdown",
   "metadata": {},
   "source": [
    "### 1. Write a Pandas program to convert all the string values to upper, lower cases in a given pandas series. Also find the length of the string values. "
   ]
  },
  {
   "cell_type": "code",
   "execution_count": 3,
   "metadata": {},
   "outputs": [
    {
     "name": "stdout",
     "output_type": "stream",
     "text": [
      "Original series:\n",
      "0         X\n",
      "1         Y\n",
      "2         Z\n",
      "3      Aaba\n",
      "4      Baca\n",
      "5       NaN\n",
      "6      CABA\n",
      "7      None\n",
      "8      bird\n",
      "9     horse\n",
      "10      dog\n",
      "dtype: object\n",
      "\n",
      "Convert all string values of the said Series to upper case:\n",
      "0         X\n",
      "1         Y\n",
      "2         Z\n",
      "3      AABA\n",
      "4      BACA\n",
      "5       NaN\n",
      "6      CABA\n",
      "7      None\n",
      "8      BIRD\n",
      "9     HORSE\n",
      "10      DOG\n",
      "dtype: object\n",
      "\n",
      "Convert all string values of the said Series to lower case:\n",
      "0         x\n",
      "1         y\n",
      "2         z\n",
      "3      aaba\n",
      "4      baca\n",
      "5       NaN\n",
      "6      caba\n",
      "7      None\n",
      "8      bird\n",
      "9     horse\n",
      "10      dog\n",
      "dtype: object\n",
      "\n",
      "Length of the string values of the said Series:\n",
      "0     1.0\n",
      "1     1.0\n",
      "2     1.0\n",
      "3     4.0\n",
      "4     4.0\n",
      "5     NaN\n",
      "6     4.0\n",
      "7     NaN\n",
      "8     4.0\n",
      "9     5.0\n",
      "10    3.0\n",
      "dtype: float64\n"
     ]
    }
   ],
   "source": [
    "s = pd.Series(['X', 'Y', 'Z', 'Aaba', 'Baca', np.nan, 'CABA', None, 'bird', 'horse', 'dog'])\n",
    "print(\"Original series:\")\n",
    "print(s)\n",
    "print(\"\\nConvert all string values of the said Series to upper case:\")\n",
    "print(s.str.upper())\n",
    "print(\"\\nConvert all string values of the said Series to lower case:\")\n",
    "print(s.str.lower())\n",
    "print(\"\\nLength of the string values of the said Series:\")\n",
    "print(s.str.len()) "
   ]
  },
  {
   "cell_type": "markdown",
   "metadata": {},
   "source": [
    "### 2. Write a Pandas program to remove whitespaces, left sided whitespaces and right sided whitespaces of the string values of a given pandas series. "
   ]
  },
  {
   "cell_type": "code",
   "execution_count": 4,
   "metadata": {},
   "outputs": [
    {
     "name": "stdout",
     "output_type": "stream",
     "text": [
      "Original series:\n",
      "Index([' Green', 'Black ', ' Red ', 'White', ' Pink '], dtype='object')\n",
      "\n",
      "Remove whitespace\n",
      "Index(['Green', 'Black', 'Red', 'White', 'Pink'], dtype='object')\n",
      "\n",
      "Remove left sided whitespace\n",
      "Index(['Green', 'Black ', 'Red ', 'White', 'Pink '], dtype='object')\n",
      "\n",
      "Remove Right sided whitespace\n",
      "Index([' Green', 'Black', ' Red', 'White', ' Pink'], dtype='object')\n"
     ]
    }
   ],
   "source": [
    "color1 = pd.Index([' Green', 'Black ', ' Red ', 'White', ' Pink '])\n",
    "print(\"Original series:\")\n",
    "print(color1)\n",
    "print(\"\\nRemove whitespace\")\n",
    "print(color1.str.strip())\n",
    "print(\"\\nRemove left sided whitespace\")\n",
    "print(color1.str.lstrip())\n",
    "print(\"\\nRemove Right sided whitespace\")\n",
    "print(color1.str.rstrip())"
   ]
  },
  {
   "cell_type": "markdown",
   "metadata": {},
   "source": [
    "### 3. Write a Pandas program to add leading zeros to the integer column in a pandas series and makes the length of the field to 8 digit."
   ]
  },
  {
   "cell_type": "code",
   "execution_count": 9,
   "metadata": {},
   "outputs": [
    {
     "name": "stdout",
     "output_type": "stream",
     "text": [
      "Original dataframe:\n",
      "   amount\n",
      "0      10\n",
      "1     250\n",
      "2    3000\n",
      "3   40000\n",
      "4  500000\n",
      "\n",
      "Add leading zeros:\n",
      "     amount\n",
      "0  00000010\n",
      "1  00000250\n",
      "2  00003000\n",
      "3  00040000\n",
      "4  00500000\n"
     ]
    }
   ],
   "source": [
    "nums = {'amount': [10, 250, 3000, 40000, 500000]}\n",
    "print(\"Original dataframe:\")\n",
    "df = pd.DataFrame(nums)\n",
    "print(df)\n",
    "print(\"\\nAdd leading zeros:\")\n",
    "df['amount'] = df['amount'].apply(lambda x: '{0:0>8}'.format(x))\n",
    "print(df)"
   ]
  },
  {
   "cell_type": "markdown",
   "metadata": {},
   "source": [
    "### 4. Write a Pandas program to add leading zeros to the character column in a pandas series and makes the length of the field to 8 digit."
   ]
  },
  {
   "cell_type": "code",
   "execution_count": 11,
   "metadata": {},
   "outputs": [
    {
     "name": "stdout",
     "output_type": "stream",
     "text": [
      "Original dataframe:\n",
      "   amount\n",
      "0      a0\n",
      "1     BC0\n",
      "2    D000\n",
      "3   e0000\n",
      "4  F00000\n",
      "\n",
      "Add leading zeros:\n",
      "       amount\n",
      "0  00000000a0\n",
      "1  0000000BC0\n",
      "2  000000D000\n",
      "3  00000e0000\n",
      "4  0000F00000\n"
     ]
    }
   ],
   "source": [
    "nums = {'amount': ['a0', 'BC0', 'D000', 'e0000', 'F00000']}\n",
    "print(\"Original dataframe:\")\n",
    "df = pd.DataFrame(nums)\n",
    "print(df)\n",
    "print(\"\\nAdd leading zeros:\")\n",
    "df['amount'] = list(map(lambda x: x.zfill(10), df['amount']))\n",
    "print(df)"
   ]
  },
  {
   "cell_type": "markdown",
   "metadata": {},
   "source": [
    "\n",
    "### 5. Write a Pandas program to capitalize all the string values of specified columns of a given DataFrame. "
   ]
  },
  {
   "cell_type": "code",
   "execution_count": 12,
   "metadata": {},
   "outputs": [
    {
     "name": "stdout",
     "output_type": "stream",
     "text": [
      "Original DataFrame:\n",
      "      name date_of_birth    age\n",
      "0  alberto     17/05/2002  18.5\n",
      "1     gino     16/02/1999  21.2\n",
      "2     ryan     25/09/1998  22.5\n",
      "3    Eesha     11/05/2002  22.0\n",
      "4     syed     15/09/1997  23.0\n",
      "\n",
      "After capitalizing name column:\n",
      "      name date_of_birth    age\n",
      "0  Alberto     17/05/2002  18.5\n",
      "1     Gino     16/02/1999  21.2\n",
      "2     Ryan     25/09/1998  22.5\n",
      "3    Eesha     11/05/2002  22.0\n",
      "4     Syed     15/09/1997  23.0\n"
     ]
    }
   ],
   "source": [
    "df = pd.DataFrame({\n",
    "    'name': ['alberto','gino','ryan', 'Eesha', 'syed'],\n",
    "    'date_of_birth ': ['17/05/2002','16/02/1999','25/09/1998','11/05/2002','15/09/1997'],\n",
    "    'age': [18.5, 21.2, 22.5, 22, 23]\n",
    "})\n",
    "print(\"Original DataFrame:\")\n",
    "print(df)\n",
    "print(\"\\nAfter capitalizing name column:\")\n",
    "df['name'] = list(map(lambda x: x.capitalize(), df['name']))\n",
    "print(df)"
   ]
  },
  {
   "cell_type": "markdown",
   "metadata": {},
   "source": [
    "\n",
    "### 6. Write a Pandas program to count of occurrence of a specified substring in a DataFrame column. "
   ]
  },
  {
   "cell_type": "code",
   "execution_count": 17,
   "metadata": {},
   "outputs": [
    {
     "name": "stdout",
     "output_type": "stream",
     "text": [
      "Original DataFrame:\n",
      "  name_code date_of_birth    age\n",
      "0      c001     12/05/2002  18.5\n",
      "1      c002     16/02/1999  21.2\n",
      "2      c022     25/09/1998  22.5\n",
      "3     c2002     12/02/2022  22.0\n",
      "4     c2222     15/09/1997  23.0\n",
      "\n",
      "Count occurrence of 2 in date_of_birth column:\n",
      "  name_code date_of_birth    age  count\n",
      "0      c001     12/05/2002  18.5      3\n",
      "1      c002     16/02/1999  21.2      1\n",
      "2      c022     25/09/1998  22.5      1\n",
      "3     c2002     12/02/2022  22.0      5\n",
      "4     c2222     15/09/1997  23.0      0\n",
      "\n",
      "Count occurrence of 2 in name_code column:\n",
      "  name_code date_of_birth    age  count\n",
      "0      c001     12/05/2002  18.5      0\n",
      "1      c002     16/02/1999  21.2      1\n",
      "2      c022     25/09/1998  22.5      2\n",
      "3     c2002     12/02/2022  22.0      2\n",
      "4     c2222     15/09/1997  23.0      4\n"
     ]
    }
   ],
   "source": [
    "df = pd.DataFrame({\n",
    "    'name_code': ['c001','c002','c022', 'c2002', 'c2222'],\n",
    "    'date_of_birth ': ['12/05/2002','16/02/1999','25/09/1998','12/02/2022','15/09/1997'],\n",
    "    'age': [18.5, 21.2, 22.5, 22, 23]\n",
    "})\n",
    "print(\"Original DataFrame:\")\n",
    "print(df)\n",
    "print(\"\\nCount occurrence of 2 in date_of_birth column:\")\n",
    "df['count'] = list(map(lambda x: x.count(\"2\"), df['date_of_birth ']))\n",
    "print(df)\n",
    "print(\"\\nCount occurrence of 2 in name_code column:\")\n",
    "df['count'] = list(map(lambda x: x.count(\"2\"), df['name_code']))\n",
    "print(df)"
   ]
  },
  {
   "cell_type": "markdown",
   "metadata": {},
   "source": [
    "### 7. Write a Pandas program to find the index of a given substring of a DataFrame column. "
   ]
  },
  {
   "cell_type": "code",
   "execution_count": 18,
   "metadata": {},
   "outputs": [
    {
     "name": "stdout",
     "output_type": "stream",
     "text": [
      "Original DataFrame:\n",
      "  name_code date_of_birth    age\n",
      "0      c001     12/05/2002  18.5\n",
      "1      c002     16/02/1999  21.2\n",
      "2      c022     25/09/1998  22.5\n",
      "3     c2002     12/02/2022  22.0\n",
      "4     c2222     15/09/1997  23.0\n",
      "\n",
      "Count occurrence of 22 in name_code column:\n",
      "  name_code date_of_birth    age  Index\n",
      "0      c001     12/05/2002  18.5     -1\n",
      "1      c002     16/02/1999  21.2     -1\n",
      "2      c022     25/09/1998  22.5      2\n",
      "3     c2002     12/02/2022  22.0     -1\n",
      "4     c2222     15/09/1997  23.0      1\n"
     ]
    }
   ],
   "source": [
    "df = pd.DataFrame({\n",
    "    'name_code': ['c001','c002','c022', 'c2002', 'c2222'],\n",
    "    'date_of_birth ': ['12/05/2002','16/02/1999','25/09/1998','12/02/2022','15/09/1997'],\n",
    "    'age': [18.5, 21.2, 22.5, 22, 23]\n",
    "})\n",
    "print(\"Original DataFrame:\")\n",
    "print(df)\n",
    "print(\"\\nCount occurrence of 22 in name_code column:\")\n",
    "df['Index'] = list(map(lambda x: x.find('22'), df['name_code']))\n",
    "print(df)"
   ]
  },
  {
   "cell_type": "markdown",
   "metadata": {},
   "source": [
    "### 8. Write a Pandas program to find the index of a substring of DataFrame with beginning and end position. "
   ]
  },
  {
   "cell_type": "code",
   "execution_count": 20,
   "metadata": {},
   "outputs": [
    {
     "name": "stdout",
     "output_type": "stream",
     "text": [
      "Original DataFrame:\n",
      "  name_code date_of_birth    age\n",
      "0     c0001     12/05/2002  18.5\n",
      "1     1000c     16/02/1999  21.2\n",
      "2     b00c2     25/09/1998  22.5\n",
      "3     b2c02     12/02/2022  22.0\n",
      "4     c2222     15/09/1997  23.0\n",
      "\n",
      "Index of a substring in a specified column of a dataframe:\n",
      "  name_code date_of_birth    age  Index\n",
      "0     c0001     12/05/2002  18.5      0\n",
      "1     1000c     16/02/1999  21.2      4\n",
      "2     b00c2     25/09/1998  22.5      3\n",
      "3     b2c02     12/02/2022  22.0      2\n",
      "4     c2222     15/09/1997  23.0      0\n"
     ]
    }
   ],
   "source": [
    "df = pd.DataFrame({\n",
    "    'name_code': ['c0001','1000c','b00c2', 'b2c02', 'c2222'],\n",
    "    'date_of_birth ': ['12/05/2002','16/02/1999','25/09/1998','12/02/2022','15/09/1997'],\n",
    "    'age': [18.5, 21.2, 22.5, 22, 23]\n",
    "})\n",
    "print(\"Original DataFrame:\")\n",
    "print(df)\n",
    "print(\"\\nIndex of a substring in a specified column of a dataframe:\")\n",
    "df['Index'] = list(map(lambda x: x.find('c', 0, 5), df['name_code']))\n",
    "print(df)"
   ]
  },
  {
   "cell_type": "markdown",
   "metadata": {},
   "source": [
    "\n",
    "### 9. Write a Pandas program to check whether alpha numeric values present in a given column of a DataFrame. \n",
    "Note: isalnum() function returns True if all characters in the string are alphanumeric and there is at least one character, False otherwise."
   ]
  },
  {
   "cell_type": "code",
   "execution_count": 21,
   "metadata": {},
   "outputs": [
    {
     "name": "stdout",
     "output_type": "stream",
     "text": [
      "Original DataFrame:\n",
      "      name_code date_of_birth    age\n",
      "0       Company     12/05/2002  18.5\n",
      "1  Company a001     16/02/1999  21.2\n",
      "2   Company 123     25/09/1998  22.5\n",
      "3          1234     12/02/2022  22.0\n",
      "4    Company 12     15/09/1997  23.0\n",
      "\n",
      "Whether all characters in the string are alphanumeric?\n",
      "      name_code date_of_birth    age  name_code_is_alphanumeric\n",
      "0       Company     12/05/2002  18.5                       True\n",
      "1  Company a001     16/02/1999  21.2                      False\n",
      "2   Company 123     25/09/1998  22.5                      False\n",
      "3          1234     12/02/2022  22.0                       True\n",
      "4    Company 12     15/09/1997  23.0                      False\n"
     ]
    }
   ],
   "source": [
    "df = pd.DataFrame({\n",
    "    'name_code': ['Company','Company a001','Company 123', '1234', 'Company 12'],\n",
    "    'date_of_birth ': ['12/05/2002','16/02/1999','25/09/1998','12/02/2022','15/09/1997'],\n",
    "    'age': [18.5, 21.2, 22.5, 22, 23]\n",
    "})\n",
    "print(\"Original DataFrame:\")\n",
    "print(df)\n",
    "print(\"\\nWhether all characters in the string are alphanumeric?\")\n",
    "df['name_code_is_alphanumeric'] = list(map(lambda x: x.isalnum(), df['name_code']))\n",
    "print(df)"
   ]
  },
  {
   "cell_type": "markdown",
   "metadata": {},
   "source": [
    "### 10. Write a Pandas program to check whether alphabetic values present in a given column of a DataFrame. \n",
    "Note: isalpha() returns True if all characters in the string are alphabetic and there is at least one character, False otherwise."
   ]
  },
  {
   "cell_type": "code",
   "execution_count": 22,
   "metadata": {},
   "outputs": [
    {
     "name": "stdout",
     "output_type": "stream",
     "text": [
      "Original DataFrame:\n",
      "   company_code date_of_sale   sale_amount\n",
      "0       Company    12/05/2002      12348.5\n",
      "1  Company a001    16/02/1999     233331.2\n",
      "2   Company 123    25/09/1998         22.5\n",
      "3          abcd    12/02/2022    2566552.0\n",
      "4    Company 12    15/09/1997         23.0\n",
      "\n",
      "Whether Alphabetic values present in company_code column?\n",
      "   company_code date_of_sale   sale_amount  company_code_is_alpha\n",
      "0       Company    12/05/2002      12348.5                   True\n",
      "1  Company a001    16/02/1999     233331.2                  False\n",
      "2   Company 123    25/09/1998         22.5                  False\n",
      "3          abcd    12/02/2022    2566552.0                   True\n",
      "4    Company 12    15/09/1997         23.0                  False\n"
     ]
    }
   ],
   "source": [
    "df = pd.DataFrame({\n",
    "    'company_code': ['Company','Company a001','Company 123', 'abcd', 'Company 12'],\n",
    "    'date_of_sale ': ['12/05/2002','16/02/1999','25/09/1998','12/02/2022','15/09/1997'],\n",
    "    'sale_amount': [12348.5, 233331.2, 22.5, 2566552.0, 23.0]})\n",
    "\n",
    "print(\"Original DataFrame:\")\n",
    "print(df)\n",
    "print(\"\\nWhether Alphabetic values present in company_code column?\")\n",
    "df['company_code_is_alpha'] = list(map(lambda x: x.isalpha(), df['company_code']))\n",
    "print(df)"
   ]
  },
  {
   "cell_type": "markdown",
   "metadata": {},
   "source": [
    "### 11. Write a Pandas program to check whether only numeric values present in a given column of a DataFrame."
   ]
  },
  {
   "cell_type": "code",
   "execution_count": 23,
   "metadata": {},
   "outputs": [
    {
     "name": "stdout",
     "output_type": "stream",
     "text": [
      "Original DataFrame:\n",
      "   company_code date_of_sale   sale_amount\n",
      "0       Company    12/05/2002      12348.5\n",
      "1  Company a001    16/02/1999     233331.2\n",
      "2          2055    25/09/1998         22.5\n",
      "3          abcd    12/02/2022    2566552.0\n",
      "4        123345    15/09/1997         23.0\n",
      "\n",
      "Numeric values present in company_code column:\n",
      "   company_code date_of_sale   sale_amount  company_code_is_digit\n",
      "0       Company    12/05/2002      12348.5                  False\n",
      "1  Company a001    16/02/1999     233331.2                  False\n",
      "2          2055    25/09/1998         22.5                   True\n",
      "3          abcd    12/02/2022    2566552.0                  False\n",
      "4        123345    15/09/1997         23.0                   True\n"
     ]
    }
   ],
   "source": [
    "df = pd.DataFrame({\n",
    "    'company_code': ['Company','Company a001', '2055', 'abcd', '123345'],\n",
    "    'date_of_sale ': ['12/05/2002','16/02/1999','25/09/1998','12/02/2022','15/09/1997'],\n",
    "    'sale_amount': [12348.5, 233331.2, 22.5, 2566552.0, 23.0]})\n",
    "\t\n",
    "print(\"Original DataFrame:\")\n",
    "print(df)\n",
    "print(\"\\nNumeric values present in company_code column:\")\n",
    "df['company_code_is_digit'] = list(map(lambda x: x.isdigit(), df['company_code']))\n",
    "print(df)"
   ]
  },
  {
   "cell_type": "markdown",
   "metadata": {},
   "source": [
    "### 12. Write a Pandas program to check whether only lower case or upper case is present in a given column of a DataFrame. "
   ]
  },
  {
   "cell_type": "code",
   "execution_count": 24,
   "metadata": {},
   "outputs": [
    {
     "name": "stdout",
     "output_type": "stream",
     "text": [
      "Original DataFrame:\n",
      "  company_code date_of_sale   sale_amount\n",
      "0         ABCD    12/05/2002      12348.5\n",
      "1         EFGF    16/02/1999     233331.2\n",
      "2         hhhh    25/09/1998         22.5\n",
      "3         abcd    12/02/2022    2566552.0\n",
      "4      EAWQaaa    15/09/1997         23.0\n",
      "\n",
      "Is lower (company_code)?\n",
      "  company_code date_of_sale   sale_amount  company_code_ul_cases\n",
      "0         ABCD    12/05/2002      12348.5                  False\n",
      "1         EFGF    16/02/1999     233331.2                  False\n",
      "2         hhhh    25/09/1998         22.5                   True\n",
      "3         abcd    12/02/2022    2566552.0                   True\n",
      "4      EAWQaaa    15/09/1997         23.0                  False\n",
      "\n",
      "Is Upper (company_code)?\n",
      "  company_code date_of_sale   sale_amount  company_code_ul_cases\n",
      "0         ABCD    12/05/2002      12348.5                   True\n",
      "1         EFGF    16/02/1999     233331.2                   True\n",
      "2         hhhh    25/09/1998         22.5                  False\n",
      "3         abcd    12/02/2022    2566552.0                  False\n",
      "4      EAWQaaa    15/09/1997         23.0                  False\n"
     ]
    }
   ],
   "source": [
    "df = pd.DataFrame({\n",
    "    'company_code': ['ABCD','EFGF', 'hhhh', 'abcd', 'EAWQaaa'],\n",
    "    'date_of_sale ': ['12/05/2002','16/02/1999','25/09/1998','12/02/2022','15/09/1997'],\n",
    "    'sale_amount': [12348.5, 233331.2, 22.5, 2566552.0, 23.0]})\n",
    "\n",
    "print(\"Original DataFrame:\")\n",
    "print(df)\n",
    "print(\"\\nIs lower (company_code)?\")\n",
    "df['company_code_ul_cases'] = list(map(lambda x: x.islower(), df['company_code']))\n",
    "print(df)\n",
    "print(\"\\nIs Upper (company_code)?\")\n",
    "df['company_code_ul_cases'] = list(map(lambda x: x.isupper(), df['company_code']))\n",
    "print(df)"
   ]
  },
  {
   "cell_type": "markdown",
   "metadata": {},
   "source": [
    "### 13. Write a Pandas program to check whether only proper case or title case is present in a given column of a DataFrame. "
   ]
  },
  {
   "cell_type": "code",
   "execution_count": 25,
   "metadata": {},
   "outputs": [
    {
     "name": "stdout",
     "output_type": "stream",
     "text": [
      "Original DataFrame:\n",
      "  company_code date_of_sale   sale_amount\n",
      "0         Abcd    12/05/2002      12348.5\n",
      "1         EFGF    16/02/1999     233331.2\n",
      "2         Hhhh    25/09/1998         22.5\n",
      "3         abcd    12/02/2022    2566552.0\n",
      "4      EAWQaaa    15/09/1997         23.0\n",
      "\n",
      "Is proper case or title case?\n",
      "  company_code date_of_sale   sale_amount  company_code_is_title\n",
      "0         Abcd    12/05/2002      12348.5                   True\n",
      "1         EFGF    16/02/1999     233331.2                  False\n",
      "2         Hhhh    25/09/1998         22.5                   True\n",
      "3         abcd    12/02/2022    2566552.0                  False\n",
      "4      EAWQaaa    15/09/1997         23.0                  False\n"
     ]
    }
   ],
   "source": [
    "df = pd.DataFrame({\n",
    "    'company_code': ['Abcd','EFGF', 'Hhhh', 'abcd', 'EAWQaaa'],\n",
    "    'date_of_sale ': ['12/05/2002','16/02/1999','25/09/1998','12/02/2022','15/09/1997'],\n",
    "    'sale_amount': [12348.5, 233331.2, 22.5, 2566552.0, 23.0]})\n",
    "\n",
    "print(\"Original DataFrame:\")\n",
    "print(df)\n",
    "print(\"\\nIs proper case or title case?\")\n",
    "df['company_code_is_title'] = list(map(lambda x: x.istitle(), df['company_code']))\n",
    "print(df)"
   ]
  },
  {
   "cell_type": "markdown",
   "metadata": {},
   "source": [
    "### 14. Write a Pandas program to check whether only space is present in a given column of a DataFrame. "
   ]
  },
  {
   "cell_type": "code",
   "execution_count": 26,
   "metadata": {},
   "outputs": [
    {
     "name": "stdout",
     "output_type": "stream",
     "text": [
      "Original DataFrame:\n",
      "  company_code date_of_sale   sale_amount\n",
      "0         Abcd    12/05/2002      12348.5\n",
      "1        EFGF     16/02/1999     233331.2\n",
      "2                 25/09/1998         22.5\n",
      "3         abcd    12/02/2022    2566552.0\n",
      "4                 15/09/1997         23.0\n",
      "\n",
      "Is space is present?\n",
      "  company_code date_of_sale   sale_amount  company_code_is_title\n",
      "0         Abcd    12/05/2002      12348.5                  False\n",
      "1        EFGF     16/02/1999     233331.2                  False\n",
      "2                 25/09/1998         22.5                   True\n",
      "3         abcd    12/02/2022    2566552.0                  False\n",
      "4                 15/09/1997         23.0                   True\n"
     ]
    }
   ],
   "source": [
    "df = pd.DataFrame({\n",
    "    'company_code': ['Abcd','EFGF ', '  ', 'abcd', ' '],\n",
    "    'date_of_sale ': ['12/05/2002','16/02/1999','25/09/1998','12/02/2022','15/09/1997'],\n",
    "    'sale_amount': [12348.5, 233331.2, 22.5, 2566552.0, 23.0]})\n",
    "\n",
    "print(\"Original DataFrame:\")\n",
    "print(df)\n",
    "print(\"\\nIs space is present?\")\n",
    "df['company_code_is_title'] = list(map(lambda x: x.isspace(), df['company_code']))\n",
    "print(df)"
   ]
  },
  {
   "cell_type": "markdown",
   "metadata": {},
   "source": [
    "### 15. Write a Pandas program to get the length of the string present of a given column in a DataFrame. "
   ]
  },
  {
   "cell_type": "code",
   "execution_count": 27,
   "metadata": {},
   "outputs": [
    {
     "name": "stdout",
     "output_type": "stream",
     "text": [
      "Original DataFrame:\n",
      "  company_code date_of_sale   sale_amount\n",
      "0         Abcd    12/05/2002      12348.5\n",
      "1         EFGF    16/02/1999     233331.2\n",
      "2      skfsalf    25/09/1998         22.5\n",
      "3      sdfslew    12/02/2022    2566552.0\n",
      "4       safsdf    15/09/1997         23.0\n",
      "\n",
      "Length of the string in a column:\n",
      "  company_code date_of_sale   sale_amount  company_code_length\n",
      "0         Abcd    12/05/2002      12348.5                    4\n",
      "1         EFGF    16/02/1999     233331.2                    4\n",
      "2      skfsalf    25/09/1998         22.5                    7\n",
      "3      sdfslew    12/02/2022    2566552.0                    7\n",
      "4       safsdf    15/09/1997         23.0                    6\n"
     ]
    }
   ],
   "source": [
    "df = pd.DataFrame({\n",
    "    'company_code': ['Abcd','EFGF', 'skfsalf', 'sdfslew', 'safsdf'],\n",
    "    'date_of_sale ': ['12/05/2002','16/02/1999','25/09/1998','12/02/2022','15/09/1997'],\n",
    "    'sale_amount': [12348.5, 233331.2, 22.5, 2566552.0, 23.0]})\n",
    "print(\"Original DataFrame:\")\n",
    "print(df)\n",
    "print(\"\\nLength of the string in a column:\")\n",
    "df['company_code_length'] = df['company_code'].apply(len)\n",
    "print(df)"
   ]
  },
  {
   "cell_type": "markdown",
   "metadata": {},
   "source": [
    "### 16. Write a Pandas program to get the length of the integer of a given column in a DataFrame. "
   ]
  },
  {
   "cell_type": "code",
   "execution_count": 28,
   "metadata": {},
   "outputs": [
    {
     "name": "stdout",
     "output_type": "stream",
     "text": [
      "Original DataFrame:\n",
      "  company_code date_of_sale  sale_amount\n",
      "0         Abcd   12/05/2002      12348.5\n",
      "1         EFGF   16/02/1999     233331.2\n",
      "2      skfsalf   25/09/1998         22.5\n",
      "3      sdfslew   12/02/2022    2566552.0\n",
      "4       safsdf   15/09/1997         23.0\n",
      "\n",
      "Length of sale_amount:\n",
      "  company_code date_of_sale  sale_amount  sale_amount_length\n",
      "0         Abcd   12/05/2002      12348.5                   7\n",
      "1         EFGF   16/02/1999     233331.2                   8\n",
      "2      skfsalf   25/09/1998         22.5                   4\n",
      "3      sdfslew   12/02/2022    2566552.0                   9\n",
      "4       safsdf   15/09/1997         23.0                   4\n"
     ]
    }
   ],
   "source": [
    "df = pd.DataFrame({\n",
    "    'company_code': ['Abcd','EFGF', 'skfsalf', 'sdfslew', 'safsdf'],\n",
    "    'date_of_sale': ['12/05/2002','16/02/1999','25/09/1998','12/02/2022','15/09/1997'],\n",
    "    'sale_amount': [12348.5, 233331.2, 22.5, 2566552.0, 23.0]\n",
    "})\n",
    "print(\"Original DataFrame:\")\n",
    "print(df)\n",
    "print(\"\\nLength of sale_amount:\")\n",
    "df['sale_amount_length'] = df['sale_amount'].map(str).apply(len)\n",
    "print(df)"
   ]
  },
  {
   "cell_type": "markdown",
   "metadata": {},
   "source": [
    "### 17. Write a Pandas program to check if a specified column starts with a specified string in a DataFrame. "
   ]
  },
  {
   "cell_type": "code",
   "execution_count": 29,
   "metadata": {},
   "outputs": [
    {
     "name": "stdout",
     "output_type": "stream",
     "text": [
      "Original DataFrame:\n",
      "  company_code date_of_sale  sale_amount\n",
      "0         Abcd   12/05/2002      12348.5\n",
      "1         EFGF   16/02/1999     233331.2\n",
      "2      zefsalf   25/09/1998         22.5\n",
      "3      sdfslew   12/02/2022    2566552.0\n",
      "4      zekfsdf   15/09/1997         23.0\n",
      "\n",
      "If a specified column starts with a specified string?\n",
      "  company_code date_of_sale  sale_amount  company_code_starts_with\n",
      "0         Abcd   12/05/2002      12348.5                     False\n",
      "1         EFGF   16/02/1999     233331.2                     False\n",
      "2      zefsalf   25/09/1998         22.5                      True\n",
      "3      sdfslew   12/02/2022    2566552.0                     False\n",
      "4      zekfsdf   15/09/1997         23.0                      True\n"
     ]
    }
   ],
   "source": [
    "df = pd.DataFrame({\n",
    "    'company_code': ['Abcd','EFGF', 'zefsalf', 'sdfslew', 'zekfsdf'],\n",
    "    'date_of_sale': ['12/05/2002','16/02/1999','25/09/1998','12/02/2022','15/09/1997'],\n",
    "    'sale_amount': [12348.5, 233331.2, 22.5, 2566552.0, 23.0]\n",
    "})\n",
    "print(\"Original DataFrame:\")\n",
    "print(df)\n",
    "print(\"\\nIf a specified column starts with a specified string?\")\n",
    "df['company_code_starts_with'] = list(\n",
    "    map(lambda x: x.startswith('ze'), df['company_code']))\n",
    "print(df)"
   ]
  },
  {
   "cell_type": "markdown",
   "metadata": {},
   "source": [
    "### 18. Write a Pandas program to swap the cases of a specified character column in a given DataFrame. "
   ]
  },
  {
   "cell_type": "code",
   "execution_count": 30,
   "metadata": {},
   "outputs": [
    {
     "name": "stdout",
     "output_type": "stream",
     "text": [
      "Original DataFrame:\n",
      "  company_code date_of_sale  sale_amount\n",
      "0         Abcd   12/05/2002      12348.5\n",
      "1         EFGF   16/02/1999     233331.2\n",
      "2      zefsalf   25/09/1998         22.5\n",
      "3      sdfslew   12/02/2022    2566552.0\n",
      "4      zekfsdf   15/09/1997         23.0\n",
      "\n",
      "Swapp cases in comapny_code:\n",
      "  company_code date_of_sale  sale_amount swapped_company_code\n",
      "0         Abcd   12/05/2002      12348.5                 aBCD\n",
      "1         EFGF   16/02/1999     233331.2                 efgf\n",
      "2      zefsalf   25/09/1998         22.5              ZEFSALF\n",
      "3      sdfslew   12/02/2022    2566552.0              SDFSLEW\n",
      "4      zekfsdf   15/09/1997         23.0              ZEKFSDF\n"
     ]
    }
   ],
   "source": [
    "df = pd.DataFrame({\n",
    "    'company_code': ['Abcd','EFGF', 'zefsalf', 'sdfslew', 'zekfsdf'],\n",
    "    'date_of_sale': ['12/05/2002','16/02/1999','25/09/1998','12/02/2022','15/09/1997'],\n",
    "    'sale_amount': [12348.5, 233331.2, 22.5, 2566552.0, 23.0]\n",
    "})\n",
    "print(\"Original DataFrame:\")\n",
    "print(df)\n",
    "print(\"\\nSwapp cases in comapny_code:\")\n",
    "df['swapped_company_code'] = list(map(lambda x: x.swapcase(), df['company_code']))\n",
    "print(df)"
   ]
  },
  {
   "cell_type": "markdown",
   "metadata": {},
   "source": [
    "### 19. Write a Pandas program to convert a specified character column in upper/lower cases in a given DataFrame. "
   ]
  },
  {
   "cell_type": "code",
   "execution_count": 31,
   "metadata": {},
   "outputs": [
    {
     "name": "stdout",
     "output_type": "stream",
     "text": [
      "Original DataFrame:\n",
      "  company_code date_of_sale  sale_amount\n",
      "0         Abcd   12/05/2002      12348.5\n",
      "1         EFGF   16/02/1999     233331.2\n",
      "2      zefsalf   25/09/1998         22.5\n",
      "3      sdfslew   12/02/2022    2566552.0\n",
      "4      zekfsdf   15/09/1997         23.0\n",
      "\n",
      "Upper cases in comapny_code:\n",
      "  company_code date_of_sale  sale_amount upper_company_code\n",
      "0         Abcd   12/05/2002      12348.5               ABCD\n",
      "1         EFGF   16/02/1999     233331.2               EFGF\n",
      "2      zefsalf   25/09/1998         22.5            ZEFSALF\n",
      "3      sdfslew   12/02/2022    2566552.0            SDFSLEW\n",
      "4      zekfsdf   15/09/1997         23.0            ZEKFSDF\n",
      "\n",
      "Lower cases in comapny_code:\n",
      "  company_code date_of_sale  sale_amount lower_company_code\n",
      "0         Abcd   12/05/2002      12348.5               abcd\n",
      "1         EFGF   16/02/1999     233331.2               efgf\n",
      "2      zefsalf   25/09/1998         22.5            zefsalf\n",
      "3      sdfslew   12/02/2022    2566552.0            sdfslew\n",
      "4      zekfsdf   15/09/1997         23.0            zekfsdf\n"
     ]
    }
   ],
   "source": [
    "df = pd.DataFrame({\n",
    "    'company_code': ['Abcd','EFGF', 'zefsalf', 'sdfslew', 'zekfsdf'],\n",
    "    'date_of_sale': ['12/05/2002','16/02/1999','25/09/1998','12/02/2022','15/09/1997'],\n",
    "    'sale_amount': [12348.5, 233331.2, 22.5, 2566552.0, 23.0]\n",
    "})\n",
    "\n",
    "df1 = pd.DataFrame({\n",
    "    'company_code': ['Abcd','EFGF', 'zefsalf', 'sdfslew', 'zekfsdf'],\n",
    "    'date_of_sale': ['12/05/2002','16/02/1999','25/09/1998','12/02/2022','15/09/1997'],\n",
    "    'sale_amount': [12348.5, 233331.2, 22.5, 2566552.0, 23.0]\n",
    "})\n",
    "print(\"Original DataFrame:\")\n",
    "print(df)\n",
    "print(\"\\nUpper cases in comapny_code:\")\n",
    "df['upper_company_code'] = list(map(lambda x: x.upper(), df['company_code']))\n",
    "print(df)\n",
    "print(\"\\nLower cases in comapny_code:\")\n",
    "df1['lower_company_code'] = list(map(lambda x: x.lower(), df1['company_code']))\n",
    "print(df1)"
   ]
  },
  {
   "cell_type": "markdown",
   "metadata": {},
   "source": [
    "### 20. Write a Pandas program to convert a specified character column in title case in a given DataFrame. "
   ]
  },
  {
   "cell_type": "code",
   "execution_count": 32,
   "metadata": {},
   "outputs": [
    {
     "name": "stdout",
     "output_type": "stream",
     "text": [
      "Original DataFrame:\n",
      "  company_code date_of_sale  sale_amount\n",
      "0         Abcd   12/05/2002      12348.5\n",
      "1         EFGF   16/02/1999     233331.2\n",
      "2      zefsalf   25/09/1998         22.5\n",
      "3      sdfslew   12/02/2022    2566552.0\n",
      "4      zekfsdf   15/09/1997         23.0\n",
      "\n",
      "Title cases:\n",
      "  company_code date_of_sale  sale_amount company_code_title_cases\n",
      "0         Abcd   12/05/2002      12348.5                     Abcd\n",
      "1         EFGF   16/02/1999     233331.2                     Efgf\n",
      "2      zefsalf   25/09/1998         22.5                  Zefsalf\n",
      "3      sdfslew   12/02/2022    2566552.0                  Sdfslew\n",
      "4      zekfsdf   15/09/1997         23.0                  Zekfsdf\n"
     ]
    }
   ],
   "source": [
    "df = pd.DataFrame({\n",
    "    'company_code': ['Abcd','EFGF', 'zefsalf', 'sdfslew', 'zekfsdf'],\n",
    "    'date_of_sale': ['12/05/2002','16/02/1999','25/09/1998','12/02/2022','15/09/1997'],\n",
    "    'sale_amount': [12348.5, 233331.2, 22.5, 2566552.0, 23.0]\n",
    "})\n",
    "\n",
    "print(\"Original DataFrame:\")\n",
    "print(df)\n",
    "\n",
    "print(\"\\nTitle cases:\")\n",
    "df['company_code_title_cases'] = list(map(lambda x: x.title(), df['company_code']))\n",
    "print(df)"
   ]
  },
  {
   "cell_type": "markdown",
   "metadata": {},
   "source": [
    "### 21. Write a Pandas program to replace arbitrary values with other values in a given DataFrame. "
   ]
  },
  {
   "cell_type": "code",
   "execution_count": 33,
   "metadata": {},
   "outputs": [
    {
     "name": "stdout",
     "output_type": "stream",
     "text": [
      "Original DataFrame:\n",
      "  company_code date_of_sale  sale_amount\n",
      "0            A   12/05/2002      12348.5\n",
      "1            B   16/02/1999     233331.2\n",
      "2            C   25/09/1998         22.5\n",
      "3            D   12/02/2022    2566552.0\n",
      "4            A   15/09/1997         23.0\n",
      "\n",
      "Replace A with c:\n",
      "  company_code date_of_sale  sale_amount\n",
      "0            C   12/05/2002      12348.5\n",
      "1            B   16/02/1999     233331.2\n",
      "2            C   25/09/1998         22.5\n",
      "3            D   12/02/2022    2566552.0\n",
      "4            C   15/09/1997         23.0\n"
     ]
    }
   ],
   "source": [
    "df = pd.DataFrame({\n",
    "    'company_code': ['A','B', 'C', 'D', 'A'],\n",
    "    'date_of_sale': ['12/05/2002','16/02/1999','25/09/1998','12/02/2022','15/09/1997'],\n",
    "    'sale_amount': [12348.5, 233331.2, 22.5, 2566552.0, 23.0]\n",
    "})\n",
    "\n",
    "print(\"Original DataFrame:\")\n",
    "print(df)\n",
    "\n",
    "print(\"\\nReplace A with c:\")\n",
    "df = df.replace(\"A\", \"C\")\n",
    "print(df)"
   ]
  },
  {
   "cell_type": "markdown",
   "metadata": {},
   "source": [
    "### 22. Write a Pandas program to replace more than one value with other values in a given DataFrame. "
   ]
  },
  {
   "cell_type": "code",
   "execution_count": 34,
   "metadata": {},
   "outputs": [
    {
     "name": "stdout",
     "output_type": "stream",
     "text": [
      "Original DataFrame:\n",
      "  company_code date_of_sale  sale_amount\n",
      "0            A   12/05/2002      12348.5\n",
      "1            B   16/02/1999     233331.2\n",
      "2            C   25/09/1998         22.5\n",
      "3            D   12/02/2022    2566552.0\n",
      "4            A   15/09/1997         23.0\n",
      "\n",
      "Replace A with c:\n",
      "  company_code date_of_sale  sale_amount\n",
      "0            X   12/05/2002      12348.5\n",
      "1            B   16/02/1999     233331.2\n",
      "2            C   25/09/1998         22.5\n",
      "3            Y   12/02/2022    2566552.0\n",
      "4            X   15/09/1997         23.0\n"
     ]
    }
   ],
   "source": [
    "df = pd.DataFrame({\n",
    "    'company_code': ['A','B', 'C', 'D', 'A'],\n",
    "    'date_of_sale': ['12/05/2002','16/02/1999','25/09/1998','12/02/2022','15/09/1997'],\n",
    "    'sale_amount': [12348.5, 233331.2, 22.5, 2566552.0, 23.0]\n",
    "})\n",
    "\n",
    "print(\"Original DataFrame:\")\n",
    "print(df)\n",
    "\n",
    "print(\"\\nReplace A with c:\")\n",
    "df = df.replace([\"A\", \"D\"], [\"X\", \"Y\"])\n",
    "print(df)"
   ]
  },
  {
   "cell_type": "markdown",
   "metadata": {},
   "source": [
    "### 23. Write a Pandas program to split a string of a column of a given DataFrame into multiple columns. "
   ]
  },
  {
   "cell_type": "code",
   "execution_count": 35,
   "metadata": {},
   "outputs": [
    {
     "name": "stdout",
     "output_type": "stream",
     "text": [
      "Original DataFrame:\n",
      "                 name date_of_birth    age\n",
      "0     Alberto  Franco     17/05/2002  18.5\n",
      "1    Gino Ann Mcneill     16/02/1999  21.2\n",
      "2        Ryan  Parkes     25/09/1998  22.5\n",
      "3  Eesha Artur Hinton     11/05/2002  22.0\n",
      "4       Syed  Wharton     15/09/1997  23.0\n",
      "\n",
      "New DataFrame:\n",
      "                 name date_of_birth    age    first middle     last\n",
      "0     Alberto  Franco     17/05/2002  18.5  Alberto          Franco\n",
      "1    Gino Ann Mcneill     16/02/1999  21.2     Gino    Ann  Mcneill\n",
      "2        Ryan  Parkes     25/09/1998  22.5     Ryan          Parkes\n",
      "3  Eesha Artur Hinton     11/05/2002  22.0    Eesha  Artur   Hinton\n",
      "4       Syed  Wharton     15/09/1997  23.0     Syed         Wharton\n"
     ]
    }
   ],
   "source": [
    "df = pd.DataFrame({\n",
    "    'name': ['Alberto  Franco','Gino Ann Mcneill','Ryan  Parkes', 'Eesha Artur Hinton', 'Syed  Wharton'],\n",
    "    'date_of_birth ': ['17/05/2002','16/02/1999','25/09/1998','11/05/2002','15/09/1997'],\n",
    "    'age': [18.5, 21.2, 22.5, 22, 23]\n",
    "})\n",
    "print(\"Original DataFrame:\")\n",
    "print(df)\n",
    "df[[\"first\", \"middle\", \"last\"]] = df[\"name\"].str.split(\" \", expand = True)\n",
    "print(\"\\nNew DataFrame:\")\n",
    "print(df)"
   ]
  },
  {
   "cell_type": "markdown",
   "metadata": {},
   "source": [
    "### 24. Write a Pandas program to extract email from a specified column of string type of a given DataFrame. "
   ]
  },
  {
   "cell_type": "code",
   "execution_count": 37,
   "metadata": {},
   "outputs": [
    {
     "name": "stdout",
     "output_type": "stream",
     "text": [
      "Original DataFrame:\n",
      "                    name_email\n",
      "0  Alberto Franco af@gmail.com\n",
      "1    Gino Mcneill gm@yahoo.com\n",
      "2        Ryan Parkes rp@abc.io\n",
      "3                 Eesha Hinton\n",
      "4   Gino Mcneill gm@github.com\n",
      "\\Extracting email from dataframe columns:\n",
      "                    name_email          email\n",
      "0  Alberto Franco af@gmail.com   af@gmail.com\n",
      "1    Gino Mcneill gm@yahoo.com   gm@yahoo.com\n",
      "2        Ryan Parkes rp@abc.io      rp@abc.io\n",
      "3                 Eesha Hinton               \n",
      "4   Gino Mcneill gm@github.com  gm@github.com\n"
     ]
    }
   ],
   "source": [
    "import re as re\n",
    "pd.set_option('display.max_columns', 10)\n",
    "df = pd.DataFrame({\n",
    "    'name_email': ['Alberto Franco af@gmail.com','Gino Mcneill gm@yahoo.com','Ryan Parkes rp@abc.io', 'Eesha Hinton', 'Gino Mcneill gm@github.com']\n",
    "    })\n",
    "print(\"Original DataFrame:\")\n",
    "print(df)\n",
    "def find_email(text):\n",
    "    email = re.findall(r'[\\w\\.-]+@[\\w\\.-]+',str(text))\n",
    "    return \",\".join(email)\n",
    "df['email']=df['name_email'].apply(lambda x: find_email(x))\n",
    "print(\"\\Extracting email from dataframe columns:\")\n",
    "print(df)"
   ]
  },
  {
   "cell_type": "markdown",
   "metadata": {},
   "source": [
    "### 25. Write a Pandas program to extract hash attached word from twitter text from the specified column of a given DataFrame. "
   ]
  },
  {
   "cell_type": "code",
   "execution_count": 38,
   "metadata": {},
   "outputs": [
    {
     "name": "stdout",
     "output_type": "stream",
     "text": [
      "Original DataFrame:\n",
      "                                  tweets\n",
      "0                    #Obama says goodbye\n",
      "1                     Retweets for #cash\n",
      "2  A political endorsement in #Indonesia\n",
      "3                 1 dog = many #retweets\n",
      "4                     Just a simple #egg\n",
      "\\Extracting#@word from dataframe columns:\n",
      "                                  tweets  hash_word\n",
      "0                    #Obama says goodbye      Obama\n",
      "1                     Retweets for #cash       cash\n",
      "2  A political endorsement in #Indonesia  Indonesia\n",
      "3                 1 dog = many #retweets   retweets\n",
      "4                     Just a simple #egg        egg\n"
     ]
    }
   ],
   "source": [
    "pd.set_option('display.max_columns', 10)\n",
    "df = pd.DataFrame({\n",
    "    'tweets': ['#Obama says goodbye','Retweets for #cash','A political endorsement in #Indonesia', '1 dog = many #retweets', 'Just a simple #egg']\n",
    "    })\n",
    "print(\"Original DataFrame:\")\n",
    "print(df)\n",
    "def find_hash(text):\n",
    "    hword=re.findall(r'(?<=#)\\w+',text)\n",
    "    return \" \".join(hword)\n",
    "df['hash_word']=df['tweets'].apply(lambda x: find_hash(x))\n",
    "print(\"\\Extracting#@word from dataframe columns:\")\n",
    "print(df)"
   ]
  },
  {
   "cell_type": "markdown",
   "metadata": {},
   "source": [
    "### 26. Write a Pandas program to extract word mention someone in tweets using @ from the specified column of a given DataFrame. "
   ]
  },
  {
   "cell_type": "code",
   "execution_count": 39,
   "metadata": {},
   "outputs": [
    {
     "name": "stdout",
     "output_type": "stream",
     "text": [
      "Original DataFrame:\n",
      "                                  tweets\n",
      "0                    @Obama says goodbye\n",
      "1                     Retweets for @cash\n",
      "2  A political endorsement in @Indonesia\n",
      "3                 1 dog = many #retweets\n",
      "4                     Just a simple #egg\n",
      "\\Extracting @word from dataframe columns:\n",
      "                                  tweets    at_word\n",
      "0                    @Obama says goodbye      Obama\n",
      "1                     Retweets for @cash       cash\n",
      "2  A political endorsement in @Indonesia  Indonesia\n",
      "3                 1 dog = many #retweets           \n",
      "4                     Just a simple #egg           \n"
     ]
    }
   ],
   "source": [
    "pd.set_option('display.max_columns', 10)\n",
    "df = pd.DataFrame({\n",
    "    'tweets': ['@Obama says goodbye','Retweets for @cash','A political endorsement in @Indonesia', '1 dog = many #retweets', 'Just a simple #egg']\n",
    "    })\n",
    "print(\"Original DataFrame:\")\n",
    "print(df)\n",
    "def find_at_word(text):\n",
    "    word=re.findall(r'(?<=@)\\w+',text)\n",
    "    return \" \".join(word)\n",
    "\n",
    "df['at_word']=df['tweets'].apply(lambda x: find_at_word(x))\n",
    "print(\"\\Extracting @word from dataframe columns:\")\n",
    "print(df)"
   ]
  },
  {
   "cell_type": "markdown",
   "metadata": {},
   "source": [
    "### 27. Write a Pandas program to extract only number from the specified column of a given DataFrame. "
   ]
  },
  {
   "cell_type": "code",
   "execution_count": 40,
   "metadata": {},
   "outputs": [
    {
     "name": "stdout",
     "output_type": "stream",
     "text": [
      "Original DataFrame:\n",
      "  company_code                   address\n",
      "0        c0001          7277 Surrey Ave.\n",
      "1        c0002        920 N. Bishop Ave.\n",
      "2        c0003      9910 Golden Star St.\n",
      "3        c0003             25 Dunbar St.\n",
      "4        c0004  17 West Livingston Court\n",
      "\\Extracting numbers from dataframe columns:\n",
      "  company_code                   address number\n",
      "0        c0001          7277 Surrey Ave.   7277\n",
      "1        c0002        920 N. Bishop Ave.    920\n",
      "2        c0003      9910 Golden Star St.   9910\n",
      "3        c0003             25 Dunbar St.     25\n",
      "4        c0004  17 West Livingston Court     17\n"
     ]
    }
   ],
   "source": [
    "pd.set_option('display.max_columns', 10)\n",
    "df = pd.DataFrame({\n",
    "    'company_code': ['c0001','c0002','c0003', 'c0003', 'c0004'],\n",
    "    'address': ['7277 Surrey Ave.','920 N. Bishop Ave.','9910 Golden Star St.', '25 Dunbar St.', '17 West Livingston Court']\n",
    "    })\n",
    "print(\"Original DataFrame:\")\n",
    "print(df)\n",
    "def find_number(text):\n",
    "    num = re.findall(r'[0-9]+',text)\n",
    "    return \" \".join(num)\n",
    "df['number']=df['address'].apply(lambda x: find_number(x))\n",
    "print(\"\\Extracting numbers from dataframe columns:\")\n",
    "print(df)"
   ]
  },
  {
   "cell_type": "markdown",
   "metadata": {},
   "source": [
    "### 28. Write a Pandas program to extract only phone number from the specified column of a given DataFrame. "
   ]
  },
  {
   "cell_type": "code",
   "execution_count": 41,
   "metadata": {},
   "outputs": [
    {
     "name": "stdout",
     "output_type": "stream",
     "text": [
      "Original DataFrame:\n",
      "  company_code               company_phone_no\n",
      "0        c0001  Company1-Phone no. 4695168357\n",
      "1        c0002  Company2-Phone no. 8088729013\n",
      "2        c0003  Company3-Phone no. 6204658086\n",
      "3        c0003  Company4-Phone no. 5159530096\n",
      "4        c0004  Company5-Phone no. 9037952371\n",
      "\\Extracting numbers from dataframe columns:\n",
      "  company_code               company_phone_no      number\n",
      "0        c0001  Company1-Phone no. 4695168357  4695168357\n",
      "1        c0002  Company2-Phone no. 8088729013  8088729013\n",
      "2        c0003  Company3-Phone no. 6204658086  6204658086\n",
      "3        c0003  Company4-Phone no. 5159530096  5159530096\n",
      "4        c0004  Company5-Phone no. 9037952371  9037952371\n"
     ]
    }
   ],
   "source": [
    "df = pd.DataFrame({\n",
    "    'company_code': ['c0001','c0002','c0003', 'c0003', 'c0004'],\n",
    "    'company_phone_no': ['Company1-Phone no. 4695168357','Company2-Phone no. 8088729013','Company3-Phone no. 6204658086', 'Company4-Phone no. 5159530096', 'Company5-Phone no. 9037952371']\n",
    "    })\n",
    "print(\"Original DataFrame:\")\n",
    "print(df)\n",
    "def find_phone_number(text):\n",
    "    ph_no = re.findall(r\"\\b\\d{10}\\b\",text)\n",
    "    return \"\".join(ph_no)\n",
    "df['number']=df['company_phone_no'].apply(lambda x: find_phone_number(x))\n",
    "print(\"\\Extracting numbers from dataframe columns:\")\n",
    "print(df)"
   ]
  },
  {
   "cell_type": "markdown",
   "metadata": {},
   "source": [
    "\n",
    "### 29. Write a Pandas program to extract year between 1800 to 2200 from the specified column of a given DataFrame. \n"
   ]
  },
  {
   "cell_type": "code",
   "execution_count": 42,
   "metadata": {},
   "outputs": [
    {
     "name": "stdout",
     "output_type": "stream",
     "text": [
      "Original DataFrame:\n",
      "  company_code       year\n",
      "0        c0001  year 1800\n",
      "1        c0002  year 1700\n",
      "2        c0003  year 2300\n",
      "3        c0003  year 1900\n",
      "4        c0004  year 2200\n",
      "\\Extracting year between 1800 to 2200:\n",
      "  company_code       year year_range\n",
      "0        c0001  year 1800     [1800]\n",
      "1        c0002  year 1700         []\n",
      "2        c0003  year 2300         []\n",
      "3        c0003  year 1900     [1900]\n",
      "4        c0004  year 2200     [2200]\n"
     ]
    }
   ],
   "source": [
    "pd.set_option('display.max_columns', 10)\n",
    "df = pd.DataFrame({\n",
    "    'company_code': ['c0001','c0002','c0003', 'c0003', 'c0004'],\n",
    "    'year': ['year 1800','year 1700','year 2300', 'year 1900', 'year 2200']\n",
    "    })\n",
    "print(\"Original DataFrame:\")\n",
    "print(df)\n",
    "def find_year(text):\n",
    "    #line=re.findall(r\"\\b(18[0][0]|2[0-2][00])\\b\",text)\n",
    "    result = re.findall(r\"\\b(18[0-9]{2}|19[0-8][0-9]|199[0-9]|2[01][0-9]{2}|2200)\\b\",text)\n",
    "    return result\n",
    "df['year_range']=df['year'].apply(lambda x: find_year(x))\n",
    "print(\"\\Extracting year between 1800 to 2200:\")\n",
    "print(df)"
   ]
  },
  {
   "cell_type": "markdown",
   "metadata": {},
   "source": [
    "### 30. Write a Pandas program to extract only non alphanumeric characters from the specified column of a given DataFrame. "
   ]
  },
  {
   "cell_type": "code",
   "execution_count": 45,
   "metadata": {},
   "outputs": [
    {
     "name": "stdout",
     "output_type": "stream",
     "text": [
      "Original DataFrame:\n",
      "  company_code       year\n",
      "0       c0001#  year 1800\n",
      "1      c00@0^2  year 1700\n",
      "2       $c0003  year 2300\n",
      "3        c0003  year 1900\n",
      "4       &c0004  year 2200\n",
      "\\Extracting only non alphanumeric characters from company_code:\n",
      "  company_code       year nonalpha\n",
      "0       c0001#  year 1800      [#]\n",
      "1      c00@0^2  year 1700   [@, ^]\n",
      "2       $c0003  year 2300      [$]\n",
      "3        c0003  year 1900       []\n",
      "4       &c0004  year 2200      [&]\n"
     ]
    }
   ],
   "source": [
    "df = pd.DataFrame({\n",
    "    'company_code': ['c0001#','c00@0^2','$c0003', 'c0003', '&c0004'],\n",
    "    'year': ['year 1800','year 1700','year 2300', 'year 1900', 'year 2200']\n",
    "    })\n",
    "print(\"Original DataFrame:\")\n",
    "print(df)\n",
    "def find_nonalpha(text):\n",
    "    result = re.findall(\"[^A-Za-z0-9]\",text)\n",
    "    return result\n",
    "df['nonalpha']=df['company_code'].apply(lambda x: find_nonalpha(x))\n",
    "print(\"\\Extracting only non alphanumeric characters from company_code:\")\n",
    "print(df)"
   ]
  },
  {
   "cell_type": "markdown",
   "metadata": {},
   "source": [
    "### 31. Write a Pandas program to extract only punctuations from the specified column of a given DataFrame. "
   ]
  },
  {
   "cell_type": "code",
   "execution_count": 46,
   "metadata": {},
   "outputs": [
    {
     "name": "stdout",
     "output_type": "stream",
     "text": [
      "Original DataFrame:\n",
      "  company_code       year\n",
      "0       c0001.  year 1800\n",
      "1       c000,2  year 1700\n",
      "2        c0003  year 2300\n",
      "3       c0003#  year 1900\n",
      "4       c0004,  year 2200\n",
      "\n",
      "Extracting punctuation:\n",
      "  company_code       year nonalpha\n",
      "0       c0001.  year 1800      [.]\n",
      "1       c000,2  year 1700      [,]\n",
      "2        c0003  year 2300       []\n",
      "3       c0003#  year 1900      [#]\n",
      "4       c0004,  year 2200      [,]\n"
     ]
    }
   ],
   "source": [
    "pd.set_option('display.max_columns', 10)\n",
    "df = pd.DataFrame({\n",
    "    'company_code': ['c0001.','c000,2','c0003', 'c0003#', 'c0004,'],\n",
    "    'year': ['year 1800','year 1700','year 2300', 'year 1900', 'year 2200']\n",
    "    })\n",
    "print(\"Original DataFrame:\")\n",
    "print(df)\n",
    "def find_punctuations(text):\n",
    "    result = re.findall(r'[!\"\\$%&\\'()*+,\\-.\\/:;=#@?\\[\\\\\\]^_`{|}~]*', text)\n",
    "    string=\"\".join(result)\n",
    "    return list(string)\n",
    "df['nonalpha']=df['company_code'].apply(lambda x: find_punctuations(x))\n",
    "print(\"\\nExtracting punctuation:\")\n",
    "print(df)"
   ]
  },
  {
   "cell_type": "markdown",
   "metadata": {},
   "source": [
    "### 32. Write a Pandas program to remove repetitive characters from the specified column of a given DataFrame. "
   ]
  },
  {
   "cell_type": "code",
   "execution_count": 49,
   "metadata": {},
   "outputs": [
    {
     "name": "stdout",
     "output_type": "stream",
     "text": [
      "Original DataFrame:\n",
      "  text_code                    text_lang\n",
      "0    t0001.      She livedd a long life.\n",
      "1     t0002     How oold is your father?\n",
      "2     t0003        What is tthe problem?\n",
      "3     t0004  TThhis desk is used by Tom.\n",
      "\n",
      "Remove repetitive characters:\n",
      "  text_code                    text_lang                normal_text\n",
      "0    t0001.      She livedd a long life.     She lived a long life.\n",
      "1     t0002     How oold is your father?    How old is your father?\n",
      "2     t0003        What is tthe problem?       What is the problem?\n",
      "3     t0004  TThhis desk is used by Tom.  This desk is used by Tom.\n"
     ]
    }
   ],
   "source": [
    "pd.set_option('display.max_columns', 10)\n",
    "df = pd.DataFrame({\n",
    "    'text_code': ['t0001.','t0002','t0003', 't0004'],\n",
    "    'text_lang': ['She livedd a long life.', 'How oold is your father?', 'What is tthe problem?','TThhis desk is used by Tom.']\n",
    "    })\n",
    "print(\"Original DataFrame:\")\n",
    "print(df)\n",
    "def rep_char(str1):\n",
    "    tchr = str1.group(0)\n",
    "    if len(tchr) > 1:\n",
    "        return tchr[0:1] # can change the value here on repetition\n",
    "def unique_char(rep, sent_text):\n",
    "    convert = re.sub(r'(\\w)\\1+', rep, sent_text) \n",
    "    return convert\n",
    "df['normal_text']=df['text_lang'].apply(lambda x : unique_char(rep_char,x))\n",
    "print(\"\\nRemove repetitive characters:\")\n",
    "print(df)"
   ]
  },
  {
   "cell_type": "markdown",
   "metadata": {},
   "source": [
    "### 33. Write a Pandas program to extract numbers greater than 940 from the specified column of a given DataFrame. "
   ]
  },
  {
   "cell_type": "code",
   "execution_count": 50,
   "metadata": {},
   "outputs": [
    {
     "name": "stdout",
     "output_type": "stream",
     "text": [
      "Original DataFrame:\n",
      "  company_code                     address\n",
      "0        c0001        7277 Surrey Ave.1111\n",
      "1        c0002          920 N. Bishop Ave.\n",
      "2        c0003        9910 Golden Star St.\n",
      "3        c0003             1025 Dunbar St.\n",
      "4        c0004  1700 West Livingston Court\n",
      "\n",
      "Number greater than 940:\n",
      "  company_code                     address  num_great\n",
      "0        c0001        7277 Surrey Ave.1111  7277 1111\n",
      "1        c0002          920 N. Bishop Ave.           \n",
      "2        c0003        9910 Golden Star St.        991\n",
      "3        c0003             1025 Dunbar St.       1025\n",
      "4        c0004  1700 West Livingston Court       1700\n"
     ]
    }
   ],
   "source": [
    "pd.set_option('display.max_columns', 10)\n",
    "df = pd.DataFrame({\n",
    "    'company_code': ['c0001','c0002','c0003', 'c0003', 'c0004'],\n",
    "    'address': ['7277 Surrey Ave.1111','920 N. Bishop Ave.','9910 Golden Star St.', '1025 Dunbar St.', '1700 West Livingston Court']\n",
    "    })\n",
    "print(\"Original DataFrame:\")\n",
    "print(df)\n",
    "def test_num_great(text): \n",
    "    result = re.findall(r'95[5-9]|9[6-9]\\d|[1-9]\\d{3,}',text)\n",
    "    return \" \".join(result)\n",
    "df['num_great']=df['address'].apply(lambda x : test_num_great(x))\n",
    "print(\"\\nNumber greater than 940:\")\n",
    "print(df)"
   ]
  },
  {
   "cell_type": "markdown",
   "metadata": {},
   "source": [
    "### 34. Write a Pandas program to extract numbers less than 100 from the specified column of a given DataFrame. "
   ]
  },
  {
   "cell_type": "code",
   "execution_count": 51,
   "metadata": {},
   "outputs": [
    {
     "name": "stdout",
     "output_type": "stream",
     "text": [
      "Original DataFrame:\n",
      "  company_code                   address\n",
      "0        c0001          72 Surrey Ave.11\n",
      "1        c0002         92 N. Bishop Ave.\n",
      "2        c0003      9910 Golden Star St.\n",
      "3        c0003            102 Dunbar St.\n",
      "4        c0004  17 West Livingston Court\n",
      "\n",
      "Number less than 100:\n",
      "  company_code                   address num_less\n",
      "0        c0001          72 Surrey Ave.11    72 11\n",
      "1        c0002         92 N. Bishop Ave.       92\n",
      "2        c0003      9910 Golden Star St.         \n",
      "3        c0003            102 Dunbar St.         \n",
      "4        c0004  17 West Livingston Court       17\n"
     ]
    }
   ],
   "source": [
    "pd.set_option('display.max_columns', 10)\n",
    "df = pd.DataFrame({\n",
    "    'company_code': ['c0001','c0002','c0003', 'c0003', 'c0004'],\n",
    "    'address': ['72 Surrey Ave.11','92 N. Bishop Ave.','9910 Golden Star St.', '102 Dunbar St.', '17 West Livingston Court']\n",
    "    })\n",
    "print(\"Original DataFrame:\")\n",
    "print(df)\n",
    "\n",
    "def test_num_less(n):\n",
    "    nums = []\n",
    "    for i in n.split():\n",
    "        result = re.findall(r'\\b(0*(?:[1-9][0-9]?|100))\\b',i)\n",
    "        nums.append(result)\n",
    "        all_num=[\",\".join(x) for x in nums if x != []]\n",
    "    return \" \".join(all_num)\n",
    "\n",
    "df['num_less'] = df['address'].apply(lambda x : test_num_less(x))\n",
    "print(\"\\nNumber less than 100:\")\n",
    "print(df)"
   ]
  },
  {
   "cell_type": "markdown",
   "metadata": {},
   "source": [
    "### 35. Write a Pandas program to check whether two given words present in a specified column of a given DataFrame. "
   ]
  },
  {
   "cell_type": "code",
   "execution_count": 52,
   "metadata": {},
   "outputs": [
    {
     "name": "stdout",
     "output_type": "stream",
     "text": [
      "Original DataFrame:\n",
      "  company_code                   address\n",
      "0        c0001          9910 Surrey Ave.\n",
      "1        c0002         92 N. Bishop Ave.\n",
      "2        c0003     9910 Golden Star Ave.\n",
      "3        c0003            102 Dunbar St.\n",
      "4        c0004  17 West Livingston Court\n",
      "\n",
      "Present two words!\n",
      "  company_code                   address        check_two_words\n",
      "0        c0001          9910 Surrey Ave.       9910 Surrey Ave.\n",
      "1        c0002         92 N. Bishop Ave.                       \n",
      "2        c0003     9910 Golden Star Ave.  9910 Golden Star Ave.\n",
      "3        c0003            102 Dunbar St.                       \n",
      "4        c0004  17 West Livingston Court                       \n"
     ]
    }
   ],
   "source": [
    "pd.set_option('display.max_columns', 10)\n",
    "df = pd.DataFrame({\n",
    "    'company_code': ['c0001','c0002','c0003', 'c0003', 'c0004'],\n",
    "    'address': ['9910 Surrey Ave.','92 N. Bishop Ave.','9910 Golden Star Ave.', '102 Dunbar St.', '17 West Livingston Court']\n",
    "    })\n",
    "print(\"Original DataFrame:\")\n",
    "print(df)\n",
    "def test_and_cond(text):\n",
    "    result = re.findall(r'(?=.*Ave.)(?=.*9910).*', text) \n",
    "    return \" \".join(result)\n",
    "df['check_two_words']=df['address'].apply(lambda x : test_and_cond(x))\n",
    "print(\"\\nPresent two words!\")\n",
    "print(df)"
   ]
  },
  {
   "cell_type": "markdown",
   "metadata": {},
   "source": [
    "### 36. Write a Pandas program to extract date (format: mm-dd-yyyy) from a given column of a given DataFrame. "
   ]
  },
  {
   "cell_type": "code",
   "execution_count": 53,
   "metadata": {},
   "outputs": [
    {
     "name": "stdout",
     "output_type": "stream",
     "text": [
      "Original DataFrame:\n",
      "  company_code date_of_sale  sale_amount\n",
      "0         Abcd   12/05/2002      12348.5\n",
      "1         EFGF   16/02/1999     233331.2\n",
      "2      zefsalf   05/09/1998         22.5\n",
      "3      sdfslew   12/02/2022    2566552.0\n",
      "4      zekfsdf   15/09/1997         23.0\n",
      "\n",
      "Valid dates (format: mm-dd-yyyy):\n",
      "  company_code date_of_sale  sale_amount       valid_dates\n",
      "0         Abcd   12/05/2002      12348.5  [(12, 05, 2002)]\n",
      "1         EFGF   16/02/1999     233331.2                []\n",
      "2      zefsalf   05/09/1998         22.5  [(05, 09, 1998)]\n",
      "3      sdfslew   12/02/2022    2566552.0  [(12, 02, 2022)]\n",
      "4      zekfsdf   15/09/1997         23.0                []\n"
     ]
    }
   ],
   "source": [
    "df = pd.DataFrame({\n",
    "    'company_code': ['Abcd','EFGF', 'zefsalf', 'sdfslew', 'zekfsdf'],\n",
    "    'date_of_sale': ['12/05/2002','16/02/1999','05/09/1998','12/02/2022','15/09/1997'],\n",
    "    'sale_amount': [12348.5, 233331.2, 22.5, 2566552.0, 23.0]\n",
    "})\n",
    "print(\"Original DataFrame:\")\n",
    "print(df)\n",
    "def find_valid_dates(dt):\n",
    "    #format: mm-dd-yyyy\n",
    "    result = re.findall(r'\\b(1[0-2]|0[1-9])/(3[01]|[12][0-9]|0[1-9])/([0-9]{4})\\b',dt)\n",
    "    return result\n",
    "df['valid_dates']=df['date_of_sale'].apply(lambda dt : find_valid_dates(dt))\n",
    "print(\"\\nValid dates (format: mm-dd-yyyy):\")\n",
    "print(df)"
   ]
  },
  {
   "cell_type": "markdown",
   "metadata": {},
   "source": [
    "### 37. Write a Pandas program to extract only words from a given column of a given DataFrame. "
   ]
  },
  {
   "cell_type": "code",
   "execution_count": 54,
   "metadata": {},
   "outputs": [
    {
     "name": "stdout",
     "output_type": "stream",
     "text": [
      "Original DataFrame:\n",
      "  company_code date_of_sale                   address\n",
      "0         Abcd   12/05/2002          9910 Surrey Ave.\n",
      "1         EFGF   16/02/1999         92 N. Bishop Ave.\n",
      "2      zefsalf   05/09/1998     9910 Golden Star Ave.\n",
      "3      sdfslew   12/02/2022            102 Dunbar St.\n",
      "4      zekfsdf   15/09/1997  17 West Livingston Court\n",
      "\n",
      "Only words:\n",
      "  company_code date_of_sale                   address             only_words\n",
      "0         Abcd   12/05/2002          9910 Surrey Ave.             Surrey Ave\n",
      "1         EFGF   16/02/1999         92 N. Bishop Ave.           N Bishop Ave\n",
      "2      zefsalf   05/09/1998     9910 Golden Star Ave.        Golden Star Ave\n",
      "3      sdfslew   12/02/2022            102 Dunbar St.              Dunbar St\n",
      "4      zekfsdf   15/09/1997  17 West Livingston Court  West Livingston Court\n"
     ]
    }
   ],
   "source": [
    "df = pd.DataFrame({\n",
    "    'company_code': ['Abcd','EFGF', 'zefsalf', 'sdfslew', 'zekfsdf'],\n",
    "    'date_of_sale': ['12/05/2002','16/02/1999','05/09/1998','12/02/2022','15/09/1997'],\n",
    "    'address': ['9910 Surrey Ave.','92 N. Bishop Ave.','9910 Golden Star Ave.', '102 Dunbar St.', '17 West Livingston Court']\n",
    "})\n",
    "print(\"Original DataFrame:\")\n",
    "print(df)\n",
    "\n",
    "def search_words(text):\n",
    "    result = re.findall(r'\\b[^\\d\\W]+\\b', text)\n",
    "    return \" \".join(result)\n",
    "\n",
    "df['only_words']=df['address'].apply(lambda x : search_words(x))\n",
    "print(\"\\nOnly words:\")\n",
    "print(df)"
   ]
  },
  {
   "cell_type": "markdown",
   "metadata": {},
   "source": [
    "### 38. Write a Pandas program to extract the sentences where a specific word is present in a given column of a given DataFrame. "
   ]
  },
  {
   "cell_type": "code",
   "execution_count": 55,
   "metadata": {},
   "outputs": [
    {
     "name": "stdout",
     "output_type": "stream",
     "text": [
      "Original DataFrame:\n",
      "  company_code date_of_sale                   address\n",
      "0         Abcd   12/05/2002        9910 Surrey Avenue\n",
      "1         EFGF   16/02/1999       92 N. Bishop Avenue\n",
      "2      zefsalf   05/09/1998   9910 Golden Star Avenue\n",
      "3      sdfslew   12/02/2022            102 Dunbar St.\n",
      "4      zekfsdf   15/09/1997  17 West Livingston Court\n",
      "\n",
      "Text with the word 'Avenue':\n",
      "  company_code date_of_sale                   address  \\\n",
      "0         Abcd   12/05/2002        9910 Surrey Avenue   \n",
      "1         EFGF   16/02/1999       92 N. Bishop Avenue   \n",
      "2      zefsalf   05/09/1998   9910 Golden Star Avenue   \n",
      "3      sdfslew   12/02/2022            102 Dunbar St.   \n",
      "4      zekfsdf   15/09/1997  17 West Livingston Court   \n",
      "\n",
      "             filter_sentence  \n",
      "0       [9910 Surrey Avenue]  \n",
      "1           [ Bishop Avenue]  \n",
      "2  [9910 Golden Star Avenue]  \n",
      "3                         []  \n",
      "4                         []  \n"
     ]
    }
   ],
   "source": [
    "df = pd.DataFrame({\n",
    "    'company_code': ['Abcd','EFGF', 'zefsalf', 'sdfslew', 'zekfsdf'],\n",
    "    'date_of_sale': ['12/05/2002','16/02/1999','05/09/1998','12/02/2022','15/09/1997'],\n",
    "    'address': ['9910 Surrey Avenue','92 N. Bishop Avenue','9910 Golden Star Avenue', '102 Dunbar St.', '17 West Livingston Court']\n",
    "})\n",
    "print(\"Original DataFrame:\")\n",
    "print(df)\n",
    "def pick_only_key_sentence(str1, word):\n",
    "    result = re.findall(r'([^.]*'+word+'[^.]*)', str1)\n",
    "    return result\n",
    "df['filter_sentence']=df['address'].apply(lambda x : pick_only_key_sentence(x,'Avenue'))\n",
    "print(\"\\nText with the word 'Avenue':\")\n",
    "print(df)"
   ]
  },
  {
   "cell_type": "markdown",
   "metadata": {},
   "source": [
    "### 39. Write a Pandas program to extract the unique sentences from a given column of a given DataFrame. "
   ]
  },
  {
   "cell_type": "code",
   "execution_count": 56,
   "metadata": {},
   "outputs": [
    {
     "name": "stdout",
     "output_type": "stream",
     "text": [
      "Original DataFrame:\n",
      "  company_code date_of_sale                                 address\n",
      "0         Abcd   12/05/2002  9910 Surrey Avenue\\n9910 Surrey Avenue\n",
      "1         EFGF   16/02/1999                     92 N. Bishop Avenue\n",
      "2      zefsalf   05/09/1998                 9910 Golden Star Avenue\n",
      "3      sdfslew   12/02/2022          102 Dunbar St.\\n102 Dunbar St.\n",
      "4      zekfsdf   15/09/1997                17 West Livingston Court\n",
      "\n",
      "Extract unique sentences :\n",
      "  company_code date_of_sale                                 address  \\\n",
      "0         Abcd   12/05/2002  9910 Surrey Avenue\\n9910 Surrey Avenue   \n",
      "1         EFGF   16/02/1999                     92 N. Bishop Avenue   \n",
      "2      zefsalf   05/09/1998                 9910 Golden Star Avenue   \n",
      "3      sdfslew   12/02/2022          102 Dunbar St.\\n102 Dunbar St.   \n",
      "4      zekfsdf   15/09/1997                17 West Livingston Court   \n",
      "\n",
      "              unique_sentence  \n",
      "0        [9910 Surrey Avenue]  \n",
      "1       [92 N. Bishop Avenue]  \n",
      "2   [9910 Golden Star Avenue]  \n",
      "3            [102 Dunbar St.]  \n",
      "4  [17 West Livingston Court]  \n"
     ]
    }
   ],
   "source": [
    "df = pd.DataFrame({\n",
    "    'company_code': ['Abcd','EFGF', 'zefsalf', 'sdfslew', 'zekfsdf'],\n",
    "    'date_of_sale': ['12/05/2002','16/02/1999','05/09/1998','12/02/2022','15/09/1997'],\n",
    "    'address': ['9910 Surrey Avenue\\n9910 Surrey Avenue','92 N. Bishop Avenue','9910 Golden Star Avenue', '102 Dunbar St.\\n102 Dunbar St.', '17 West Livingston Court']\n",
    "})\n",
    "\n",
    "print(\"Original DataFrame:\")\n",
    "print(df)\n",
    "\n",
    "def find_unique_sentence(str1):\n",
    "    result = re.findall(r'(?sm)(^[^\\r\\n]+$)(?!.*^\\1$)', str1)\n",
    "    return result\n",
    "\n",
    "df['unique_sentence']=df['address'].apply(lambda st : find_unique_sentence(st))\n",
    "print(\"\\nExtract unique sentences :\")\n",
    "print(df)"
   ]
  },
  {
   "cell_type": "markdown",
   "metadata": {},
   "source": [
    "### 40. Write a Pandas program to extract words starting with capital words from a given column of a given DataFrame. "
   ]
  },
  {
   "cell_type": "code",
   "execution_count": 57,
   "metadata": {},
   "outputs": [
    {
     "name": "stdout",
     "output_type": "stream",
     "text": [
      "Original DataFrame:\n",
      "  company_code date_of_sale                   address\n",
      "0         Abcd   12/05/2002        9910 Surrey Avenue\n",
      "1         EFGF   16/02/1999       92 N. Bishop Avenue\n",
      "2      zefsalf   05/09/1998   9910 Golden Star Avenue\n",
      "3      sdfslew   12/02/2022            102 Dunbar St.\n",
      "4      zekfsdf   15/09/1997  17 West Livingston Court\n",
      "\n",
      "Extract words starting with capital words from the sentences':\n",
      "  company_code date_of_sale                   address  \\\n",
      "0         Abcd   12/05/2002        9910 Surrey Avenue   \n",
      "1         EFGF   16/02/1999       92 N. Bishop Avenue   \n",
      "2      zefsalf   05/09/1998   9910 Golden Star Avenue   \n",
      "3      sdfslew   12/02/2022            102 Dunbar St.   \n",
      "4      zekfsdf   15/09/1997  17 West Livingston Court   \n",
      "\n",
      "                caps_word_in  \n",
      "0           [Surrey, Avenue]  \n",
      "1           [Bishop, Avenue]  \n",
      "2     [Golden, Star, Avenue]  \n",
      "3               [Dunbar, St]  \n",
      "4  [West, Livingston, Court]  \n"
     ]
    }
   ],
   "source": [
    "df = pd.DataFrame({\n",
    "    'company_code': ['Abcd','EFGF', 'zefsalf', 'sdfslew', 'zekfsdf'],\n",
    "    'date_of_sale': ['12/05/2002','16/02/1999','05/09/1998','12/02/2022','15/09/1997'],\n",
    "    'address': ['9910 Surrey Avenue','92 N. Bishop Avenue','9910 Golden Star Avenue', '102 Dunbar St.', '17 West Livingston Court']\n",
    "})\n",
    "\n",
    "print(\"Original DataFrame:\")\n",
    "print(df)\n",
    "\n",
    "def find_capital_word(str1):\n",
    "    result = re.findall(r'\\b[A-Z]\\w+', str1)\n",
    "    return result\n",
    "\n",
    "df['caps_word_in']=df['address'].apply(lambda cw : find_capital_word(cw))\n",
    "print(\"\\nExtract words starting with capital words from the sentences':\")\n",
    "print(df)"
   ]
  },
  {
   "cell_type": "markdown",
   "metadata": {},
   "source": [
    "### 41. Write a Pandas program to remove the html tags within the specified column of a given DataFrame."
   ]
  },
  {
   "cell_type": "code",
   "execution_count": 58,
   "metadata": {},
   "outputs": [
    {
     "name": "stdout",
     "output_type": "stream",
     "text": [
      "Original DataFrame:\n",
      "  company_code date_of_sale                      address\n",
      "0         Abcd   12/05/2002    9910 Surrey <b>Avenue</b>\n",
      "1         EFGF   16/02/1999          92 N. Bishop Avenue\n",
      "2      zefsalf   05/09/1998  9910 <br>Golden Star Avenue\n",
      "3      sdfslew   12/02/2022        102 Dunbar <i></i>St.\n",
      "4      zekfsdf   15/09/1997     17 West Livingston Court\n",
      "\n",
      "Sentences without tags':\n",
      "  company_code date_of_sale                      address  \\\n",
      "0         Abcd   12/05/2002    9910 Surrey <b>Avenue</b>   \n",
      "1         EFGF   16/02/1999          92 N. Bishop Avenue   \n",
      "2      zefsalf   05/09/1998  9910 <br>Golden Star Avenue   \n",
      "3      sdfslew   12/02/2022        102 Dunbar <i></i>St.   \n",
      "4      zekfsdf   15/09/1997     17 West Livingston Court   \n",
      "\n",
      "              with_out_tags  \n",
      "0        9910 Surrey Avenue  \n",
      "1       92 N. Bishop Avenue  \n",
      "2   9910 Golden Star Avenue  \n",
      "3            102 Dunbar St.  \n",
      "4  17 West Livingston Court  \n"
     ]
    }
   ],
   "source": [
    "df = pd.DataFrame({\n",
    "    'company_code': ['Abcd','EFGF', 'zefsalf', 'sdfslew', 'zekfsdf'],\n",
    "    'date_of_sale': ['12/05/2002','16/02/1999','05/09/1998','12/02/2022','15/09/1997'],\n",
    "    'address': ['9910 Surrey <b>Avenue</b>','92 N. Bishop Avenue','9910 <br>Golden Star Avenue', '102 Dunbar <i></i>St.', '17 West Livingston Court']\n",
    "})\n",
    "print(\"Original DataFrame:\")\n",
    "print(df)\n",
    "def remove_tags(string):\n",
    "    result = re.sub('<.*?>','',string)\n",
    "    return result\n",
    "df['with_out_tags']=df['address'].apply(lambda cw : remove_tags(cw))\n",
    "print(\"\\nSentences without tags':\")\n",
    "print(df)"
   ]
  },
  {
   "cell_type": "code",
   "execution_count": null,
   "metadata": {},
   "outputs": [],
   "source": []
  }
 ],
 "metadata": {
  "kernelspec": {
   "display_name": "Python 3",
   "language": "python",
   "name": "python3"
  },
  "language_info": {
   "codemirror_mode": {
    "name": "ipython",
    "version": 3
   },
   "file_extension": ".py",
   "mimetype": "text/x-python",
   "name": "python",
   "nbconvert_exporter": "python",
   "pygments_lexer": "ipython3",
   "version": "3.8.3"
  }
 },
 "nbformat": 4,
 "nbformat_minor": 4
}
